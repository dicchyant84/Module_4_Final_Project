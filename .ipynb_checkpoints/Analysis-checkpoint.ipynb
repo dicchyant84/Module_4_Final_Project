{
 "cells": [
  {
   "cell_type": "markdown",
   "metadata": {},
   "source": [
    "### Business Case"
   ]
  },
  {
   "cell_type": "markdown",
   "metadata": {},
   "source": [
    "Apple and Google are looking to analyze what people are saying about their brand in twitter. People use twitter to share their impulsive yet honest thoughts and opinions. This can provide brands a good idea on what consumers are really feeling about their products. \n",
    "\n",
    "In order to achieve this, we will take the following steps:\n",
    "\n",
    "EDA:\n",
    "* Explore the contents of the tweet to identify the product and sentiment of the tweet.\n",
    "* Analyze the sentiments to identify common issues or contentment expressed by the user.\n",
    "* Make some meaningful recommendations to the brands that they can use to serve their customers better.\n",
    "\n",
    "Modeling:\n",
    "* Build a model that can classify the tweets into positive, negative or neutral emotions.\n",
    "* Deploy the model for production to track customer sentiments in real-time."
   ]
  },
  {
   "cell_type": "code",
   "execution_count": 1,
   "metadata": {},
   "outputs": [
    {
     "name": "stderr",
     "output_type": "stream",
     "text": [
      "[nltk_data] Downloading package averaged_perceptron_tagger to\n",
      "[nltk_data]     C:\\Users\\dicch\\AppData\\Roaming\\nltk_data...\n",
      "[nltk_data]   Package averaged_perceptron_tagger is already up-to-\n",
      "[nltk_data]       date!\n"
     ]
    }
   ],
   "source": [
    "# Import relevant packages\n",
    "\n",
    "import pandas as pd\n",
    "import numpy as np\n",
    "from numpy import random\n",
    "\n",
    "import matplotlib.pyplot as plt\n",
    "%matplotlib inline\n",
    "\n",
    "from scipy.stats import norm\n",
    "import statistics\n",
    "\n",
    "from sklearn.model_selection import train_test_split\n",
    "from sklearn.feature_selection import SelectKBest\n",
    "from sklearn.feature_extraction.text import TfidfVectorizer\n",
    "from sklearn.metrics import accuracy_score\n",
    "from sklearn.ensemble import RandomForestClassifier\n",
    "from sklearn.naive_bayes import MultinomialNB\n",
    "\n",
    "import keras\n",
    "from keras.preprocessing.text import Tokenizer\n",
    "from keras.utils.np_utils import to_categorical\n",
    "from keras.preprocessing.sequence import pad_sequences\n",
    "from keras import regularizers\n",
    "from keras.layers import Embedding\n",
    "from keras.models import Sequential\n",
    "from keras import layers\n",
    "from keras.layers import Dense\n",
    "from keras.callbacks import EarlyStopping, ModelCheckpoint\n",
    "from keras.models import load_model\n",
    "\n",
    "import nltk\n",
    "from nltk.corpus import stopwords\n",
    "import string\n",
    "from nltk import word_tokenize, FreqDist\n",
    "from nltk.collocations import *\n",
    "import nltk\n",
    "nltk.download('averaged_perceptron_tagger')\n",
    "\n",
    "from wordcloud import WordCloud"
   ]
  },
  {
   "cell_type": "markdown",
   "metadata": {},
   "source": [
    "### Dataset"
   ]
  },
  {
   "cell_type": "code",
   "execution_count": 2,
   "metadata": {},
   "outputs": [],
   "source": [
    "# Import the dataset\n",
    "\n",
    "df_raw = pd.read_csv(r'tweet_product_company.csv', encoding= 'unicode_escape')"
   ]
  },
  {
   "cell_type": "code",
   "execution_count": 3,
   "metadata": {},
   "outputs": [
    {
     "data": {
      "text/html": [
       "<div>\n",
       "<style scoped>\n",
       "    .dataframe tbody tr th:only-of-type {\n",
       "        vertical-align: middle;\n",
       "    }\n",
       "\n",
       "    .dataframe tbody tr th {\n",
       "        vertical-align: top;\n",
       "    }\n",
       "\n",
       "    .dataframe thead th {\n",
       "        text-align: right;\n",
       "    }\n",
       "</style>\n",
       "<table border=\"1\" class=\"dataframe\">\n",
       "  <thead>\n",
       "    <tr style=\"text-align: right;\">\n",
       "      <th></th>\n",
       "      <th>tweet_text</th>\n",
       "      <th>emotion_in_tweet_is_directed_at</th>\n",
       "      <th>is_there_an_emotion_directed_at_a_brand_or_product</th>\n",
       "    </tr>\n",
       "  </thead>\n",
       "  <tbody>\n",
       "    <tr>\n",
       "      <th>0</th>\n",
       "      <td>.@wesley83 I have a 3G iPhone. After 3 hrs twe...</td>\n",
       "      <td>iPhone</td>\n",
       "      <td>Negative emotion</td>\n",
       "    </tr>\n",
       "    <tr>\n",
       "      <th>1</th>\n",
       "      <td>@jessedee Know about @fludapp ? Awesome iPad/i...</td>\n",
       "      <td>iPad or iPhone App</td>\n",
       "      <td>Positive emotion</td>\n",
       "    </tr>\n",
       "    <tr>\n",
       "      <th>2</th>\n",
       "      <td>@swonderlin Can not wait for #iPad 2 also. The...</td>\n",
       "      <td>iPad</td>\n",
       "      <td>Positive emotion</td>\n",
       "    </tr>\n",
       "    <tr>\n",
       "      <th>3</th>\n",
       "      <td>@sxsw I hope this year's festival isn't as cra...</td>\n",
       "      <td>iPad or iPhone App</td>\n",
       "      <td>Negative emotion</td>\n",
       "    </tr>\n",
       "    <tr>\n",
       "      <th>4</th>\n",
       "      <td>@sxtxstate great stuff on Fri #SXSW: Marissa M...</td>\n",
       "      <td>Google</td>\n",
       "      <td>Positive emotion</td>\n",
       "    </tr>\n",
       "  </tbody>\n",
       "</table>\n",
       "</div>"
      ],
      "text/plain": [
       "                                          tweet_text  \\\n",
       "0  .@wesley83 I have a 3G iPhone. After 3 hrs twe...   \n",
       "1  @jessedee Know about @fludapp ? Awesome iPad/i...   \n",
       "2  @swonderlin Can not wait for #iPad 2 also. The...   \n",
       "3  @sxsw I hope this year's festival isn't as cra...   \n",
       "4  @sxtxstate great stuff on Fri #SXSW: Marissa M...   \n",
       "\n",
       "  emotion_in_tweet_is_directed_at  \\\n",
       "0                          iPhone   \n",
       "1              iPad or iPhone App   \n",
       "2                            iPad   \n",
       "3              iPad or iPhone App   \n",
       "4                          Google   \n",
       "\n",
       "  is_there_an_emotion_directed_at_a_brand_or_product  \n",
       "0                                   Negative emotion  \n",
       "1                                   Positive emotion  \n",
       "2                                   Positive emotion  \n",
       "3                                   Negative emotion  \n",
       "4                                   Positive emotion  "
      ]
     },
     "execution_count": 3,
     "metadata": {},
     "output_type": "execute_result"
    }
   ],
   "source": [
    "df_raw.head()"
   ]
  },
  {
   "cell_type": "code",
   "execution_count": 4,
   "metadata": {},
   "outputs": [
    {
     "data": {
      "text/plain": [
       "(9093, 3)"
      ]
     },
     "execution_count": 4,
     "metadata": {},
     "output_type": "execute_result"
    }
   ],
   "source": [
    "df_raw.shape"
   ]
  },
  {
   "cell_type": "markdown",
   "metadata": {},
   "source": [
    "### Data Understanding"
   ]
  },
  {
   "cell_type": "code",
   "execution_count": 5,
   "metadata": {},
   "outputs": [
    {
     "data": {
      "text/plain": [
       "tweet_text                                               1\n",
       "emotion_in_tweet_is_directed_at                       5802\n",
       "is_there_an_emotion_directed_at_a_brand_or_product       0\n",
       "dtype: int64"
      ]
     },
     "execution_count": 5,
     "metadata": {},
     "output_type": "execute_result"
    }
   ],
   "source": [
    "# Check for missing values\n",
    "\n",
    "df_raw.isnull().sum()"
   ]
  },
  {
   "cell_type": "markdown",
   "metadata": {},
   "source": [
    "* More than half of the values are missing in the second columns. We will create our to code to identify the product. Let's drop this column for now. \n",
    "* We will also drop the 1 missing row from our dataset."
   ]
  },
  {
   "cell_type": "code",
   "execution_count": 6,
   "metadata": {},
   "outputs": [],
   "source": [
    "df_raw.drop('emotion_in_tweet_is_directed_at', axis=1, inplace=True)"
   ]
  },
  {
   "cell_type": "code",
   "execution_count": 7,
   "metadata": {},
   "outputs": [],
   "source": [
    "df_raw.dropna(axis=0, inplace=True)"
   ]
  },
  {
   "cell_type": "code",
   "execution_count": 8,
   "metadata": {},
   "outputs": [
    {
     "data": {
      "text/plain": [
       "tweet_text                                            0\n",
       "is_there_an_emotion_directed_at_a_brand_or_product    0\n",
       "dtype: int64"
      ]
     },
     "execution_count": 8,
     "metadata": {},
     "output_type": "execute_result"
    }
   ],
   "source": [
    "df_raw.isnull().sum()"
   ]
  },
  {
   "cell_type": "markdown",
   "metadata": {},
   "source": [
    "Let's also rename the target column for ease of use."
   ]
  },
  {
   "cell_type": "code",
   "execution_count": 9,
   "metadata": {},
   "outputs": [],
   "source": [
    "df_raw.rename({'is_there_an_emotion_directed_at_a_brand_or_product':'emotion'}, axis=1, inplace=True)"
   ]
  },
  {
   "cell_type": "code",
   "execution_count": 10,
   "metadata": {},
   "outputs": [
    {
     "data": {
      "text/html": [
       "<div>\n",
       "<style scoped>\n",
       "    .dataframe tbody tr th:only-of-type {\n",
       "        vertical-align: middle;\n",
       "    }\n",
       "\n",
       "    .dataframe tbody tr th {\n",
       "        vertical-align: top;\n",
       "    }\n",
       "\n",
       "    .dataframe thead th {\n",
       "        text-align: right;\n",
       "    }\n",
       "</style>\n",
       "<table border=\"1\" class=\"dataframe\">\n",
       "  <thead>\n",
       "    <tr style=\"text-align: right;\">\n",
       "      <th></th>\n",
       "      <th>tweet_text</th>\n",
       "      <th>emotion</th>\n",
       "    </tr>\n",
       "  </thead>\n",
       "  <tbody>\n",
       "    <tr>\n",
       "      <th>0</th>\n",
       "      <td>.@wesley83 I have a 3G iPhone. After 3 hrs twe...</td>\n",
       "      <td>Negative emotion</td>\n",
       "    </tr>\n",
       "    <tr>\n",
       "      <th>1</th>\n",
       "      <td>@jessedee Know about @fludapp ? Awesome iPad/i...</td>\n",
       "      <td>Positive emotion</td>\n",
       "    </tr>\n",
       "    <tr>\n",
       "      <th>2</th>\n",
       "      <td>@swonderlin Can not wait for #iPad 2 also. The...</td>\n",
       "      <td>Positive emotion</td>\n",
       "    </tr>\n",
       "    <tr>\n",
       "      <th>3</th>\n",
       "      <td>@sxsw I hope this year's festival isn't as cra...</td>\n",
       "      <td>Negative emotion</td>\n",
       "    </tr>\n",
       "    <tr>\n",
       "      <th>4</th>\n",
       "      <td>@sxtxstate great stuff on Fri #SXSW: Marissa M...</td>\n",
       "      <td>Positive emotion</td>\n",
       "    </tr>\n",
       "  </tbody>\n",
       "</table>\n",
       "</div>"
      ],
      "text/plain": [
       "                                          tweet_text           emotion\n",
       "0  .@wesley83 I have a 3G iPhone. After 3 hrs twe...  Negative emotion\n",
       "1  @jessedee Know about @fludapp ? Awesome iPad/i...  Positive emotion\n",
       "2  @swonderlin Can not wait for #iPad 2 also. The...  Positive emotion\n",
       "3  @sxsw I hope this year's festival isn't as cra...  Negative emotion\n",
       "4  @sxtxstate great stuff on Fri #SXSW: Marissa M...  Positive emotion"
      ]
     },
     "execution_count": 10,
     "metadata": {},
     "output_type": "execute_result"
    }
   ],
   "source": [
    "df_raw.head()"
   ]
  },
  {
   "cell_type": "markdown",
   "metadata": {},
   "source": [
    "#### Target Variable"
   ]
  },
  {
   "cell_type": "code",
   "execution_count": 11,
   "metadata": {},
   "outputs": [
    {
     "data": {
      "text/plain": [
       "No emotion toward brand or product    5388\n",
       "Positive emotion                      2978\n",
       "Negative emotion                       570\n",
       "I can't tell                           156\n",
       "Name: emotion, dtype: int64"
      ]
     },
     "execution_count": 11,
     "metadata": {},
     "output_type": "execute_result"
    }
   ],
   "source": [
    "df_raw.emotion.value_counts()"
   ]
  },
  {
   "cell_type": "markdown",
   "metadata": {},
   "source": [
    "We can see that there are more unknown emotions than Positive and Negative emotions. This means that there is huge class imbalances present in the data.\n",
    "\n",
    "Furthermore:\n",
    "- The 'No emotion toward brand or product' class can be renamed to 'Neutral emotion'. \n",
    "- 'I can't tell' can be dropped as it only has 156 items."
   ]
  },
  {
   "cell_type": "code",
   "execution_count": 12,
   "metadata": {},
   "outputs": [],
   "source": [
    "# Rename neutral emotion\n",
    "\n",
    "df_raw.emotion = df_raw.emotion.map(lambda x: 'Neutral emotion' if x == 'No emotion toward brand or product' else x)"
   ]
  },
  {
   "cell_type": "code",
   "execution_count": 13,
   "metadata": {},
   "outputs": [
    {
     "data": {
      "text/plain": [
       "Neutral emotion     5388\n",
       "Positive emotion    2978\n",
       "Negative emotion     570\n",
       "I can't tell         156\n",
       "Name: emotion, dtype: int64"
      ]
     },
     "execution_count": 13,
     "metadata": {},
     "output_type": "execute_result"
    }
   ],
   "source": [
    "df_raw.emotion.value_counts()"
   ]
  },
  {
   "cell_type": "code",
   "execution_count": 14,
   "metadata": {},
   "outputs": [],
   "source": [
    "# Slice out the fourth class\n",
    "\n",
    "df_clean = df_raw[df_raw.emotion != \"I can't tell\"].copy()"
   ]
  },
  {
   "cell_type": "code",
   "execution_count": 15,
   "metadata": {},
   "outputs": [
    {
     "data": {
      "text/plain": [
       "Neutral emotion     5388\n",
       "Positive emotion    2978\n",
       "Negative emotion     570\n",
       "Name: emotion, dtype: int64"
      ]
     },
     "execution_count": 15,
     "metadata": {},
     "output_type": "execute_result"
    }
   ],
   "source": [
    "df_clean.emotion.value_counts()"
   ]
  },
  {
   "cell_type": "markdown",
   "metadata": {},
   "source": [
    "We now only have three final classes."
   ]
  },
  {
   "cell_type": "markdown",
   "metadata": {},
   "source": [
    "#### Input Variable"
   ]
  },
  {
   "cell_type": "markdown",
   "metadata": {},
   "source": [
    "Let's observe some of the tweets individually to see what kind of characters or sentence structure we are working with here."
   ]
  },
  {
   "cell_type": "code",
   "execution_count": 16,
   "metadata": {},
   "outputs": [
    {
     "data": {
      "text/plain": [
       "['.@wesley83 I have a 3G iPhone. After 3 hrs tweeting at #RISE_Austin, it was dead!  I need to upgrade. Plugin stations at #SXSW.',\n",
       " \"@jessedee Know about @fludapp ? Awesome iPad/iPhone app that you'll likely appreciate for its design. Also, they're giving free Ts at #SXSW\",\n",
       " '@swonderlin Can not wait for #iPad 2 also. They should sale them down at #SXSW.',\n",
       " \"@sxsw I hope this year's festival isn't as crashy as this year's iPhone app. #sxsw\",\n",
       " \"@sxtxstate great stuff on Fri #SXSW: Marissa Mayer (Google), Tim O'Reilly (tech books/conferences) &amp; Matt Mullenweg (Wordpress)\",\n",
       " '@teachntech00 New iPad Apps For #SpeechTherapy And Communication Are Showcased At The #SXSW Conference http://ht.ly/49n4M #iear #edchat #asd',\n",
       " '#SXSW is just starting, #CTIA is around the corner and #googleio is only a hop skip and a jump from there, good time to be an #android fan',\n",
       " 'Beautifully smart and simple idea RT @madebymany @thenextweb wrote about our #hollergram iPad app for #sxsw! http://bit.ly/ieaVOB',\n",
       " 'Counting down the days to #sxsw plus strong Canadian dollar means stock up on Apple gear',\n",
       " 'Excited to meet the @samsungmobileus at #sxsw so I can show them my Sprint Galaxy S still running Android 2.1.   #fail']"
      ]
     },
     "execution_count": 16,
     "metadata": {},
     "output_type": "execute_result"
    }
   ],
   "source": [
    "# Review sample tweets\n",
    "\n",
    "list(df_clean.tweet_text[:10])"
   ]
  },
  {
   "cell_type": "markdown",
   "metadata": {},
   "source": [
    "Looking at the first 10 tweets, we can see that:\n",
    " \n",
    "* The tweets usually have one or more twitter handles.\n",
    "* Hashtags are used before relevant keywords and the tweets also have multiple special characters.\n",
    "* The sentiments are expressed pretty clearly for each brand, which will make it easy for us to classify the data."
   ]
  },
  {
   "cell_type": "markdown",
   "metadata": {},
   "source": [
    "But first we need to reduce each tweet to contain only words for EDA and modeling."
   ]
  },
  {
   "cell_type": "markdown",
   "metadata": {},
   "source": [
    "### Data Preparation"
   ]
  },
  {
   "cell_type": "markdown",
   "metadata": {},
   "source": [
    "### Tokenize the data"
   ]
  },
  {
   "cell_type": "markdown",
   "metadata": {},
   "source": [
    "Using nltk and some code, we can easily tokenize the tweets to its simplest form."
   ]
  },
  {
   "cell_type": "code",
   "execution_count": 17,
   "metadata": {},
   "outputs": [
    {
     "name": "stderr",
     "output_type": "stream",
     "text": [
      "[nltk_data] Downloading package stopwords to\n",
      "[nltk_data]     C:\\Users\\dicch\\AppData\\Roaming\\nltk_data...\n",
      "[nltk_data]   Package stopwords is already up-to-date!\n"
     ]
    }
   ],
   "source": [
    "# Download stopwords from nltk\n",
    "\n",
    "nltk.download('stopwords')\n",
    "\n",
    "# Create a list of stopwords and add punctuation to remove them both\n",
    "stopwords_list = stopwords.words('english')\n",
    "stopwords_list += list(string.punctuation)\n",
    "\n",
    "tokenized_tweet = []\n",
    "# Loop in to access individual tweets\n",
    "for i in df_clean.index:\n",
    "    tweet = df_clean.tweet_text[i]\n",
    "        \n",
    "    # tokenize each tweet\n",
    "    pattern = \"([a-zA-Z]+(?:'[a-z]+)?)\"\n",
    "    tweet_tokens_raw = nltk.regexp_tokenize(tweet, pattern)\n",
    "        \n",
    "    # lowercase each token\n",
    "    tweet_tokens = [word.lower() for word in tweet_tokens_raw]\n",
    "        \n",
    "    # remove stopwords and punctuations\n",
    "    tweet_words_stopped = [word for word in tweet_tokens if word not in stopwords_list] \n",
    "    \n",
    "    # append the tokens into tokenized_tweets\n",
    "    tokenized_tweet.append(tweet_words_stopped)"
   ]
  },
  {
   "cell_type": "code",
   "execution_count": 18,
   "metadata": {},
   "outputs": [],
   "source": [
    "# Add the tokenized tweets back into our dataframe\n",
    "\n",
    "df_clean['tokenized_tweet'] = tokenized_tweet"
   ]
  },
  {
   "cell_type": "code",
   "execution_count": 19,
   "metadata": {},
   "outputs": [
    {
     "data": {
      "text/html": [
       "<div>\n",
       "<style scoped>\n",
       "    .dataframe tbody tr th:only-of-type {\n",
       "        vertical-align: middle;\n",
       "    }\n",
       "\n",
       "    .dataframe tbody tr th {\n",
       "        vertical-align: top;\n",
       "    }\n",
       "\n",
       "    .dataframe thead th {\n",
       "        text-align: right;\n",
       "    }\n",
       "</style>\n",
       "<table border=\"1\" class=\"dataframe\">\n",
       "  <thead>\n",
       "    <tr style=\"text-align: right;\">\n",
       "      <th></th>\n",
       "      <th>tweet_text</th>\n",
       "      <th>emotion</th>\n",
       "      <th>tokenized_tweet</th>\n",
       "    </tr>\n",
       "  </thead>\n",
       "  <tbody>\n",
       "    <tr>\n",
       "      <th>0</th>\n",
       "      <td>.@wesley83 I have a 3G iPhone. After 3 hrs twe...</td>\n",
       "      <td>Negative emotion</td>\n",
       "      <td>[wesley, g, iphone, hrs, tweeting, rise, austi...</td>\n",
       "    </tr>\n",
       "    <tr>\n",
       "      <th>1</th>\n",
       "      <td>@jessedee Know about @fludapp ? Awesome iPad/i...</td>\n",
       "      <td>Positive emotion</td>\n",
       "      <td>[jessedee, know, fludapp, awesome, ipad, iphon...</td>\n",
       "    </tr>\n",
       "    <tr>\n",
       "      <th>2</th>\n",
       "      <td>@swonderlin Can not wait for #iPad 2 also. The...</td>\n",
       "      <td>Positive emotion</td>\n",
       "      <td>[swonderlin, wait, ipad, also, sale, sxsw]</td>\n",
       "    </tr>\n",
       "    <tr>\n",
       "      <th>3</th>\n",
       "      <td>@sxsw I hope this year's festival isn't as cra...</td>\n",
       "      <td>Negative emotion</td>\n",
       "      <td>[sxsw, hope, year's, festival, crashy, year's,...</td>\n",
       "    </tr>\n",
       "    <tr>\n",
       "      <th>4</th>\n",
       "      <td>@sxtxstate great stuff on Fri #SXSW: Marissa M...</td>\n",
       "      <td>Positive emotion</td>\n",
       "      <td>[sxtxstate, great, stuff, fri, sxsw, marissa, ...</td>\n",
       "    </tr>\n",
       "  </tbody>\n",
       "</table>\n",
       "</div>"
      ],
      "text/plain": [
       "                                          tweet_text           emotion  \\\n",
       "0  .@wesley83 I have a 3G iPhone. After 3 hrs twe...  Negative emotion   \n",
       "1  @jessedee Know about @fludapp ? Awesome iPad/i...  Positive emotion   \n",
       "2  @swonderlin Can not wait for #iPad 2 also. The...  Positive emotion   \n",
       "3  @sxsw I hope this year's festival isn't as cra...  Negative emotion   \n",
       "4  @sxtxstate great stuff on Fri #SXSW: Marissa M...  Positive emotion   \n",
       "\n",
       "                                     tokenized_tweet  \n",
       "0  [wesley, g, iphone, hrs, tweeting, rise, austi...  \n",
       "1  [jessedee, know, fludapp, awesome, ipad, iphon...  \n",
       "2         [swonderlin, wait, ipad, also, sale, sxsw]  \n",
       "3  [sxsw, hope, year's, festival, crashy, year's,...  \n",
       "4  [sxtxstate, great, stuff, fri, sxsw, marissa, ...  "
      ]
     },
     "execution_count": 19,
     "metadata": {},
     "output_type": "execute_result"
    }
   ],
   "source": [
    "df_clean.head()"
   ]
  },
  {
   "cell_type": "markdown",
   "metadata": {},
   "source": [
    "We can now use the tokenized tweets to identify the brand or product mentioned in each tweet."
   ]
  },
  {
   "cell_type": "markdown",
   "metadata": {},
   "source": [
    "### Identify Brand Mentions"
   ]
  },
  {
   "cell_type": "code",
   "execution_count": 20,
   "metadata": {},
   "outputs": [],
   "source": [
    "# Create list of words/products that identify the brand\n",
    "\n",
    "apple = ['ipad', 'iphone', 'imac', 'iwatch', 'itunes', 'icloud', 'apple', 'mac', 'macbook', 'macpro']\n",
    "google = ['google']"
   ]
  },
  {
   "cell_type": "markdown",
   "metadata": {},
   "source": [
    "We will create a dictionary to populate 'Apple' and 'Google' each time the tweet mentions one of it's products. \n",
    "\n",
    "We will also use the index as keys in our dictionary so that we can match it with the tweet index later and categorize it accordingly."
   ]
  },
  {
   "cell_type": "code",
   "execution_count": 21,
   "metadata": {},
   "outputs": [],
   "source": [
    "product = {}\n",
    "for i in df_clean.index:\n",
    "    for word in df_clean.tokenized_tweet[i]:\n",
    "        if word in apple:\n",
    "            product[i] = word\n",
    "            break\n",
    "        elif word in google:\n",
    "            product[i] = 'google'\n",
    "            break"
   ]
  },
  {
   "cell_type": "markdown",
   "metadata": {},
   "source": [
    "Let's transform this into a dataframe so that we can join back with our tweet dataframe."
   ]
  },
  {
   "cell_type": "code",
   "execution_count": 22,
   "metadata": {},
   "outputs": [],
   "source": [
    "df_product = pd.DataFrame.from_dict(product, orient='index')\n",
    "df_product.rename(columns={0:'product'}, inplace=True)"
   ]
  },
  {
   "cell_type": "code",
   "execution_count": 23,
   "metadata": {},
   "outputs": [
    {
     "data": {
      "text/html": [
       "<div>\n",
       "<style scoped>\n",
       "    .dataframe tbody tr th:only-of-type {\n",
       "        vertical-align: middle;\n",
       "    }\n",
       "\n",
       "    .dataframe tbody tr th {\n",
       "        vertical-align: top;\n",
       "    }\n",
       "\n",
       "    .dataframe thead th {\n",
       "        text-align: right;\n",
       "    }\n",
       "</style>\n",
       "<table border=\"1\" class=\"dataframe\">\n",
       "  <thead>\n",
       "    <tr style=\"text-align: right;\">\n",
       "      <th></th>\n",
       "      <th>product</th>\n",
       "    </tr>\n",
       "  </thead>\n",
       "  <tbody>\n",
       "    <tr>\n",
       "      <th>0</th>\n",
       "      <td>iphone</td>\n",
       "    </tr>\n",
       "    <tr>\n",
       "      <th>1</th>\n",
       "      <td>ipad</td>\n",
       "    </tr>\n",
       "    <tr>\n",
       "      <th>2</th>\n",
       "      <td>ipad</td>\n",
       "    </tr>\n",
       "    <tr>\n",
       "      <th>3</th>\n",
       "      <td>iphone</td>\n",
       "    </tr>\n",
       "    <tr>\n",
       "      <th>4</th>\n",
       "      <td>google</td>\n",
       "    </tr>\n",
       "  </tbody>\n",
       "</table>\n",
       "</div>"
      ],
      "text/plain": [
       "  product\n",
       "0  iphone\n",
       "1    ipad\n",
       "2    ipad\n",
       "3  iphone\n",
       "4  google"
      ]
     },
     "execution_count": 23,
     "metadata": {},
     "output_type": "execute_result"
    }
   ],
   "source": [
    "df_product.head()"
   ]
  },
  {
   "cell_type": "markdown",
   "metadata": {},
   "source": [
    "Since we have matching indexes we can join the two dataframes using index as key."
   ]
  },
  {
   "cell_type": "code",
   "execution_count": 24,
   "metadata": {},
   "outputs": [],
   "source": [
    "df_clean = df_clean.join(df_product, how='inner')"
   ]
  },
  {
   "cell_type": "code",
   "execution_count": 25,
   "metadata": {},
   "outputs": [
    {
     "data": {
      "text/html": [
       "<div>\n",
       "<style scoped>\n",
       "    .dataframe tbody tr th:only-of-type {\n",
       "        vertical-align: middle;\n",
       "    }\n",
       "\n",
       "    .dataframe tbody tr th {\n",
       "        vertical-align: top;\n",
       "    }\n",
       "\n",
       "    .dataframe thead th {\n",
       "        text-align: right;\n",
       "    }\n",
       "</style>\n",
       "<table border=\"1\" class=\"dataframe\">\n",
       "  <thead>\n",
       "    <tr style=\"text-align: right;\">\n",
       "      <th></th>\n",
       "      <th>tweet_text</th>\n",
       "      <th>emotion</th>\n",
       "      <th>tokenized_tweet</th>\n",
       "      <th>product</th>\n",
       "    </tr>\n",
       "  </thead>\n",
       "  <tbody>\n",
       "    <tr>\n",
       "      <th>0</th>\n",
       "      <td>.@wesley83 I have a 3G iPhone. After 3 hrs twe...</td>\n",
       "      <td>Negative emotion</td>\n",
       "      <td>[wesley, g, iphone, hrs, tweeting, rise, austi...</td>\n",
       "      <td>iphone</td>\n",
       "    </tr>\n",
       "    <tr>\n",
       "      <th>1</th>\n",
       "      <td>@jessedee Know about @fludapp ? Awesome iPad/i...</td>\n",
       "      <td>Positive emotion</td>\n",
       "      <td>[jessedee, know, fludapp, awesome, ipad, iphon...</td>\n",
       "      <td>ipad</td>\n",
       "    </tr>\n",
       "    <tr>\n",
       "      <th>2</th>\n",
       "      <td>@swonderlin Can not wait for #iPad 2 also. The...</td>\n",
       "      <td>Positive emotion</td>\n",
       "      <td>[swonderlin, wait, ipad, also, sale, sxsw]</td>\n",
       "      <td>ipad</td>\n",
       "    </tr>\n",
       "    <tr>\n",
       "      <th>3</th>\n",
       "      <td>@sxsw I hope this year's festival isn't as cra...</td>\n",
       "      <td>Negative emotion</td>\n",
       "      <td>[sxsw, hope, year's, festival, crashy, year's,...</td>\n",
       "      <td>iphone</td>\n",
       "    </tr>\n",
       "    <tr>\n",
       "      <th>4</th>\n",
       "      <td>@sxtxstate great stuff on Fri #SXSW: Marissa M...</td>\n",
       "      <td>Positive emotion</td>\n",
       "      <td>[sxtxstate, great, stuff, fri, sxsw, marissa, ...</td>\n",
       "      <td>google</td>\n",
       "    </tr>\n",
       "  </tbody>\n",
       "</table>\n",
       "</div>"
      ],
      "text/plain": [
       "                                          tweet_text           emotion  \\\n",
       "0  .@wesley83 I have a 3G iPhone. After 3 hrs twe...  Negative emotion   \n",
       "1  @jessedee Know about @fludapp ? Awesome iPad/i...  Positive emotion   \n",
       "2  @swonderlin Can not wait for #iPad 2 also. The...  Positive emotion   \n",
       "3  @sxsw I hope this year's festival isn't as cra...  Negative emotion   \n",
       "4  @sxtxstate great stuff on Fri #SXSW: Marissa M...  Positive emotion   \n",
       "\n",
       "                                     tokenized_tweet product  \n",
       "0  [wesley, g, iphone, hrs, tweeting, rise, austi...  iphone  \n",
       "1  [jessedee, know, fludapp, awesome, ipad, iphon...    ipad  \n",
       "2         [swonderlin, wait, ipad, also, sale, sxsw]    ipad  \n",
       "3  [sxsw, hope, year's, festival, crashy, year's,...  iphone  \n",
       "4  [sxtxstate, great, stuff, fri, sxsw, marissa, ...  google  "
      ]
     },
     "execution_count": 25,
     "metadata": {},
     "output_type": "execute_result"
    }
   ],
   "source": [
    "df_clean.head()"
   ]
  },
  {
   "cell_type": "code",
   "execution_count": 26,
   "metadata": {},
   "outputs": [
    {
     "data": {
      "text/plain": [
       "(7647, 4)"
      ]
     },
     "execution_count": 26,
     "metadata": {},
     "output_type": "execute_result"
    }
   ],
   "source": [
    "df_clean.shape"
   ]
  },
  {
   "cell_type": "markdown",
   "metadata": {},
   "source": [
    "We now have our own column that identifies which brand or product the tweet is directed towards."
   ]
  },
  {
   "cell_type": "markdown",
   "metadata": {},
   "source": [
    "### EDA 1 -  Analyze the Emotion and Brand mentions"
   ]
  },
  {
   "cell_type": "markdown",
   "metadata": {},
   "source": [
    "Now that we have the products and emotion of the tweet, let's plot the contents to visualize our findings."
   ]
  },
  {
   "cell_type": "code",
   "execution_count": 27,
   "metadata": {},
   "outputs": [
    {
     "data": {
      "text/html": [
       "<div>\n",
       "<style scoped>\n",
       "    .dataframe tbody tr th:only-of-type {\n",
       "        vertical-align: middle;\n",
       "    }\n",
       "\n",
       "    .dataframe tbody tr th {\n",
       "        vertical-align: top;\n",
       "    }\n",
       "\n",
       "    .dataframe thead th {\n",
       "        text-align: right;\n",
       "    }\n",
       "</style>\n",
       "<table border=\"1\" class=\"dataframe\">\n",
       "  <thead>\n",
       "    <tr style=\"text-align: right;\">\n",
       "      <th></th>\n",
       "      <th>product</th>\n",
       "    </tr>\n",
       "  </thead>\n",
       "  <tbody>\n",
       "    <tr>\n",
       "      <th>google</th>\n",
       "      <td>2238</td>\n",
       "    </tr>\n",
       "    <tr>\n",
       "      <th>ipad</th>\n",
       "      <td>2118</td>\n",
       "    </tr>\n",
       "    <tr>\n",
       "      <th>apple</th>\n",
       "      <td>1742</td>\n",
       "    </tr>\n",
       "    <tr>\n",
       "      <th>iphone</th>\n",
       "      <td>1442</td>\n",
       "    </tr>\n",
       "    <tr>\n",
       "      <th>itunes</th>\n",
       "      <td>70</td>\n",
       "    </tr>\n",
       "    <tr>\n",
       "      <th>mac</th>\n",
       "      <td>23</td>\n",
       "    </tr>\n",
       "    <tr>\n",
       "      <th>macbook</th>\n",
       "      <td>13</td>\n",
       "    </tr>\n",
       "    <tr>\n",
       "      <th>imac</th>\n",
       "      <td>1</td>\n",
       "    </tr>\n",
       "  </tbody>\n",
       "</table>\n",
       "</div>"
      ],
      "text/plain": [
       "         product\n",
       "google      2238\n",
       "ipad        2118\n",
       "apple       1742\n",
       "iphone      1442\n",
       "itunes        70\n",
       "mac           23\n",
       "macbook       13\n",
       "imac           1"
      ]
     },
     "execution_count": 27,
     "metadata": {},
     "output_type": "execute_result"
    }
   ],
   "source": [
    "# Count product mentions and save it in a dataframe\n",
    "\n",
    "product_count = pd.DataFrame(df_clean['product'].value_counts()).copy()\n",
    "product_count"
   ]
  },
  {
   "cell_type": "markdown",
   "metadata": {},
   "source": [
    "#### All Product Mentions"
   ]
  },
  {
   "cell_type": "code",
   "execution_count": 28,
   "metadata": {},
   "outputs": [
    {
     "data": {
      "image/png": "[encoded data removed]",
      "text/plain": [
       "<Figure size 720x360 with 1 Axes>"
      ]
     },
     "metadata": {
      "needs_background": "light"
     },
     "output_type": "display_data"
    }
   ],
   "source": [
    "# plot a histogram\n",
    "\n",
    "product_count.plot(kind='bar', figsize=(10,5), fontsize=15, alpha=.75, legend=False)\n",
    "\n",
    "plt.title('All Product Mentions', fontsize=18)\n",
    "plt.savefig(r'Images/All_Product_Mentions.jpg', bbox_inches='tight');"
   ]
  },
  {
   "cell_type": "markdown",
   "metadata": {},
   "source": [
    "#### Apple Product Mentions"
   ]
  },
  {
   "cell_type": "code",
   "execution_count": 29,
   "metadata": {},
   "outputs": [
    {
     "data": {
      "image/png": "[encoded data removed]",
      "text/plain": [
       "<Figure size 720x360 with 1 Axes>"
      ]
     },
     "metadata": {
      "needs_background": "light"
     },
     "output_type": "display_data"
    }
   ],
   "source": [
    "# Plot apple products\n",
    "\n",
    "product_count[1:].plot(kind='bar', figsize=(10,5), fontsize=15, color='green', alpha=.45, legend=False)\n",
    "\n",
    "plt.title('Apple Product Mentions', fontsize=18)\n",
    "plt.savefig(r'Images/Apple_Mentions.jpg', bbox_inches='tight');"
   ]
  },
  {
   "cell_type": "markdown",
   "metadata": {},
   "source": [
    "Ipad seems to have been the topic for conversation in the SXSW event. Followed by Apple and Iphone."
   ]
  },
  {
   "cell_type": "markdown",
   "metadata": {},
   "source": [
    "#### Apple vs Google"
   ]
  },
  {
   "cell_type": "code",
   "execution_count": 30,
   "metadata": {},
   "outputs": [
    {
     "data": {
      "text/plain": [
       "5409"
      ]
     },
     "execution_count": 30,
     "metadata": {},
     "output_type": "execute_result"
    }
   ],
   "source": [
    "# Count the number of Apple mentions\n",
    "\n",
    "apple_total = product_count['product'][1:].sum()\n",
    "apple_total"
   ]
  },
  {
   "cell_type": "code",
   "execution_count": 31,
   "metadata": {},
   "outputs": [
    {
     "data": {
      "text/plain": [
       "2238"
      ]
     },
     "execution_count": 31,
     "metadata": {},
     "output_type": "execute_result"
    }
   ],
   "source": [
    "# Count the number of Google mentions\n",
    "\n",
    "google_total = product_count['product'][0]\n",
    "google_total"
   ]
  },
  {
   "cell_type": "code",
   "execution_count": 32,
   "metadata": {},
   "outputs": [
    {
     "data": {
      "text/html": [
       "<div>\n",
       "<style scoped>\n",
       "    .dataframe tbody tr th:only-of-type {\n",
       "        vertical-align: middle;\n",
       "    }\n",
       "\n",
       "    .dataframe tbody tr th {\n",
       "        vertical-align: top;\n",
       "    }\n",
       "\n",
       "    .dataframe thead th {\n",
       "        text-align: right;\n",
       "    }\n",
       "</style>\n",
       "<table border=\"1\" class=\"dataframe\">\n",
       "  <thead>\n",
       "    <tr style=\"text-align: right;\">\n",
       "      <th></th>\n",
       "      <th>Brand</th>\n",
       "    </tr>\n",
       "  </thead>\n",
       "  <tbody>\n",
       "    <tr>\n",
       "      <th>Apple</th>\n",
       "      <td>5409</td>\n",
       "    </tr>\n",
       "    <tr>\n",
       "      <th>Google</th>\n",
       "      <td>2238</td>\n",
       "    </tr>\n",
       "  </tbody>\n",
       "</table>\n",
       "</div>"
      ],
      "text/plain": [
       "        Brand\n",
       "Apple    5409\n",
       "Google   2238"
      ]
     },
     "execution_count": 32,
     "metadata": {},
     "output_type": "execute_result"
    }
   ],
   "source": [
    "# Put the count in a dataframe\n",
    "\n",
    "apple_google = pd.DataFrame([5409,2238], ['Apple', 'Google']).rename({0:'Brand'}, axis=1)\n",
    "apple_google"
   ]
  },
  {
   "cell_type": "code",
   "execution_count": 33,
   "metadata": {},
   "outputs": [
    {
     "data": {
      "image/png": "[encoded data removed]",
      "text/plain": [
       "<Figure size 720x432 with 1 Axes>"
      ]
     },
     "metadata": {
      "needs_background": "light"
     },
     "output_type": "display_data"
    }
   ],
   "source": [
    "# Plot the histogram\n",
    "\n",
    "apple_google.plot(kind='bar', figsize=(10,6), fontsize=15, color='blue', alpha=0.5, legend=False)\n",
    "\n",
    "plt.title('Apple vs Google', fontsize=18, pad=10)\n",
    "plt.savefig(r'Images/Brand_Mentions.jpg', bbox_inches='tight');"
   ]
  },
  {
   "cell_type": "markdown",
   "metadata": {},
   "source": [
    "In terms of brand, Apple seems to be getting more customer engagement."
   ]
  },
  {
   "cell_type": "markdown",
   "metadata": {},
   "source": [
    "#### Total Sentiment Expressed"
   ]
  },
  {
   "cell_type": "code",
   "execution_count": 34,
   "metadata": {},
   "outputs": [
    {
     "data": {
      "text/html": [
       "<div>\n",
       "<style scoped>\n",
       "    .dataframe tbody tr th:only-of-type {\n",
       "        vertical-align: middle;\n",
       "    }\n",
       "\n",
       "    .dataframe tbody tr th {\n",
       "        vertical-align: top;\n",
       "    }\n",
       "\n",
       "    .dataframe thead th {\n",
       "        text-align: right;\n",
       "    }\n",
       "</style>\n",
       "<table border=\"1\" class=\"dataframe\">\n",
       "  <thead>\n",
       "    <tr style=\"text-align: right;\">\n",
       "      <th></th>\n",
       "      <th>emotion</th>\n",
       "    </tr>\n",
       "  </thead>\n",
       "  <tbody>\n",
       "    <tr>\n",
       "      <th>Neutral emotion</th>\n",
       "      <td>4367</td>\n",
       "    </tr>\n",
       "    <tr>\n",
       "      <th>Positive emotion</th>\n",
       "      <td>2738</td>\n",
       "    </tr>\n",
       "    <tr>\n",
       "      <th>Negative emotion</th>\n",
       "      <td>542</td>\n",
       "    </tr>\n",
       "  </tbody>\n",
       "</table>\n",
       "</div>"
      ],
      "text/plain": [
       "                  emotion\n",
       "Neutral emotion      4367\n",
       "Positive emotion     2738\n",
       "Negative emotion      542"
      ]
     },
     "execution_count": 34,
     "metadata": {},
     "output_type": "execute_result"
    }
   ],
   "source": [
    "# Put the sentiment count in a dataframe\n",
    "\n",
    "sentiments_total = pd.DataFrame(df_clean['emotion'].value_counts()).copy()\n",
    "sentiments_total"
   ]
  },
  {
   "cell_type": "code",
   "execution_count": 35,
   "metadata": {},
   "outputs": [
    {
     "data": {
      "image/png": "[encoded data removed]",
      "text/plain": [
       "<Figure size 720x576 with 1 Axes>"
      ]
     },
     "metadata": {
      "needs_background": "light"
     },
     "output_type": "display_data"
    }
   ],
   "source": [
    "# Plot the histogram\n",
    "\n",
    "sentiments_total.plot(kind='bar', figsize=(10,8), fontsize=15, alpha=0.7, legend=False)\n",
    "\n",
    "plt.title('Total Sentiments Expressed', fontsize=15, pad=10);\n",
    "plt.savefig(r'Images/Total_Sentiment_Expressed.jpg', bbox_inches='tight')"
   ]
  },
  {
   "cell_type": "markdown",
   "metadata": {},
   "source": [
    "Although most sentiments are neutral, there seems to be a positive outlook for all products."
   ]
  },
  {
   "cell_type": "markdown",
   "metadata": {},
   "source": [
    "#### Sentiments by Brand"
   ]
  },
  {
   "cell_type": "code",
   "execution_count": 36,
   "metadata": {},
   "outputs": [
    {
     "data": {
      "text/html": [
       "<div>\n",
       "<style scoped>\n",
       "    .dataframe tbody tr th:only-of-type {\n",
       "        vertical-align: middle;\n",
       "    }\n",
       "\n",
       "    .dataframe tbody tr th {\n",
       "        vertical-align: top;\n",
       "    }\n",
       "\n",
       "    .dataframe thead th {\n",
       "        text-align: right;\n",
       "    }\n",
       "</style>\n",
       "<table border=\"1\" class=\"dataframe\">\n",
       "  <thead>\n",
       "    <tr style=\"text-align: right;\">\n",
       "      <th></th>\n",
       "      <th></th>\n",
       "      <th>0</th>\n",
       "    </tr>\n",
       "    <tr>\n",
       "      <th>product</th>\n",
       "      <th>emotion</th>\n",
       "      <th></th>\n",
       "    </tr>\n",
       "  </thead>\n",
       "  <tbody>\n",
       "    <tr>\n",
       "      <th>google</th>\n",
       "      <th>Neutral emotion</th>\n",
       "      <td>1478</td>\n",
       "    </tr>\n",
       "    <tr>\n",
       "      <th>ipad</th>\n",
       "      <th>Neutral emotion</th>\n",
       "      <td>1053</td>\n",
       "    </tr>\n",
       "    <tr>\n",
       "      <th>apple</th>\n",
       "      <th>Neutral emotion</th>\n",
       "      <td>974</td>\n",
       "    </tr>\n",
       "    <tr>\n",
       "      <th>ipad</th>\n",
       "      <th>Positive emotion</th>\n",
       "      <td>900</td>\n",
       "    </tr>\n",
       "    <tr>\n",
       "      <th>iphone</th>\n",
       "      <th>Neutral emotion</th>\n",
       "      <td>791</td>\n",
       "    </tr>\n",
       "  </tbody>\n",
       "</table>\n",
       "</div>"
      ],
      "text/plain": [
       "                             0\n",
       "product emotion               \n",
       "google  Neutral emotion   1478\n",
       "ipad    Neutral emotion   1053\n",
       "apple   Neutral emotion    974\n",
       "ipad    Positive emotion   900\n",
       "iphone  Neutral emotion    791"
      ]
     },
     "execution_count": 36,
     "metadata": {},
     "output_type": "execute_result"
    }
   ],
   "source": [
    "# Create a dataframe with count of each emotion for every product \n",
    "\n",
    "df_emotion = pd.DataFrame(df_clean[['product','emotion']].value_counts().copy())\n",
    "df_emotion.head()"
   ]
  },
  {
   "cell_type": "code",
   "execution_count": 37,
   "metadata": {},
   "outputs": [],
   "source": [
    "# Sort the Product to group all emotions together\n",
    "\n",
    "df_emotion.sort_values(by='product', inplace=True)"
   ]
  },
  {
   "cell_type": "code",
   "execution_count": 38,
   "metadata": {},
   "outputs": [
    {
     "data": {
      "text/html": [
       "<div>\n",
       "<style scoped>\n",
       "    .dataframe tbody tr th:only-of-type {\n",
       "        vertical-align: middle;\n",
       "    }\n",
       "\n",
       "    .dataframe tbody tr th {\n",
       "        vertical-align: top;\n",
       "    }\n",
       "\n",
       "    .dataframe thead th {\n",
       "        text-align: right;\n",
       "    }\n",
       "</style>\n",
       "<table border=\"1\" class=\"dataframe\">\n",
       "  <thead>\n",
       "    <tr style=\"text-align: right;\">\n",
       "      <th></th>\n",
       "      <th></th>\n",
       "      <th>0</th>\n",
       "    </tr>\n",
       "    <tr>\n",
       "      <th>product</th>\n",
       "      <th>emotion</th>\n",
       "      <th></th>\n",
       "    </tr>\n",
       "  </thead>\n",
       "  <tbody>\n",
       "    <tr>\n",
       "      <th rowspan=\"3\" valign=\"top\">apple</th>\n",
       "      <th>Negative emotion</th>\n",
       "      <td>97</td>\n",
       "    </tr>\n",
       "    <tr>\n",
       "      <th>Neutral emotion</th>\n",
       "      <td>974</td>\n",
       "    </tr>\n",
       "    <tr>\n",
       "      <th>Positive emotion</th>\n",
       "      <td>671</td>\n",
       "    </tr>\n",
       "    <tr>\n",
       "      <th rowspan=\"2\" valign=\"top\">google</th>\n",
       "      <th>Neutral emotion</th>\n",
       "      <td>1478</td>\n",
       "    </tr>\n",
       "    <tr>\n",
       "      <th>Positive emotion</th>\n",
       "      <td>627</td>\n",
       "    </tr>\n",
       "  </tbody>\n",
       "</table>\n",
       "</div>"
      ],
      "text/plain": [
       "                             0\n",
       "product emotion               \n",
       "apple   Negative emotion    97\n",
       "        Neutral emotion    974\n",
       "        Positive emotion   671\n",
       "google  Neutral emotion   1478\n",
       "        Positive emotion   627"
      ]
     },
     "execution_count": 38,
     "metadata": {},
     "output_type": "execute_result"
    }
   ],
   "source": [
    "df_emotion.head()"
   ]
  },
  {
   "cell_type": "code",
   "execution_count": 39,
   "metadata": {},
   "outputs": [
    {
     "data": {
      "text/html": [
       "<div>\n",
       "<style scoped>\n",
       "    .dataframe tbody tr th:only-of-type {\n",
       "        vertical-align: middle;\n",
       "    }\n",
       "\n",
       "    .dataframe tbody tr th {\n",
       "        vertical-align: top;\n",
       "    }\n",
       "\n",
       "    .dataframe thead tr th {\n",
       "        text-align: left;\n",
       "    }\n",
       "</style>\n",
       "<table border=\"1\" class=\"dataframe\">\n",
       "  <thead>\n",
       "    <tr>\n",
       "      <th>product</th>\n",
       "      <th colspan=\"3\" halign=\"left\">apple</th>\n",
       "      <th colspan=\"3\" halign=\"left\">google</th>\n",
       "      <th>imac</th>\n",
       "      <th colspan=\"3\" halign=\"left\">ipad</th>\n",
       "      <th>...</th>\n",
       "      <th colspan=\"2\" halign=\"left\">iphone</th>\n",
       "      <th colspan=\"3\" halign=\"left\">itunes</th>\n",
       "      <th colspan=\"3\" halign=\"left\">mac</th>\n",
       "      <th colspan=\"2\" halign=\"left\">macbook</th>\n",
       "    </tr>\n",
       "    <tr>\n",
       "      <th>emotion</th>\n",
       "      <th>Negative emotion</th>\n",
       "      <th>Neutral emotion</th>\n",
       "      <th>Positive emotion</th>\n",
       "      <th>Neutral emotion</th>\n",
       "      <th>Positive emotion</th>\n",
       "      <th>Negative emotion</th>\n",
       "      <th>Negative emotion</th>\n",
       "      <th>Positive emotion</th>\n",
       "      <th>Negative emotion</th>\n",
       "      <th>Neutral emotion</th>\n",
       "      <th>...</th>\n",
       "      <th>Negative emotion</th>\n",
       "      <th>Neutral emotion</th>\n",
       "      <th>Neutral emotion</th>\n",
       "      <th>Positive emotion</th>\n",
       "      <th>Negative emotion</th>\n",
       "      <th>Neutral emotion</th>\n",
       "      <th>Positive emotion</th>\n",
       "      <th>Negative emotion</th>\n",
       "      <th>Positive emotion</th>\n",
       "      <th>Neutral emotion</th>\n",
       "    </tr>\n",
       "  </thead>\n",
       "  <tbody>\n",
       "    <tr>\n",
       "      <th>0</th>\n",
       "      <td>97</td>\n",
       "      <td>974</td>\n",
       "      <td>671</td>\n",
       "      <td>1478</td>\n",
       "      <td>627</td>\n",
       "      <td>133</td>\n",
       "      <td>1</td>\n",
       "      <td>900</td>\n",
       "      <td>165</td>\n",
       "      <td>1053</td>\n",
       "      <td>...</td>\n",
       "      <td>143</td>\n",
       "      <td>791</td>\n",
       "      <td>54</td>\n",
       "      <td>15</td>\n",
       "      <td>1</td>\n",
       "      <td>11</td>\n",
       "      <td>10</td>\n",
       "      <td>2</td>\n",
       "      <td>7</td>\n",
       "      <td>6</td>\n",
       "    </tr>\n",
       "  </tbody>\n",
       "</table>\n",
       "<p>1 rows × 21 columns</p>\n",
       "</div>"
      ],
      "text/plain": [
       "product            apple                                           google  \\\n",
       "emotion Negative emotion Neutral emotion Positive emotion Neutral emotion   \n",
       "0                     97             974              671            1478   \n",
       "\n",
       "product                                               imac             ipad  \\\n",
       "emotion Positive emotion Negative emotion Negative emotion Positive emotion   \n",
       "0                    627              133                1              900   \n",
       "\n",
       "product                                   ...           iphone  \\\n",
       "emotion Negative emotion Neutral emotion  ... Negative emotion   \n",
       "0                    165            1053  ...              143   \n",
       "\n",
       "product                          itunes                                    \\\n",
       "emotion Neutral emotion Neutral emotion Positive emotion Negative emotion   \n",
       "0                   791              54               15                1   \n",
       "\n",
       "product             mac                                            macbook  \\\n",
       "emotion Neutral emotion Positive emotion Negative emotion Positive emotion   \n",
       "0                    11               10                2                7   \n",
       "\n",
       "product                  \n",
       "emotion Neutral emotion  \n",
       "0                     6  \n",
       "\n",
       "[1 rows x 21 columns]"
      ]
     },
     "execution_count": 39,
     "metadata": {},
     "output_type": "execute_result"
    }
   ],
   "source": [
    "# Transpose the dataframe to pull count by column names\n",
    "\n",
    "cross_table = df_emotion.transpose()\n",
    "cross_table"
   ]
  },
  {
   "cell_type": "code",
   "execution_count": 40,
   "metadata": {},
   "outputs": [
    {
     "data": {
      "image/png": "[encoded data removed]",
      "text/plain": [
       "<Figure size 1080x720 with 1 Axes>"
      ]
     },
     "metadata": {
      "needs_background": "light"
     },
     "output_type": "display_data"
    }
   ],
   "source": [
    "# Plot the histogram\n",
    "\n",
    "fig, ax = plt.subplots(figsize=(15,10))\n",
    "\n",
    "alpha = 0.6\n",
    "width = .25\n",
    "x = 0.75\n",
    "\n",
    "ax.bar(x, cross_table['google']['Neutral emotion'], width, color='b', alpha=alpha)\n",
    "ax.bar(x + width, cross_table['google']['Positive emotion'], width, color='g',alpha=alpha)\n",
    "ax.bar(x + (width * 2), cross_table['google']['Negative emotion'], width, color='r',alpha=alpha)\n",
    "\n",
    "ax.bar(x+1, cross_table['apple']['Neutral emotion'], width, color='b',alpha=alpha)\n",
    "ax.bar(x+1 + width, cross_table['apple']['Positive emotion'], width, color='g',alpha=alpha)\n",
    "ax.bar(x+1 + (width * 2), cross_table['apple']['Negative emotion'], width, color='r',alpha=alpha)\n",
    "\n",
    "ax.bar(x+2, cross_table['ipad']['Neutral emotion'], width, color='b',alpha=alpha)\n",
    "ax.bar(x+2 + width, cross_table['ipad']['Positive emotion'], width, color='g',alpha=alpha)\n",
    "ax.bar(x+2 + (width * 2), cross_table['ipad']['Negative emotion'], width, color='r',alpha=alpha)\n",
    "\n",
    "ax.bar(x+3, cross_table['iphone']['Neutral emotion'], width, color='b',alpha=alpha)\n",
    "ax.bar(x+3 + width, cross_table['iphone']['Positive emotion'], width, color='g',alpha=alpha)\n",
    "ax.bar(x+3 + (width * 2), cross_table['iphone']['Negative emotion'], width, color='r',alpha=alpha)\n",
    "\n",
    "ax.bar(x+4, cross_table['itunes']['Neutral emotion'], width, color='b',alpha=alpha)\n",
    "ax.bar(x+4 + width, cross_table['itunes']['Positive emotion'], width, color='g',alpha=alpha)\n",
    "ax.bar(x+4 + (width * 2), cross_table['itunes']['Negative emotion'], width, color='r',alpha=alpha)\n",
    "\n",
    "ax.bar(x+5, cross_table['mac']['Neutral emotion'], width, color='b',alpha=alpha)\n",
    "ax.bar(x+5 + width, cross_table['mac']['Positive emotion'], width, color='g',alpha=alpha)\n",
    "ax.bar(x+5 + (width * 2), cross_table['mac']['Negative emotion'], width, color='r',alpha=alpha)\n",
    "\n",
    "ax.bar(x+6, cross_table['macbook']['Neutral emotion'], width, color='b',alpha=alpha)\n",
    "ax.bar(x+6 + width, cross_table['macbook']['Positive emotion'], width, color='g',alpha=alpha)\n",
    "ax.bar(x+6 + (width * 2), 0, width, color='r',alpha=alpha)\n",
    "\n",
    "ax.set_title('Sentiments Expressed for Each Product', fontsize=18, pad=8)\n",
    "ax.set_xlabel('Product Emotions', labelpad=15, fontsize=15)\n",
    "ax.set_ylabel('Number of Tweets', fontsize=15)\n",
    "\n",
    "ax.set_xticks(range(1,8))\n",
    "ax.set_xticklabels(('Google', 'Apple', 'Ipad', 'Iphone', 'Itunes', 'Mac', 'Macbook'), fontsize=15)\n",
    "\n",
    "ax.legend(('Neutral', 'Positive', 'Negative'), fontsize=15)\n",
    "\n",
    "plt.savefig(r'Images/Sentiment_Distribution.jpg', bbox_inches='tight')\n",
    "plt.show();"
   ]
  },
  {
   "cell_type": "markdown",
   "metadata": {},
   "source": [
    "The plots gives us a good indication on the overall consensus of the customer sentiments across all products.\n",
    "\n",
    "Let's check the exact words or emotion expressed by the customers."
   ]
  },
  {
   "cell_type": "markdown",
   "metadata": {},
   "source": [
    "### EDA 2 - Analyze the tweets to identify common issues or contentment expressed by the user"
   ]
  },
  {
   "cell_type": "markdown",
   "metadata": {},
   "source": [
    "For this part of our EDA, we will generate POS tags to distinguish the words and grab the one's that best expresses the issue."
   ]
  },
  {
   "cell_type": "markdown",
   "metadata": {},
   "source": [
    "### POS Tags"
   ]
  },
  {
   "cell_type": "code",
   "execution_count": 41,
   "metadata": {},
   "outputs": [],
   "source": [
    "# Loop through the toknenized tweets to create the POS tags\n",
    "\n",
    "pos_tags = []\n",
    "\n",
    "for i in range(len(df_clean)):\n",
    "    pos_tags.append(nltk.pos_tag(df_clean.tokenized_tweet.iloc[i]))"
   ]
  },
  {
   "cell_type": "code",
   "execution_count": 42,
   "metadata": {},
   "outputs": [],
   "source": [
    "# Add the pos_tags into the dataframe\n",
    "\n",
    "df_clean['pos_tags'] = pos_tags"
   ]
  },
  {
   "cell_type": "code",
   "execution_count": 43,
   "metadata": {},
   "outputs": [
    {
     "data": {
      "text/plain": [
       "[[('wesley', 'NN'),\n",
       "  ('g', 'NN'),\n",
       "  ('iphone', 'NN'),\n",
       "  ('hrs', 'NN'),\n",
       "  ('tweeting', 'VBG'),\n",
       "  ('rise', 'NN'),\n",
       "  ('austin', 'NN'),\n",
       "  ('dead', 'JJ'),\n",
       "  ('need', 'NN'),\n",
       "  ('upgrade', 'JJ'),\n",
       "  ('plugin', 'NN'),\n",
       "  ('stations', 'NNS'),\n",
       "  ('sxsw', 'VBP')],\n",
       " [('jessedee', 'NN'),\n",
       "  ('know', 'VBP'),\n",
       "  ('fludapp', 'VBZ'),\n",
       "  ('awesome', 'JJ'),\n",
       "  ('ipad', 'NN'),\n",
       "  ('iphone', 'NN'),\n",
       "  ('app', 'NN'),\n",
       "  ('likely', 'JJ'),\n",
       "  ('appreciate', 'NN'),\n",
       "  ('design', 'NN'),\n",
       "  ('also', 'RB'),\n",
       "  (\"they're\", 'VBZ'),\n",
       "  ('giving', 'VBG'),\n",
       "  ('free', 'JJ'),\n",
       "  ('ts', 'NN'),\n",
       "  ('sxsw', 'NN')],\n",
       " [('swonderlin', 'NN'),\n",
       "  ('wait', 'NN'),\n",
       "  ('ipad', 'NN'),\n",
       "  ('also', 'RB'),\n",
       "  ('sale', 'NN'),\n",
       "  ('sxsw', 'NN')],\n",
       " [('sxsw', 'NNS'),\n",
       "  ('hope', 'VBP'),\n",
       "  (\"year's\", 'JJ'),\n",
       "  ('festival', 'NN'),\n",
       "  ('crashy', 'NN'),\n",
       "  (\"year's\", 'NN'),\n",
       "  ('iphone', 'NN'),\n",
       "  ('app', 'NN'),\n",
       "  ('sxsw', 'NN')],\n",
       " [('sxtxstate', 'NN'),\n",
       "  ('great', 'JJ'),\n",
       "  ('stuff', 'NN'),\n",
       "  ('fri', 'NN'),\n",
       "  ('sxsw', 'NN'),\n",
       "  ('marissa', 'FW'),\n",
       "  ('mayer', 'NN'),\n",
       "  ('google', 'NN'),\n",
       "  ('tim', 'NN'),\n",
       "  ('reilly', 'RB'),\n",
       "  ('tech', 'JJ'),\n",
       "  ('books', 'NNS'),\n",
       "  ('conferences', 'NNS'),\n",
       "  ('amp', 'VBP'),\n",
       "  ('matt', 'JJ'),\n",
       "  ('mullenweg', 'NN'),\n",
       "  ('wordpress', 'NN')],\n",
       " [('teachntech', 'JJ'),\n",
       "  ('new', 'JJ'),\n",
       "  ('ipad', 'NN'),\n",
       "  ('apps', 'NN'),\n",
       "  ('speechtherapy', 'NN'),\n",
       "  ('communication', 'NN'),\n",
       "  ('showcased', 'VBD'),\n",
       "  ('sxsw', 'JJ'),\n",
       "  ('conference', 'NN'),\n",
       "  ('http', 'NN'),\n",
       "  ('ht', 'NN'),\n",
       "  ('ly', 'NN'),\n",
       "  ('n', 'JJ'),\n",
       "  ('iear', 'JJ'),\n",
       "  ('edchat', 'IN'),\n",
       "  ('asd', 'NN')],\n",
       " [('beautifully', 'RB'),\n",
       "  ('smart', 'JJ'),\n",
       "  ('simple', 'JJ'),\n",
       "  ('idea', 'NN'),\n",
       "  ('rt', 'VBD'),\n",
       "  ('madebymany', 'JJ'),\n",
       "  ('thenextweb', 'JJ'),\n",
       "  ('wrote', 'VBD'),\n",
       "  ('hollergram', 'JJ'),\n",
       "  ('ipad', 'NN'),\n",
       "  ('app', 'NN'),\n",
       "  ('sxsw', 'NN'),\n",
       "  ('http', 'NN'),\n",
       "  ('bit', 'NN'),\n",
       "  ('ly', 'JJ'),\n",
       "  ('ieavob', 'NN')],\n",
       " [('counting', 'VBG'),\n",
       "  ('days', 'NNS'),\n",
       "  ('sxsw', 'RB'),\n",
       "  ('plus', 'CC'),\n",
       "  ('strong', 'JJ'),\n",
       "  ('canadian', 'JJ'),\n",
       "  ('dollar', 'NN'),\n",
       "  ('means', 'NNS'),\n",
       "  ('stock', 'NN'),\n",
       "  ('apple', 'NN'),\n",
       "  ('gear', 'NN')],\n",
       " [('gotta', 'NN'),\n",
       "  ('love', 'NN'),\n",
       "  ('sxsw', 'NN'),\n",
       "  ('google', 'NN'),\n",
       "  ('calendar', 'NN'),\n",
       "  ('featuring', 'VBG'),\n",
       "  ('top', 'JJ'),\n",
       "  ('parties', 'NNS'),\n",
       "  ('show', 'VBP'),\n",
       "  ('cases', 'NNS'),\n",
       "  ('check', 'VB'),\n",
       "  ('rt', 'NN'),\n",
       "  ('hamsandwich', 'JJ'),\n",
       "  ('via', 'IN'),\n",
       "  ('ischafer', 'NN'),\n",
       "  ('gt', 'NN'),\n",
       "  ('http', 'NN'),\n",
       "  ('bit', 'NN'),\n",
       "  ('ly', 'JJ'),\n",
       "  ('axzwxb', 'NN')],\n",
       " [('great', 'JJ'),\n",
       "  ('sxsw', 'NN'),\n",
       "  ('ipad', 'NN'),\n",
       "  ('app', 'VBP'),\n",
       "  ('madebymany', 'NN'),\n",
       "  ('http', 'NN'),\n",
       "  ('tinyurl', 'NN'),\n",
       "  ('com', 'NN'),\n",
       "  ('nqv', 'NN'),\n",
       "  ('l', 'NN')]]"
      ]
     },
     "execution_count": 43,
     "metadata": {},
     "output_type": "execute_result"
    }
   ],
   "source": [
    "# Sample some of the pos tags to check where most of the emotions or relevant words are stored\n",
    "\n",
    "list(df_clean.pos_tags.iloc[:10])"
   ]
  },
  {
   "cell_type": "markdown",
   "metadata": {},
   "source": [
    "Looking at the above list, we can see that most of the emotions are expresses in JJ tag which stands for adjectives used in the tweet."
   ]
  },
  {
   "cell_type": "markdown",
   "metadata": {},
   "source": [
    "Let's create a column to store all adjectives expressed in the tweet."
   ]
  },
  {
   "cell_type": "code",
   "execution_count": 44,
   "metadata": {},
   "outputs": [],
   "source": [
    "# Loop through the words and grab all adjectives\n",
    "\n",
    "expression = []\n",
    "\n",
    "for tweet in df_clean.pos_tags:\n",
    "    emotion = []\n",
    "    \n",
    "    for item in tweet:  \n",
    "        if item[1] == 'JJ':\n",
    "            emotion.append(item[0])\n",
    "        else:\n",
    "            pass\n",
    "    expression.append(emotion)"
   ]
  },
  {
   "cell_type": "code",
   "execution_count": 45,
   "metadata": {},
   "outputs": [],
   "source": [
    "# Add the adjective list to the dataframe\n",
    "\n",
    "df_clean['expression'] = expression"
   ]
  },
  {
   "cell_type": "code",
   "execution_count": 46,
   "metadata": {},
   "outputs": [
    {
     "data": {
      "text/html": [
       "<div>\n",
       "<style scoped>\n",
       "    .dataframe tbody tr th:only-of-type {\n",
       "        vertical-align: middle;\n",
       "    }\n",
       "\n",
       "    .dataframe tbody tr th {\n",
       "        vertical-align: top;\n",
       "    }\n",
       "\n",
       "    .dataframe thead th {\n",
       "        text-align: right;\n",
       "    }\n",
       "</style>\n",
       "<table border=\"1\" class=\"dataframe\">\n",
       "  <thead>\n",
       "    <tr style=\"text-align: right;\">\n",
       "      <th></th>\n",
       "      <th>tweet_text</th>\n",
       "      <th>emotion</th>\n",
       "      <th>tokenized_tweet</th>\n",
       "      <th>product</th>\n",
       "      <th>pos_tags</th>\n",
       "      <th>expression</th>\n",
       "    </tr>\n",
       "  </thead>\n",
       "  <tbody>\n",
       "    <tr>\n",
       "      <th>0</th>\n",
       "      <td>.@wesley83 I have a 3G iPhone. After 3 hrs twe...</td>\n",
       "      <td>Negative emotion</td>\n",
       "      <td>[wesley, g, iphone, hrs, tweeting, rise, austi...</td>\n",
       "      <td>iphone</td>\n",
       "      <td>[(wesley, NN), (g, NN), (iphone, NN), (hrs, NN...</td>\n",
       "      <td>[dead, upgrade]</td>\n",
       "    </tr>\n",
       "    <tr>\n",
       "      <th>1</th>\n",
       "      <td>@jessedee Know about @fludapp ? Awesome iPad/i...</td>\n",
       "      <td>Positive emotion</td>\n",
       "      <td>[jessedee, know, fludapp, awesome, ipad, iphon...</td>\n",
       "      <td>ipad</td>\n",
       "      <td>[(jessedee, NN), (know, VBP), (fludapp, VBZ), ...</td>\n",
       "      <td>[awesome, likely, free]</td>\n",
       "    </tr>\n",
       "    <tr>\n",
       "      <th>2</th>\n",
       "      <td>@swonderlin Can not wait for #iPad 2 also. The...</td>\n",
       "      <td>Positive emotion</td>\n",
       "      <td>[swonderlin, wait, ipad, also, sale, sxsw]</td>\n",
       "      <td>ipad</td>\n",
       "      <td>[(swonderlin, NN), (wait, NN), (ipad, NN), (al...</td>\n",
       "      <td>[]</td>\n",
       "    </tr>\n",
       "    <tr>\n",
       "      <th>3</th>\n",
       "      <td>@sxsw I hope this year's festival isn't as cra...</td>\n",
       "      <td>Negative emotion</td>\n",
       "      <td>[sxsw, hope, year's, festival, crashy, year's,...</td>\n",
       "      <td>iphone</td>\n",
       "      <td>[(sxsw, NNS), (hope, VBP), (year's, JJ), (fest...</td>\n",
       "      <td>[year's]</td>\n",
       "    </tr>\n",
       "    <tr>\n",
       "      <th>4</th>\n",
       "      <td>@sxtxstate great stuff on Fri #SXSW: Marissa M...</td>\n",
       "      <td>Positive emotion</td>\n",
       "      <td>[sxtxstate, great, stuff, fri, sxsw, marissa, ...</td>\n",
       "      <td>google</td>\n",
       "      <td>[(sxtxstate, NN), (great, JJ), (stuff, NN), (f...</td>\n",
       "      <td>[great, tech, matt]</td>\n",
       "    </tr>\n",
       "  </tbody>\n",
       "</table>\n",
       "</div>"
      ],
      "text/plain": [
       "                                          tweet_text           emotion  \\\n",
       "0  .@wesley83 I have a 3G iPhone. After 3 hrs twe...  Negative emotion   \n",
       "1  @jessedee Know about @fludapp ? Awesome iPad/i...  Positive emotion   \n",
       "2  @swonderlin Can not wait for #iPad 2 also. The...  Positive emotion   \n",
       "3  @sxsw I hope this year's festival isn't as cra...  Negative emotion   \n",
       "4  @sxtxstate great stuff on Fri #SXSW: Marissa M...  Positive emotion   \n",
       "\n",
       "                                     tokenized_tweet product  \\\n",
       "0  [wesley, g, iphone, hrs, tweeting, rise, austi...  iphone   \n",
       "1  [jessedee, know, fludapp, awesome, ipad, iphon...    ipad   \n",
       "2         [swonderlin, wait, ipad, also, sale, sxsw]    ipad   \n",
       "3  [sxsw, hope, year's, festival, crashy, year's,...  iphone   \n",
       "4  [sxtxstate, great, stuff, fri, sxsw, marissa, ...  google   \n",
       "\n",
       "                                            pos_tags               expression  \n",
       "0  [(wesley, NN), (g, NN), (iphone, NN), (hrs, NN...          [dead, upgrade]  \n",
       "1  [(jessedee, NN), (know, VBP), (fludapp, VBZ), ...  [awesome, likely, free]  \n",
       "2  [(swonderlin, NN), (wait, NN), (ipad, NN), (al...                       []  \n",
       "3  [(sxsw, NNS), (hope, VBP), (year's, JJ), (fest...                 [year's]  \n",
       "4  [(sxtxstate, NN), (great, JJ), (stuff, NN), (f...      [great, tech, matt]  "
      ]
     },
     "execution_count": 46,
     "metadata": {},
     "output_type": "execute_result"
    }
   ],
   "source": [
    "df_clean.head()"
   ]
  },
  {
   "cell_type": "markdown",
   "metadata": {},
   "source": [
    "Now that we have a view on what the users are saying about each brand. Let's look into each product and identify the most common expressions used.\n",
    "\n",
    "In order to do this, we will split the dataframe by products and analyze the sentiments individually."
   ]
  },
  {
   "cell_type": "code",
   "execution_count": 47,
   "metadata": {},
   "outputs": [
    {
     "data": {
      "text/plain": [
       "google     2238\n",
       "ipad       2118\n",
       "apple      1742\n",
       "iphone     1442\n",
       "itunes       70\n",
       "mac          23\n",
       "macbook      13\n",
       "imac          1\n",
       "Name: product, dtype: int64"
      ]
     },
     "execution_count": 47,
     "metadata": {},
     "output_type": "execute_result"
    }
   ],
   "source": [
    "# Identify all products\n",
    "\n",
    "df_clean['product'].value_counts()"
   ]
  },
  {
   "cell_type": "markdown",
   "metadata": {},
   "source": [
    "There is only one instance of imac. Let's combine this with mac but name it as imac."
   ]
  },
  {
   "cell_type": "code",
   "execution_count": 48,
   "metadata": {},
   "outputs": [],
   "source": [
    "df_clean['product'].replace({'mac':'imac'}, inplace=True)"
   ]
  },
  {
   "cell_type": "code",
   "execution_count": 49,
   "metadata": {},
   "outputs": [
    {
     "data": {
      "text/plain": [
       "google     2238\n",
       "ipad       2118\n",
       "apple      1742\n",
       "iphone     1442\n",
       "itunes       70\n",
       "imac         24\n",
       "macbook      13\n",
       "Name: product, dtype: int64"
      ]
     },
     "execution_count": 49,
     "metadata": {},
     "output_type": "execute_result"
    }
   ],
   "source": [
    "df_clean['product'].value_counts()"
   ]
  },
  {
   "cell_type": "code",
   "execution_count": 50,
   "metadata": {},
   "outputs": [],
   "source": [
    "# Create a dictonary to store dataframes by product\n",
    "\n",
    "products = list(set(df_clean['product']))\n",
    "\n",
    "product_dict = {}\n",
    "for product in products:\n",
    "    product_dict[f'{product}_df'] = df_clean[df_clean['product'] == product].copy()"
   ]
  },
  {
   "cell_type": "code",
   "execution_count": 51,
   "metadata": {},
   "outputs": [
    {
     "data": {
      "text/plain": [
       "dict_keys(['imac_df', 'google_df', 'itunes_df', 'iphone_df', 'macbook_df', 'ipad_df', 'apple_df'])"
      ]
     },
     "execution_count": 51,
     "metadata": {},
     "output_type": "execute_result"
    }
   ],
   "source": [
    "product_dict.keys()"
   ]
  },
  {
   "cell_type": "markdown",
   "metadata": {},
   "source": [
    "### Most Common Expressions"
   ]
  },
  {
   "cell_type": "markdown",
   "metadata": {},
   "source": [
    "Let's create a function to grab the most common expressions."
   ]
  },
  {
   "cell_type": "code",
   "execution_count": 52,
   "metadata": {},
   "outputs": [],
   "source": [
    "def most_common(df, n, m):\n",
    "    \n",
    "    # parameters:\n",
    "    # df = dataframe\n",
    "    # n = number of common words you want to grab\n",
    "    # m = number of common words to skip\n",
    "    \n",
    "    \n",
    "    # Slice the dataframe into positive, negative and neutral emotions\n",
    "    positive = df[df['emotion'] == 'Positive emotion'].copy()\n",
    "    negative = df[df['emotion'] == 'Negative emotion'].copy()\n",
    "    neutral = df[df['emotion'] == 'Neutral emotion'].copy()\n",
    "    \n",
    "    # Positive emotions\n",
    "    \n",
    "    # Compile all expressions into a bag of words\n",
    "    positive_corpus = []\n",
    "    for word in positive['expression']:\n",
    "        positive_corpus += word\n",
    "        \n",
    "    # Create a list of words with their frequency distribution\n",
    "    positive_freqdist = FreqDist(positive_corpus)\n",
    "    positive_most_common = positive_freqdist.most_common(n)[m:]\n",
    "    \n",
    "    \n",
    "    # Negative emotions\n",
    "    \n",
    "    # Compile all expressions into a bag of words\n",
    "    negative_corpus = []\n",
    "    for word in negative['expression']:\n",
    "        negative_corpus += word\n",
    "        \n",
    "    # Create a list to store the frequency distribution\n",
    "    negative_freqdist = FreqDist(negative_corpus)\n",
    "    negative_most_common = negative_freqdist.most_common(n)[m:]\n",
    "    \n",
    "    \n",
    "    # Neutral emotions\n",
    "    \n",
    "    # Compile all expressions into a bag of words\n",
    "    neutral_corpus = []\n",
    "    for word in neutral['expression']:\n",
    "        neutral_corpus += word\n",
    "        \n",
    "    # Create a list of words with their frequency distribution\n",
    "    neutral_freqdist = FreqDist(neutral_corpus)\n",
    "    neutral_most_common = neutral_freqdist.most_common(n)[m:]\n",
    "    \n",
    "    # Complile the results into a dictionary\n",
    "    results = {}\n",
    "    results['positive_most_common'] = positive_most_common\n",
    "    results['negative_most_common'] = negative_most_common\n",
    "    results['neutral_most_common'] = neutral_most_common\n",
    "    \n",
    "    return results"
   ]
  },
  {
   "cell_type": "markdown",
   "metadata": {},
   "source": [
    "Let's look into what customers are saying about each product."
   ]
  },
  {
   "cell_type": "code",
   "execution_count": 53,
   "metadata": {},
   "outputs": [
    {
     "data": {
      "text/plain": [
       "dict_keys(['imac_df', 'google_df', 'itunes_df', 'iphone_df', 'macbook_df', 'ipad_df', 'apple_df'])"
      ]
     },
     "execution_count": 53,
     "metadata": {},
     "output_type": "execute_result"
    }
   ],
   "source": [
    "product_dict.keys()"
   ]
  },
  {
   "cell_type": "markdown",
   "metadata": {},
   "source": [
    "#### Apple"
   ]
  },
  {
   "cell_type": "code",
   "execution_count": 54,
   "metadata": {},
   "outputs": [
    {
     "data": {
      "text/plain": [
       "{'positive_most_common': [('open', 56),\n",
       "  ('ipad', 45),\n",
       "  ('cool', 45),\n",
       "  ('new', 33),\n",
       "  ('great', 29),\n",
       "  ('smart', 24),\n",
       "  ('nice', 15),\n",
       "  ('austin', 15),\n",
       "  ('quot', 14),\n",
       "  ('temp', 14),\n",
       "  ('good', 13),\n",
       "  ('brilliant', 13)],\n",
       " 'negative_most_common': [('elegant', 7),\n",
       "  ('ipad', 5),\n",
       "  ('temporary', 4),\n",
       "  ('good', 4),\n",
       "  ('quot', 4),\n",
       "  ('microsoft', 3),\n",
       "  ('bad', 2),\n",
       "  ('pop', 2),\n",
       "  ('mobile', 2),\n",
       "  ('smugness', 2),\n",
       "  ('update', 2),\n",
       "  ('enchantment', 2)],\n",
       " 'neutral_most_common': [('open', 110),\n",
       "  ('ipad', 51),\n",
       "  ('new', 42),\n",
       "  ('austin', 32),\n",
       "  ('temp', 19),\n",
       "  ('quot', 18),\n",
       "  ('amp', 14),\n",
       "  ('popup', 13),\n",
       "  ('many', 13),\n",
       "  ('pop', 12),\n",
       "  ('downtown', 12),\n",
       "  ('launch', 11)]}"
      ]
     },
     "execution_count": 54,
     "metadata": {},
     "output_type": "execute_result"
    }
   ],
   "source": [
    "most_common(product_dict['apple_df'], 15, 3)"
   ]
  },
  {
   "cell_type": "markdown",
   "metadata": {},
   "source": [
    "Apple is mainly quoted as 'cool', 'new', 'great', 'smart' and 'nice'. However, there are some cases of it being expressed as 'bad' and being smug 'smugness'."
   ]
  },
  {
   "cell_type": "markdown",
   "metadata": {},
   "source": [
    "#### Google"
   ]
  },
  {
   "cell_type": "code",
   "execution_count": 55,
   "metadata": {},
   "outputs": [
    {
     "data": {
      "text/plain": [
       "{'positive_most_common': [('major', 54),\n",
       "  ('quot', 53),\n",
       "  ('google', 49),\n",
       "  ('great', 48),\n",
       "  ('good', 26),\n",
       "  ('big', 23),\n",
       "  ('free', 19),\n",
       "  ('digital', 16),\n",
       "  ('physical', 15),\n",
       "  ('launch', 13)],\n",
       " 'negative_most_common': [('major', 12),\n",
       "  ('quot', 7),\n",
       "  ('much', 7),\n",
       "  ('technical', 5),\n",
       "  ('false', 4),\n",
       "  ('great', 4),\n",
       "  ('launch', 3),\n",
       "  ('many', 3),\n",
       "  ('good', 3),\n",
       "  ('open', 3)],\n",
       " 'neutral_most_common': [('google', 148),\n",
       "  ('quot', 115),\n",
       "  ('mobile', 103),\n",
       "  ('big', 58),\n",
       "  ('launch', 44),\n",
       "  ('amp', 36),\n",
       "  ('digital', 33),\n",
       "  ('physical', 29),\n",
       "  ('connect', 21),\n",
       "  ('future', 20)]}"
      ]
     },
     "execution_count": 55,
     "metadata": {},
     "output_type": "execute_result"
    }
   ],
   "source": [
    "most_common(product_dict['google_df'], 15, 5)"
   ]
  },
  {
   "cell_type": "markdown",
   "metadata": {},
   "source": [
    "Google is expressed as 'major', 'great', 'good', 'big' and 'digital' in positive connotations. 'False' is the only negative word that we can make any sense of in the negative words. "
   ]
  },
  {
   "cell_type": "markdown",
   "metadata": {},
   "source": [
    "#### Macbook"
   ]
  },
  {
   "cell_type": "code",
   "execution_count": 56,
   "metadata": {},
   "outputs": [
    {
     "data": {
      "text/plain": [
       "{'positive_most_common': [('macbook', 1),\n",
       "  ('solo', 1),\n",
       "  ('snap', 1),\n",
       "  ('tiny', 1),\n",
       "  ('temporary', 1),\n",
       "  ('right', 1)],\n",
       " 'negative_most_common': [],\n",
       " 'neutral_most_common': [('non', 1),\n",
       "  ('instagram', 1),\n",
       "  ('hyatt', 1),\n",
       "  ('practical', 1),\n",
       "  ('rt', 1),\n",
       "  ('macbook', 1),\n",
       "  ('pro', 1)]}"
      ]
     },
     "execution_count": 56,
     "metadata": {},
     "output_type": "execute_result"
    }
   ],
   "source": [
    "most_common(product_dict['macbook_df'], 15, 3)"
   ]
  },
  {
   "cell_type": "markdown",
   "metadata": {},
   "source": [
    "For positive comments, customers has expressed Macbook as 'tiny' and 'right'. There are no negative cases here as well."
   ]
  },
  {
   "cell_type": "markdown",
   "metadata": {},
   "source": [
    "#### Ipad"
   ]
  },
  {
   "cell_type": "code",
   "execution_count": 57,
   "metadata": {},
   "outputs": [
    {
     "data": {
      "text/plain": [
       "{'positive_most_common': [('new', 89),\n",
       "  ('great', 40),\n",
       "  ('free', 29),\n",
       "  ('good', 27),\n",
       "  ('awesome', 24),\n",
       "  ('app', 22),\n",
       "  ('quot', 18),\n",
       "  ('last', 17),\n",
       "  ('first', 17),\n",
       "  ('laptop', 16),\n",
       "  ('white', 15),\n",
       "  ('nice', 14)],\n",
       " 'negative_most_common': [('new', 16),\n",
       "  ('quot', 9),\n",
       "  ('digital', 8),\n",
       "  ('tapworthy', 8),\n",
       "  ('many', 4),\n",
       "  ('first', 4),\n",
       "  ('ridiculous', 4),\n",
       "  ('laptop', 3),\n",
       "  ('w', 3),\n",
       "  ('weird', 3),\n",
       "  ('live', 3),\n",
       "  ('next', 3)],\n",
       " 'neutral_most_common': [('new', 100),\n",
       "  ('free', 48),\n",
       "  ('quot', 40),\n",
       "  ('able', 24),\n",
       "  ('social', 23),\n",
       "  ('last', 20),\n",
       "  ('laptop', 18),\n",
       "  ('temporary', 18),\n",
       "  ('amp', 17),\n",
       "  ('white', 16),\n",
       "  ('first', 16),\n",
       "  ('u', 15)]}"
      ]
     },
     "execution_count": 57,
     "metadata": {},
     "output_type": "execute_result"
    }
   ],
   "source": [
    "most_common(product_dict['ipad_df'], 15, 3)"
   ]
  },
  {
   "cell_type": "markdown",
   "metadata": {},
   "source": [
    "Ipad is expressed as 'new', 'great', 'good', 'awesome', and 'nice' for positives. While it is quoted as 'ridiculous' and 'weird' for those who were not too impressed by it."
   ]
  },
  {
   "cell_type": "markdown",
   "metadata": {},
   "source": [
    "#### Imac"
   ]
  },
  {
   "cell_type": "code",
   "execution_count": 58,
   "metadata": {},
   "outputs": [
    {
     "data": {
      "text/plain": [
       "{'positive_most_common': [('sweet', 1),\n",
       "  ('temporary', 1),\n",
       "  ('rare', 1),\n",
       "  ('obsolete', 1),\n",
       "  ('rt', 1),\n",
       "  ('glad', 1),\n",
       "  ('cool', 1),\n",
       "  ('tweetie', 1),\n",
       "  ('amp', 1),\n",
       "  ('wish', 1),\n",
       "  ('android', 1),\n",
       "  ('temp', 1),\n",
       "  ('ipad', 1)],\n",
       " 'negative_most_common': [],\n",
       " 'neutral_most_common': [('special', 2),\n",
       "  ('ipad', 2),\n",
       "  ('happened', 2),\n",
       "  ('obsolete', 2),\n",
       "  ('rt', 2),\n",
       "  ('mac', 2),\n",
       "  ('full', 1),\n",
       "  ('app', 1),\n",
       "  ('long', 1),\n",
       "  ('laptop', 1)]}"
      ]
     },
     "execution_count": 58,
     "metadata": {},
     "output_type": "execute_result"
    }
   ],
   "source": [
    "most_common(product_dict['imac_df'], 15, 2)"
   ]
  },
  {
   "cell_type": "markdown",
   "metadata": {},
   "source": [
    "Imac's are commented as 'cool' and 'rare' in positive expressions. There are no negative comments here as well."
   ]
  },
  {
   "cell_type": "markdown",
   "metadata": {},
   "source": [
    "#### Itunes"
   ]
  },
  {
   "cell_type": "code",
   "execution_count": 59,
   "metadata": {},
   "outputs": [
    {
     "data": {
      "text/plain": [
       "{'positive_most_common': [('listen', 1),\n",
       "  ('amp', 1),\n",
       "  ('android', 1),\n",
       "  ('unimitated', 1),\n",
       "  ('scan', 1),\n",
       "  ('ipad', 1),\n",
       "  ('great', 1),\n",
       "  ('sxsw', 1),\n",
       "  ('rt', 1),\n",
       "  ('good', 1),\n",
       "  ('freemusic', 1)],\n",
       " 'negative_most_common': [],\n",
       " 'neutral_most_common': [('featured', 4),\n",
       "  ('download', 4),\n",
       "  ('guide', 2),\n",
       "  ('available', 2),\n",
       "  ('quot', 2),\n",
       "  ('live', 2),\n",
       "  ('album', 2),\n",
       "  ('mix', 2),\n",
       "  ('cc', 2),\n",
       "  ('various', 2),\n",
       "  ('mexican', 1),\n",
       "  ('listen', 1)]}"
      ]
     },
     "execution_count": 59,
     "metadata": {},
     "output_type": "execute_result"
    }
   ],
   "source": [
    "most_common(product_dict['itunes_df'], 15, 3)"
   ]
  },
  {
   "cell_type": "markdown",
   "metadata": {},
   "source": [
    "You can see above that customers have expressed Itunes as 'unimitated', 'great', 'good' and 'free music' for positive scenarios. There is no negative adjectives present for Itunes in our dataset. Neutral comments does not really matter in our analysis. "
   ]
  },
  {
   "cell_type": "markdown",
   "metadata": {},
   "source": [
    "#### Iphone"
   ]
  },
  {
   "cell_type": "code",
   "execution_count": 60,
   "metadata": {},
   "outputs": [
    {
     "data": {
      "text/plain": [
       "{'positive_most_common': [('free', 45),\n",
       "  ('awesome', 28),\n",
       "  ('ubersocial', 21),\n",
       "  ('uberguide', 21),\n",
       "  ('app', 19),\n",
       "  ('android', 16),\n",
       "  ('next', 16),\n",
       "  ('cool', 15),\n",
       "  ('hot', 14),\n",
       "  ('good', 14),\n",
       "  ('ready', 13)],\n",
       " 'negative_most_common': [('new', 6),\n",
       "  ('good', 6),\n",
       "  ('many', 5),\n",
       "  ('quot', 5),\n",
       "  ('u', 5),\n",
       "  ('mobile', 4),\n",
       "  ('dead', 3),\n",
       "  ('stupid', 3),\n",
       "  ('great', 3),\n",
       "  ('ubersocial', 3),\n",
       "  ('uberguide', 3)],\n",
       " 'neutral_most_common': [('free', 52),\n",
       "  ('mobile', 44),\n",
       "  ('ubersocial', 44),\n",
       "  ('uberguide', 44),\n",
       "  ('android', 40),\n",
       "  ('mashable', 25),\n",
       "  ('quot', 20),\n",
       "  ('last', 19),\n",
       "  ('next', 19),\n",
       "  ('good', 13),\n",
       "  ('amp', 12)]}"
      ]
     },
     "execution_count": 60,
     "metadata": {},
     "output_type": "execute_result"
    }
   ],
   "source": [
    "most_common(product_dict['iphone_df'], 15, 4)"
   ]
  },
  {
   "cell_type": "markdown",
   "metadata": {},
   "source": [
    "Lastly, Iphones are quoted as 'awesome', 'cool', 'hot' and 'good' when in favor. It is also quoted as 'dead' and 'stupid' in some negative tweets. "
   ]
  },
  {
   "cell_type": "markdown",
   "metadata": {},
   "source": [
    "Let's plot these in a wordcloud to visualize the most common words."
   ]
  },
  {
   "cell_type": "markdown",
   "metadata": {},
   "source": [
    "### Apple Words"
   ]
  },
  {
   "cell_type": "code",
   "execution_count": 61,
   "metadata": {},
   "outputs": [],
   "source": [
    "# Create a list of positive and negative words\n",
    "\n",
    "apple_positives = ('Great ' * 7 + 'Cool ' * 6 + 'Awesome ' * 5 + 'Nice ' * 3 + 'Hot ' * 2 + 'Brilliant ' * 1) \n",
    "apple_negatives = ('Ridiculous ' * 4 +  'Weird ' * 3 + 'Dead ' * 3 + 'Stupid ' * 3 + 'Smug ' * 2)"
   ]
  },
  {
   "cell_type": "code",
   "execution_count": 62,
   "metadata": {},
   "outputs": [
    {
     "data": {
      "image/png": "[encoded data removed]",
      "text/plain": [
       "<Figure size 432x288 with 1 Axes>"
      ]
     },
     "metadata": {
      "needs_background": "light"
     },
     "output_type": "display_data"
    }
   ],
   "source": [
    "# Create the wordcloud object\n",
    "\n",
    "wordcloud = WordCloud(width=400, height=400, margin=0,\n",
    "                     background_color='white', scale=0.65,\n",
    "                     relative_scaling=.75, repeat=False,\n",
    "                     min_font_size=10).generate(apple_positives)\n",
    "    \n",
    "# Display the generated image\n",
    "\n",
    "plt.imshow(wordcloud, interpolation=\"bilinear\")\n",
    "plt.axis(\"off\")\n",
    "plt.margins(x=0, y=0)\n",
    "plt.tight_layout()\n",
    "plt.show()\n",
    "wordcloud.to_file(r'Images/apple_postive_wordcloud.jpg');"
   ]
  },
  {
   "cell_type": "code",
   "execution_count": 63,
   "metadata": {},
   "outputs": [
    {
     "data": {
      "image/png": "[encoded data removed]",
      "text/plain": [
       "<Figure size 432x288 with 1 Axes>"
      ]
     },
     "metadata": {
      "needs_background": "light"
     },
     "output_type": "display_data"
    }
   ],
   "source": [
    "# Create the wordcloud object\n",
    "\n",
    "wordcloud = WordCloud(width=640, height=640, margin=0,\n",
    "                     background_color='white', scale=0.65,\n",
    "                     relative_scaling=.75, repeat=False,\n",
    "                     min_font_size=10).generate(apple_negatives)\n",
    "    \n",
    "# Display the generated image\n",
    "\n",
    "plt.imshow(wordcloud, interpolation=\"bilinear\")\n",
    "plt.axis(\"off\")\n",
    "plt.margins(x=0, y=0)\n",
    "plt.show()\n",
    "wordcloud.to_file(r'Images/apple_negative_wordcloud.jpg');"
   ]
  },
  {
   "cell_type": "markdown",
   "metadata": {},
   "source": [
    "### Google Words"
   ]
  },
  {
   "cell_type": "code",
   "execution_count": 64,
   "metadata": {},
   "outputs": [],
   "source": [
    "# Create a list of postivive and negative words\n",
    "\n",
    "google_positives = ('Major ' * 6 + 'Great ' * 5 + 'Big ' * 2)\n",
    "google_negatives = ('False ' * 4)"
   ]
  },
  {
   "cell_type": "code",
   "execution_count": 65,
   "metadata": {},
   "outputs": [
    {
     "data": {
      "image/png": "[encoded data removed]",
      "text/plain": [
       "<Figure size 432x288 with 1 Axes>"
      ]
     },
     "metadata": {
      "needs_background": "light"
     },
     "output_type": "display_data"
    }
   ],
   "source": [
    "# Create the wordcloud object\n",
    "\n",
    "wordcloud = WordCloud(width=640, height=640, margin=0,\n",
    "                     background_color='white', scale=0.65,\n",
    "                     relative_scaling=.75, repeat=False,\n",
    "                     min_font_size=10).generate(google_positives)\n",
    "    \n",
    "# Display the generated image\n",
    "\n",
    "plt.imshow(wordcloud, interpolation=\"bilinear\")\n",
    "plt.axis(\"off\")\n",
    "plt.margins(x=0, y=0)\n",
    "plt.show()\n",
    "wordcloud.to_file(r'Images/google_positive_wordcloud.jpg');"
   ]
  },
  {
   "cell_type": "code",
   "execution_count": 66,
   "metadata": {},
   "outputs": [
    {
     "data": {
      "image/png": "[encoded data removed]",
      "text/plain": [
       "<Figure size 432x288 with 1 Axes>"
      ]
     },
     "metadata": {
      "needs_background": "light"
     },
     "output_type": "display_data"
    }
   ],
   "source": [
    "# Create the wordcloud object\n",
    "\n",
    "wordcloud = WordCloud(width=640, height=640, margin=0,\n",
    "                     background_color='white', scale=0.65,\n",
    "                     relative_scaling=.75, repeat=False,\n",
    "                     min_font_size=10).generate(google_negatives)\n",
    "    \n",
    "# Display the generated image\n",
    "\n",
    "plt.imshow(wordcloud, interpolation=\"bilinear\")\n",
    "plt.axis(\"off\")\n",
    "plt.margins(x=0, y=0)\n",
    "plt.show()\n",
    "wordcloud.to_file(r'Images/google_negative_wordcloud.jpg');"
   ]
  },
  {
   "cell_type": "markdown",
   "metadata": {},
   "source": [
    "Now that we know what customers are saying about each brand and product, we can move onto the machine learning part of this project where we will create a classifier to predict positive, negative and neutral tweets."
   ]
  },
  {
   "cell_type": "markdown",
   "metadata": {},
   "source": [
    "### Data Preparation"
   ]
  },
  {
   "cell_type": "code",
   "execution_count": 67,
   "metadata": {},
   "outputs": [],
   "source": [
    "# Create a copy of the dataframe for safe modeling\n",
    "\n",
    "df_final = df_clean.copy()"
   ]
  },
  {
   "cell_type": "markdown",
   "metadata": {},
   "source": [
    "First, we need to transform the target variables into numerical classes."
   ]
  },
  {
   "cell_type": "code",
   "execution_count": 70,
   "metadata": {},
   "outputs": [],
   "source": [
    "df_final.emotion = df_final.emotion.map({'Neutral emotion':0,\n",
    "                                         'Positive emotion':1,\n",
    "                                         'Negative emotion':2})"
   ]
  },
  {
   "cell_type": "code",
   "execution_count": 71,
   "metadata": {},
   "outputs": [
    {
     "data": {
      "text/html": [
       "<div>\n",
       "<style scoped>\n",
       "    .dataframe tbody tr th:only-of-type {\n",
       "        vertical-align: middle;\n",
       "    }\n",
       "\n",
       "    .dataframe tbody tr th {\n",
       "        vertical-align: top;\n",
       "    }\n",
       "\n",
       "    .dataframe thead th {\n",
       "        text-align: right;\n",
       "    }\n",
       "</style>\n",
       "<table border=\"1\" class=\"dataframe\">\n",
       "  <thead>\n",
       "    <tr style=\"text-align: right;\">\n",
       "      <th></th>\n",
       "      <th>tweet_text</th>\n",
       "      <th>emotion</th>\n",
       "      <th>tokenized_tweet</th>\n",
       "      <th>product</th>\n",
       "      <th>pos_tags</th>\n",
       "      <th>expression</th>\n",
       "    </tr>\n",
       "  </thead>\n",
       "  <tbody>\n",
       "    <tr>\n",
       "      <th>0</th>\n",
       "      <td>.@wesley83 I have a 3G iPhone. After 3 hrs twe...</td>\n",
       "      <td>Negative emotion</td>\n",
       "      <td>[wesley, g, iphone, hrs, tweeting, rise, austi...</td>\n",
       "      <td>iphone</td>\n",
       "      <td>[(wesley, NN), (g, NN), (iphone, NN), (hrs, NN...</td>\n",
       "      <td>[dead, upgrade]</td>\n",
       "    </tr>\n",
       "    <tr>\n",
       "      <th>1</th>\n",
       "      <td>@jessedee Know about @fludapp ? Awesome iPad/i...</td>\n",
       "      <td>Positive emotion</td>\n",
       "      <td>[jessedee, know, fludapp, awesome, ipad, iphon...</td>\n",
       "      <td>ipad</td>\n",
       "      <td>[(jessedee, NN), (know, VBP), (fludapp, VBZ), ...</td>\n",
       "      <td>[awesome, likely, free]</td>\n",
       "    </tr>\n",
       "    <tr>\n",
       "      <th>2</th>\n",
       "      <td>@swonderlin Can not wait for #iPad 2 also. The...</td>\n",
       "      <td>Positive emotion</td>\n",
       "      <td>[swonderlin, wait, ipad, also, sale, sxsw]</td>\n",
       "      <td>ipad</td>\n",
       "      <td>[(swonderlin, NN), (wait, NN), (ipad, NN), (al...</td>\n",
       "      <td>[]</td>\n",
       "    </tr>\n",
       "    <tr>\n",
       "      <th>3</th>\n",
       "      <td>@sxsw I hope this year's festival isn't as cra...</td>\n",
       "      <td>Negative emotion</td>\n",
       "      <td>[sxsw, hope, year's, festival, crashy, year's,...</td>\n",
       "      <td>iphone</td>\n",
       "      <td>[(sxsw, NNS), (hope, VBP), (year's, JJ), (fest...</td>\n",
       "      <td>[year's]</td>\n",
       "    </tr>\n",
       "    <tr>\n",
       "      <th>4</th>\n",
       "      <td>@sxtxstate great stuff on Fri #SXSW: Marissa M...</td>\n",
       "      <td>Positive emotion</td>\n",
       "      <td>[sxtxstate, great, stuff, fri, sxsw, marissa, ...</td>\n",
       "      <td>google</td>\n",
       "      <td>[(sxtxstate, NN), (great, JJ), (stuff, NN), (f...</td>\n",
       "      <td>[great, tech, matt]</td>\n",
       "    </tr>\n",
       "  </tbody>\n",
       "</table>\n",
       "</div>"
      ],
      "text/plain": [
       "                                          tweet_text           emotion  \\\n",
       "0  .@wesley83 I have a 3G iPhone. After 3 hrs twe...  Negative emotion   \n",
       "1  @jessedee Know about @fludapp ? Awesome iPad/i...  Positive emotion   \n",
       "2  @swonderlin Can not wait for #iPad 2 also. The...  Positive emotion   \n",
       "3  @sxsw I hope this year's festival isn't as cra...  Negative emotion   \n",
       "4  @sxtxstate great stuff on Fri #SXSW: Marissa M...  Positive emotion   \n",
       "\n",
       "                                     tokenized_tweet product  \\\n",
       "0  [wesley, g, iphone, hrs, tweeting, rise, austi...  iphone   \n",
       "1  [jessedee, know, fludapp, awesome, ipad, iphon...    ipad   \n",
       "2         [swonderlin, wait, ipad, also, sale, sxsw]    ipad   \n",
       "3  [sxsw, hope, year's, festival, crashy, year's,...  iphone   \n",
       "4  [sxtxstate, great, stuff, fri, sxsw, marissa, ...  google   \n",
       "\n",
       "                                            pos_tags               expression  \n",
       "0  [(wesley, NN), (g, NN), (iphone, NN), (hrs, NN...          [dead, upgrade]  \n",
       "1  [(jessedee, NN), (know, VBP), (fludapp, VBZ), ...  [awesome, likely, free]  \n",
       "2  [(swonderlin, NN), (wait, NN), (ipad, NN), (al...                       []  \n",
       "3  [(sxsw, NNS), (hope, VBP), (year's, JJ), (fest...                 [year's]  \n",
       "4  [(sxtxstate, NN), (great, JJ), (stuff, NN), (f...      [great, tech, matt]  "
      ]
     },
     "execution_count": 71,
     "metadata": {},
     "output_type": "execute_result"
    }
   ],
   "source": [
    "# Preview the dataset\n",
    "\n",
    "df_clean.head()"
   ]
  },
  {
   "cell_type": "markdown",
   "metadata": {},
   "source": [
    "We will use the TD-IDF vectorizer to transform our text into a numerical format. This way the computer can understand the characterstics of the text and classify it appropriately.\n",
    "\n",
    "We will need to use the raw tweet_text column for the TD-IDF vectorizer as it handles the count vectorization process on it's own."
   ]
  },
  {
   "cell_type": "markdown",
   "metadata": {},
   "source": [
    "Before we do that, let's split our dataset into train and test datasets."
   ]
  },
  {
   "cell_type": "markdown",
   "metadata": {},
   "source": [
    "### Train test split"
   ]
  },
  {
   "cell_type": "code",
   "execution_count": 72,
   "metadata": {},
   "outputs": [],
   "source": [
    "# Declare independent and target variable\n",
    "\n",
    "X = df_final['tweet_text'].copy()\n",
    "y = df_final['emotion'].copy()"
   ]
  },
  {
   "cell_type": "code",
   "execution_count": 73,
   "metadata": {},
   "outputs": [],
   "source": [
    "X_train, X_test, y_train, y_test = train_test_split(X, y, test_size=.3, random_state=123)"
   ]
  },
  {
   "cell_type": "markdown",
   "metadata": {},
   "source": [
    "### TF-IDF Vectorizer"
   ]
  },
  {
   "cell_type": "code",
   "execution_count": 74,
   "metadata": {},
   "outputs": [],
   "source": [
    "# Initialize the vectorizer\n",
    "vectorizer = TfidfVectorizer()\n",
    "\n",
    "# Fit and transform train and test sets\n",
    "tf_idf_train = vectorizer.fit_transform(X_train)\n",
    "tf_idf_test = vectorizer.transform(X_test)"
   ]
  },
  {
   "cell_type": "code",
   "execution_count": 75,
   "metadata": {},
   "outputs": [
    {
     "data": {
      "text/plain": [
       "(5352, 7480)"
      ]
     },
     "execution_count": 75,
     "metadata": {},
     "output_type": "execute_result"
    }
   ],
   "source": [
    "tf_idf_train.shape"
   ]
  },
  {
   "cell_type": "markdown",
   "metadata": {},
   "source": [
    "The vectorized product shows that we have 5352 tweets in our train set with 7480 unique words.\n",
    "\n",
    "Now that we have our dataset vectorized, we can fit them in different models and start predicting. "
   ]
  },
  {
   "cell_type": "markdown",
   "metadata": {},
   "source": [
    "Let's create a function to test different models."
   ]
  },
  {
   "cell_type": "code",
   "execution_count": 76,
   "metadata": {},
   "outputs": [],
   "source": [
    "def pred_score(classifier):\n",
    "    \n",
    "    # Instantiate and fit the model\n",
    "    clf = classifier\n",
    "    clf.fit(tf_idf_train, y_train)\n",
    "    \n",
    "    # Predict the training and test sets\n",
    "    train_preds = clf.predict(tf_idf_train)\n",
    "    test_preds = clf.predict(tf_idf_test)\n",
    "    \n",
    "    # Calculate and print accuracy scores\n",
    "    print(clf)\n",
    "    print('----------------------------------')\n",
    "    train_score = accuracy_score(y_train, train_preds) *100\n",
    "    print('Training accuracy: {}'.format(train_score)) \n",
    "    test_score = accuracy_score(y_test, test_preds) *100\n",
    "    print('Test accuracy: {}'.format(test_score))"
   ]
  },
  {
   "cell_type": "markdown",
   "metadata": {},
   "source": [
    "### Naive Bayes"
   ]
  },
  {
   "cell_type": "code",
   "execution_count": 77,
   "metadata": {},
   "outputs": [
    {
     "name": "stdout",
     "output_type": "stream",
     "text": [
      "MultinomialNB()\n",
      "----------------------------------\n",
      "Training accuracy: 73.93497757847534\n",
      "Test accuracy: 63.13725490196078\n"
     ]
    }
   ],
   "source": [
    "pred_score(MultinomialNB())"
   ]
  },
  {
   "cell_type": "markdown",
   "metadata": {},
   "source": [
    "The NB model seems to have performed averagely at 63.14% test accuracy. The training accuracy is higher than the test accuracy which shows signs of overfitting."
   ]
  },
  {
   "cell_type": "markdown",
   "metadata": {},
   "source": [
    "### Random Forest Classifier"
   ]
  },
  {
   "cell_type": "code",
   "execution_count": 78,
   "metadata": {},
   "outputs": [
    {
     "name": "stdout",
     "output_type": "stream",
     "text": [
      "RandomForestClassifier()\n",
      "----------------------------------\n",
      "Training accuracy: 99.64499252615845\n",
      "Test accuracy: 66.1437908496732\n"
     ]
    }
   ],
   "source": [
    "pred_score(RandomForestClassifier(n_estimators=100))"
   ]
  },
  {
   "cell_type": "markdown",
   "metadata": {},
   "source": [
    "The RandomForestClassifier seems to have performed a bit better than the NB model at 66.14% test accuracy. The model was able to train itself on the training dataset pretty well however, it was not able to generalize well on the test set.\n",
    "\n",
    "Text classification is not as straight forward as label classification. Recurring Neural Networks using the LSTM architecture usually perform very well with text classification. We will deploy the neural network to classify our data."
   ]
  },
  {
   "cell_type": "markdown",
   "metadata": {},
   "source": [
    "### Recurring Neural Network using LTSM"
   ]
  },
  {
   "cell_type": "markdown",
   "metadata": {},
   "source": [
    "RNN works better in dense vectors rather than sparse vectors. We will need to perform Word Embedding separately using Keras to run our model."
   ]
  },
  {
   "cell_type": "markdown",
   "metadata": {},
   "source": [
    "#### Word Embedding"
   ]
  },
  {
   "cell_type": "markdown",
   "metadata": {},
   "source": [
    "First, we need to transform our array of text to 2D numerical arrays"
   ]
  },
  {
   "cell_type": "code",
   "execution_count": 79,
   "metadata": {},
   "outputs": [
    {
     "name": "stdout",
     "output_type": "stream",
     "text": [
      "[[   0    0    0 ... 3490    6    1]\n",
      " [   0    0    0 ... 3491    6    1]\n",
      " [   0    0    0 ...  192    6    1]\n",
      " ...\n",
      " [   0    0    0 ...    4    9   33]\n",
      " [   0    0    0 ...  140 3305    1]\n",
      " [   0    0    0 ...    6    1    4]]\n"
     ]
    }
   ],
   "source": [
    "max_words = 5000\n",
    "max_len = 40\n",
    "\n",
    "# Initialize the tokenizer\n",
    "tokenizer = Tokenizer(num_words=max_words)\n",
    "\n",
    "# Fit the text\n",
    "tokenizer.fit_on_texts(X)\n",
    "\n",
    "# Convert list of strings to list list of interegers\n",
    "sequences = tokenizer.texts_to_sequences(X)\n",
    "\n",
    "# Pad the tweets to a max of 40 features\n",
    "tweets = pad_sequences(sequences, maxlen=max_len)\n",
    "\n",
    "print(tweets)"
   ]
  },
  {
   "cell_type": "code",
   "execution_count": 80,
   "metadata": {},
   "outputs": [],
   "source": [
    "# Create train and test sets for these transformed arrays\n",
    "\n",
    "X2_train, X2_test, y2_train, y2_test = train_test_split(tweets, y, test_size=.30, random_state=111)"
   ]
  },
  {
   "cell_type": "code",
   "execution_count": 81,
   "metadata": {},
   "outputs": [],
   "source": [
    "# Declare the independent variable\n",
    "\n",
    "X2 = df_clean['tweet_text'].copy()"
   ]
  },
  {
   "cell_type": "markdown",
   "metadata": {},
   "source": [
    "Since this is a multiclass problem, we need to encode our target variables."
   ]
  },
  {
   "cell_type": "code",
   "execution_count": 83,
   "metadata": {},
   "outputs": [],
   "source": [
    "# Use Keras to encode labels into 3 classes\n",
    "\n",
    "y2_train = keras.utils.to_categorical(y2_train, 3)\n",
    "y2_test = keras.utils.to_categorical(y2_test, 3)"
   ]
  },
  {
   "cell_type": "markdown",
   "metadata": {},
   "source": [
    "#### Base model - LSTM"
   ]
  },
  {
   "cell_type": "code",
   "execution_count": 87,
   "metadata": {},
   "outputs": [],
   "source": [
    "# Build the model\n",
    "model = Sequential()\n",
    "\n",
    "# Add the embedding layer\n",
    "model.add(layers.Embedding(max_words, 40))\n",
    "\n",
    "# Add the LSTM layer with dropout\n",
    "model.add(layers.LSTM(20, dropout=0.3)) \n",
    "\n",
    "# Final layer using softmax\n",
    "model.add(layers.Dense(3, activation='softmax'))\n",
    "\n",
    "# Compile the model\n",
    "model.compile(optimizer='rmsprop',loss='categorical_crossentropy', metrics=['accuracy'])"
   ]
  },
  {
   "cell_type": "code",
   "execution_count": 88,
   "metadata": {},
   "outputs": [
    {
     "name": "stdout",
     "output_type": "stream",
     "text": [
      "Model: \"sequential\"\n",
      "_________________________________________________________________\n",
      "Layer (type)                 Output Shape              Param #   \n",
      "=================================================================\n",
      "embedding (Embedding)        (None, None, 40)          200000    \n",
      "_________________________________________________________________\n",
      "lstm (LSTM)                  (None, 20)                4880      \n",
      "_________________________________________________________________\n",
      "dense (Dense)                (None, 3)                 63        \n",
      "=================================================================\n",
      "Total params: 204,943\n",
      "Trainable params: 204,943\n",
      "Non-trainable params: 0\n",
      "_________________________________________________________________\n"
     ]
    }
   ],
   "source": [
    "# Inspect the shape of your model\n",
    "model.summary()"
   ]
  },
  {
   "cell_type": "markdown",
   "metadata": {},
   "source": [
    "We can see in the above table that we have 3 layers and 204,943 traininable parameters. "
   ]
  },
  {
   "cell_type": "code",
   "execution_count": 89,
   "metadata": {},
   "outputs": [
    {
     "name": "stdout",
     "output_type": "stream",
     "text": [
      "Epoch 1/20\n",
      "168/168 [==============================] - 4s 22ms/step - loss: 0.8665 - accuracy: 0.5710 - val_loss: 0.8555 - val_accuracy: 0.5752\n",
      "Epoch 2/20\n",
      "168/168 [==============================] - 3s 17ms/step - loss: 0.7911 - accuracy: 0.6256 - val_loss: 0.8445 - val_accuracy: 0.6078\n",
      "Epoch 3/20\n",
      "168/168 [==============================] - 3s 18ms/step - loss: 0.7114 - accuracy: 0.6863 - val_loss: 0.8400 - val_accuracy: 0.5699\n",
      "Epoch 4/20\n",
      "168/168 [==============================] - 3s 17ms/step - loss: 0.6461 - accuracy: 0.7207 - val_loss: 0.7939 - val_accuracy: 0.6505\n",
      "Epoch 5/20\n",
      "168/168 [==============================] - 3s 17ms/step - loss: 0.6006 - accuracy: 0.7479 - val_loss: 0.7615 - val_accuracy: 0.6566\n",
      "Epoch 6/20\n",
      "168/168 [==============================] - 3s 17ms/step - loss: 0.5531 - accuracy: 0.7754 - val_loss: 0.7852 - val_accuracy: 0.6632\n",
      "Epoch 7/20\n",
      "168/168 [==============================] - 3s 15ms/step - loss: 0.5234 - accuracy: 0.7881 - val_loss: 0.8136 - val_accuracy: 0.6357\n",
      "Epoch 8/20\n",
      "168/168 [==============================] - 3s 17ms/step - loss: 0.4928 - accuracy: 0.8033 - val_loss: 0.8334 - val_accuracy: 0.6580\n",
      "Epoch 9/20\n",
      "168/168 [==============================] - 3s 18ms/step - loss: 0.4737 - accuracy: 0.8064 - val_loss: 0.8192 - val_accuracy: 0.6597\n",
      "Epoch 10/20\n",
      "168/168 [==============================] - 3s 17ms/step - loss: 0.4572 - accuracy: 0.8175 - val_loss: 0.8390 - val_accuracy: 0.6501\n",
      "Epoch 11/20\n",
      "168/168 [==============================] - 3s 17ms/step - loss: 0.4340 - accuracy: 0.8283 - val_loss: 0.8356 - val_accuracy: 0.6540\n",
      "Epoch 12/20\n",
      "168/168 [==============================] - 3s 17ms/step - loss: 0.4190 - accuracy: 0.8358 - val_loss: 0.8617 - val_accuracy: 0.6654\n",
      "Epoch 13/20\n",
      "168/168 [==============================] - 3s 17ms/step - loss: 0.4096 - accuracy: 0.8354 - val_loss: 0.9066 - val_accuracy: 0.6671\n",
      "Epoch 14/20\n",
      "168/168 [==============================] - 3s 16ms/step - loss: 0.3958 - accuracy: 0.8412 - val_loss: 0.8673 - val_accuracy: 0.6558\n",
      "Epoch 15/20\n",
      "168/168 [==============================] - 3s 17ms/step - loss: 0.3878 - accuracy: 0.8498 - val_loss: 0.8978 - val_accuracy: 0.6514\n",
      "Epoch 16/20\n",
      "168/168 [==============================] - 3s 17ms/step - loss: 0.3752 - accuracy: 0.8548 - val_loss: 0.9340 - val_accuracy: 0.6688\n",
      "Epoch 17/20\n",
      "168/168 [==============================] - 3s 16ms/step - loss: 0.3748 - accuracy: 0.8544 - val_loss: 0.9265 - val_accuracy: 0.6654\n",
      "Epoch 18/20\n",
      "168/168 [==============================] - 3s 16ms/step - loss: 0.3610 - accuracy: 0.8627 - val_loss: 0.9222 - val_accuracy: 0.6540\n",
      "Epoch 19/20\n",
      "168/168 [==============================] - 3s 16ms/step - loss: 0.3552 - accuracy: 0.8621 - val_loss: 0.9382 - val_accuracy: 0.6536\n",
      "Epoch 20/20\n",
      "168/168 [==============================] - 3s 16ms/step - loss: 0.3460 - accuracy: 0.8643 - val_loss: 0.9612 - val_accuracy: 0.6314\n"
     ]
    }
   ],
   "source": [
    "# Fit the model\n",
    "result_1 = model.fit(X2_train, y2_train, epochs=20, validation_data=(X2_test, y2_test))"
   ]
  },
  {
   "cell_type": "code",
   "execution_count": 90,
   "metadata": {},
   "outputs": [
    {
     "name": "stdout",
     "output_type": "stream",
     "text": [
      "72/72 [==============================] - 0s 4ms/step - loss: 0.9612 - accuracy: 0.6314\n",
      "Test Accuracy: 63.137257\n"
     ]
    }
   ],
   "source": [
    "# Evaluate the model\n",
    "loss, accuracy = model.evaluate(X2_test, y2_test)\n",
    "print('Test Accuracy: %f' % (accuracy*100))"
   ]
  },
  {
   "cell_type": "markdown",
   "metadata": {},
   "source": [
    "The unsupervised model with 20 epochs does not seem to have predicted the model any better than the supervised ones. The test accuracy is still 63.14%. Let's visualize this to get a better understanding of our model's performance."
   ]
  },
  {
   "cell_type": "markdown",
   "metadata": {},
   "source": [
    "### Visualizing Loss and Accuracy Curves"
   ]
  },
  {
   "cell_type": "code",
   "execution_count": 91,
   "metadata": {},
   "outputs": [],
   "source": [
    "# Create a function to plot loss and accuracy curves\n",
    "\n",
    "def visualize_training_results(results):\n",
    "    history = results.history\n",
    "    plt.figure()\n",
    "    plt.plot(history['val_loss'])\n",
    "    plt.plot(history['loss'])\n",
    "    plt.legend(['val_loss', 'loss'])\n",
    "    plt.title('Loss')\n",
    "    plt.xlabel('Epochs')\n",
    "    plt.ylabel('Loss')\n",
    "    plt.show()\n",
    "    \n",
    "    plt.figure()\n",
    "    plt.plot(history['val_accuracy'])\n",
    "    plt.plot(history['accuracy'])\n",
    "    plt.legend(['val_accuracy', 'accuracy'])\n",
    "    plt.title('Accuracy')\n",
    "    plt.xlabel('Epochs')\n",
    "    plt.ylabel('Accuracy')\n",
    "    plt.show()"
   ]
  },
  {
   "cell_type": "code",
   "execution_count": 92,
   "metadata": {},
   "outputs": [
    {
     "data": {
      "image/png": "[encoded data removed]",
      "text/plain": [
       "<Figure size 432x288 with 1 Axes>"
      ]
     },
     "metadata": {
      "needs_background": "light"
     },
     "output_type": "display_data"
    },
    {
     "data": {
      "image/png": "[encoded data removed]",
      "text/plain": [
       "<Figure size 432x288 with 1 Axes>"
      ]
     },
     "metadata": {
      "needs_background": "light"
     },
     "output_type": "display_data"
    }
   ],
   "source": [
    "visualize_training_results(result_1)"
   ]
  },
  {
   "cell_type": "markdown",
   "metadata": {},
   "source": [
    "Our validation accuracy is way lower than the training accuracy. This shows that our model is overfitting. One way for tackling overfitting is by regularization using dropout layers in the model. Let's see if we can improve the model performance with this."
   ]
  },
  {
   "cell_type": "markdown",
   "metadata": {},
   "source": [
    "#### Model 2 - Dropout"
   ]
  },
  {
   "cell_type": "code",
   "execution_count": 93,
   "metadata": {},
   "outputs": [
    {
     "name": "stdout",
     "output_type": "stream",
     "text": [
      "Model: \"sequential_1\"\n",
      "_________________________________________________________________\n",
      "Layer (type)                 Output Shape              Param #   \n",
      "=================================================================\n",
      "embedding_1 (Embedding)      (None, None, 40)          200000    \n",
      "_________________________________________________________________\n",
      "lstm_1 (LSTM)                (None, 20)                4880      \n",
      "_________________________________________________________________\n",
      "dense_1 (Dense)              (None, 15)                315       \n",
      "_________________________________________________________________\n",
      "dropout (Dropout)            (None, 15)                0         \n",
      "_________________________________________________________________\n",
      "dense_2 (Dense)              (None, 10)                160       \n",
      "_________________________________________________________________\n",
      "dropout_1 (Dropout)          (None, 10)                0         \n",
      "_________________________________________________________________\n",
      "dense_3 (Dense)              (None, 3)                 33        \n",
      "=================================================================\n",
      "Total params: 205,388\n",
      "Trainable params: 205,388\n",
      "Non-trainable params: 0\n",
      "_________________________________________________________________\n"
     ]
    }
   ],
   "source": [
    "model2 = Sequential()\n",
    "# Add the embedding layer\n",
    "model2.add(layers.Embedding(max_words, 40))\n",
    "\n",
    "# Add the LSTM layer with dropout\n",
    "model2.add(layers.LSTM(20, dropout=0.3)) \n",
    "\n",
    "# Add second layer using relu activation\n",
    "model2.add(layers.Dense(15, activation='relu'))\n",
    "# Implement dropout to the second hidden layer \n",
    "model2.add(layers.Dropout(0.3))\n",
    "\n",
    "# Add third dense layer using relu activation\n",
    "model2.add(layers.Dense(10, activation='relu'))\n",
    "# Implement dropout to the third hidden layer \n",
    "model2.add(layers.Dropout(0.3))\n",
    "\n",
    "# Final layer using softmax\n",
    "model2.add(layers.Dense(3, activation='softmax'))\n",
    "\n",
    "# Compile the model\n",
    "model2.compile(optimizer='rmsprop',loss='categorical_crossentropy', metrics=['accuracy'])\n",
    "\n",
    "# Inspect the model\n",
    "model2.summary()"
   ]
  },
  {
   "cell_type": "markdown",
   "metadata": {},
   "source": [
    "We now have an extra layers in our model with dropout. Let's see how this performs."
   ]
  },
  {
   "cell_type": "markdown",
   "metadata": {},
   "source": [
    "We can also use EarlyStopping from keras.callbacks to stop the model from running through all epochs when it starts to overfit."
   ]
  },
  {
   "cell_type": "code",
   "execution_count": 94,
   "metadata": {},
   "outputs": [],
   "source": [
    "# Define the callbacks\n",
    "early_stopping = [EarlyStopping(monitor='val_loss', patience=10), \n",
    "                  ModelCheckpoint(filepath='best_model.h5', monitor='val_loss', save_best_only=True)]"
   ]
  },
  {
   "cell_type": "code",
   "execution_count": 95,
   "metadata": {},
   "outputs": [
    {
     "name": "stdout",
     "output_type": "stream",
     "text": [
      "Epoch 1/50\n",
      "168/168 [==============================] - 4s 21ms/step - loss: 0.9418 - accuracy: 0.5682 - val_loss: 0.8852 - val_accuracy: 0.5699\n",
      "Epoch 2/50\n",
      "168/168 [==============================] - 3s 20ms/step - loss: 0.8582 - accuracy: 0.5787 - val_loss: 0.8363 - val_accuracy: 0.5935\n",
      "Epoch 3/50\n",
      "168/168 [==============================] - 3s 20ms/step - loss: 0.8216 - accuracy: 0.6314 - val_loss: 0.8390 - val_accuracy: 0.6009\n",
      "Epoch 4/50\n",
      "168/168 [==============================] - 3s 19ms/step - loss: 0.7766 - accuracy: 0.6741 - val_loss: 0.8878 - val_accuracy: 0.6166\n",
      "Epoch 5/50\n",
      "168/168 [==============================] - 3s 19ms/step - loss: 0.7552 - accuracy: 0.6947 - val_loss: 0.8358 - val_accuracy: 0.6318\n",
      "Epoch 6/50\n",
      "168/168 [==============================] - 3s 19ms/step - loss: 0.7267 - accuracy: 0.7059 - val_loss: 0.8323 - val_accuracy: 0.6309\n",
      "Epoch 7/50\n",
      "168/168 [==============================] - 3s 19ms/step - loss: 0.6988 - accuracy: 0.7294 - val_loss: 0.8395 - val_accuracy: 0.5939\n",
      "Epoch 8/50\n",
      "168/168 [==============================] - 3s 19ms/step - loss: 0.6709 - accuracy: 0.7448 - val_loss: 0.8373 - val_accuracy: 0.6383\n",
      "Epoch 9/50\n",
      "168/168 [==============================] - 3s 18ms/step - loss: 0.6629 - accuracy: 0.7522 - val_loss: 0.8523 - val_accuracy: 0.6414\n",
      "Epoch 10/50\n",
      "168/168 [==============================] - 3s 18ms/step - loss: 0.6375 - accuracy: 0.7612 - val_loss: 0.8752 - val_accuracy: 0.6410\n",
      "Epoch 11/50\n",
      "168/168 [==============================] - 3s 18ms/step - loss: 0.6326 - accuracy: 0.7651 - val_loss: 0.8574 - val_accuracy: 0.6139\n",
      "Epoch 12/50\n",
      "168/168 [==============================] - 3s 17ms/step - loss: 0.6211 - accuracy: 0.7691 - val_loss: 0.8852 - val_accuracy: 0.6126\n",
      "Epoch 13/50\n",
      "168/168 [==============================] - 3s 16ms/step - loss: 0.5968 - accuracy: 0.7842 - val_loss: 0.9277 - val_accuracy: 0.6248\n",
      "Epoch 14/50\n",
      "168/168 [==============================] - 3s 17ms/step - loss: 0.5769 - accuracy: 0.7825 - val_loss: 0.9605 - val_accuracy: 0.6309\n",
      "Epoch 15/50\n",
      "168/168 [==============================] - 3s 16ms/step - loss: 0.5734 - accuracy: 0.7932 - val_loss: 0.9088 - val_accuracy: 0.6379\n",
      "Epoch 16/50\n",
      "168/168 [==============================] - 3s 16ms/step - loss: 0.5589 - accuracy: 0.7976 - val_loss: 0.9194 - val_accuracy: 0.6244\n"
     ]
    }
   ],
   "source": [
    "# Fit the model\n",
    "result_2 = model2.fit(X2_train, y2_train, epochs=50, callbacks=early_stopping, validation_data=(X2_test, y2_test))"
   ]
  },
  {
   "cell_type": "code",
   "execution_count": 96,
   "metadata": {},
   "outputs": [],
   "source": [
    "# Load the best (saved) model\n",
    "saved_model = load_model('best_model.h5')"
   ]
  },
  {
   "cell_type": "code",
   "execution_count": 97,
   "metadata": {},
   "outputs": [
    {
     "name": "stdout",
     "output_type": "stream",
     "text": [
      "72/72 [==============================] - 0s 4ms/step - loss: 0.8323 - accuracy: 0.6309\n",
      "Test Accuracy: 63.093680\n"
     ]
    }
   ],
   "source": [
    "# Evaluate the model\n",
    "loss, accuracy = saved_model.evaluate(X2_test, y2_test)\n",
    "print('Test Accuracy: %f' % (accuracy*100))"
   ]
  },
  {
   "cell_type": "markdown",
   "metadata": {},
   "source": [
    "The dropout model does not seem to have improved."
   ]
  },
  {
   "cell_type": "code",
   "execution_count": 98,
   "metadata": {},
   "outputs": [
    {
     "data": {
      "image/png": "[encoded data removed]",
      "text/plain": [
       "<Figure size 432x288 with 1 Axes>"
      ]
     },
     "metadata": {
      "needs_background": "light"
     },
     "output_type": "display_data"
    },
    {
     "data": {
      "image/png": "[encoded data removed]",
      "text/plain": [
       "<Figure size 432x288 with 1 Axes>"
      ]
     },
     "metadata": {
      "needs_background": "light"
     },
     "output_type": "display_data"
    }
   ],
   "source": [
    "visualize_training_results(result_2)"
   ]
  },
  {
   "cell_type": "markdown",
   "metadata": {},
   "source": [
    "The model did not improve. Let's try other activation functions."
   ]
  },
  {
   "cell_type": "markdown",
   "metadata": {},
   "source": [
    "#### Model 3 - Activation: sigmoid"
   ]
  },
  {
   "cell_type": "code",
   "execution_count": 99,
   "metadata": {},
   "outputs": [
    {
     "name": "stdout",
     "output_type": "stream",
     "text": [
      "Model: \"sequential_2\"\n",
      "_________________________________________________________________\n",
      "Layer (type)                 Output Shape              Param #   \n",
      "=================================================================\n",
      "embedding_2 (Embedding)      (None, None, 40)          200000    \n",
      "_________________________________________________________________\n",
      "lstm_2 (LSTM)                (None, 30)                8520      \n",
      "_________________________________________________________________\n",
      "dense_4 (Dense)              (None, 20)                620       \n",
      "_________________________________________________________________\n",
      "dropout_2 (Dropout)          (None, 20)                0         \n",
      "_________________________________________________________________\n",
      "dense_5 (Dense)              (None, 10)                210       \n",
      "_________________________________________________________________\n",
      "dropout_3 (Dropout)          (None, 10)                0         \n",
      "_________________________________________________________________\n",
      "dense_6 (Dense)              (None, 3)                 33        \n",
      "=================================================================\n",
      "Total params: 209,383\n",
      "Trainable params: 209,383\n",
      "Non-trainable params: 0\n",
      "_________________________________________________________________\n"
     ]
    }
   ],
   "source": [
    "model3 = Sequential()\n",
    "# Add the embedding layer\n",
    "model3.add(layers.Embedding(max_words, 40))\n",
    "\n",
    "# Add the LSTM layer with dropout\n",
    "model3.add(layers.LSTM(30, dropout=0.3)) \n",
    "\n",
    "# Add second layer using relu activation\n",
    "model3.add(layers.Dense(20, activation='relu'))\n",
    "# Implement dropout to the second hidden layer \n",
    "model3.add(layers.Dropout(0.3))\n",
    "\n",
    "# Add third dense layer using relu activation\n",
    "model3.add(layers.Dense(10, activation='relu'))\n",
    "# Implement dropout to the third hidden layer \n",
    "model3.add(layers.Dropout(0.3))\n",
    "\n",
    "# Final layer using softmax\n",
    "model3.add(layers.Dense(3, activation='sigmoid'))\n",
    "\n",
    "# Compile the model\n",
    "model3.compile(optimizer='rmsprop',loss='categorical_crossentropy', metrics=['accuracy'])\n",
    "\n",
    "# Inspect the model\n",
    "model3.summary()"
   ]
  },
  {
   "cell_type": "code",
   "execution_count": 100,
   "metadata": {},
   "outputs": [],
   "source": [
    "# Define the callbacks\n",
    "early_stopping_3 = [EarlyStopping(monitor='val_loss', patience=10), \n",
    "                  ModelCheckpoint(filepath='best_model3.h5', monitor='val_loss', save_best_only=True)]"
   ]
  },
  {
   "cell_type": "code",
   "execution_count": 101,
   "metadata": {},
   "outputs": [
    {
     "name": "stdout",
     "output_type": "stream",
     "text": [
      "Epoch 1/50\n",
      "168/168 [==============================] - 4s 22ms/step - loss: 0.9303 - accuracy: 0.5486 - val_loss: 0.8790 - val_accuracy: 0.5699\n",
      "Epoch 2/50\n",
      "168/168 [==============================] - 3s 20ms/step - loss: 0.8894 - accuracy: 0.5604 - val_loss: 0.8558 - val_accuracy: 0.5699\n",
      "Epoch 3/50\n",
      "168/168 [==============================] - 3s 20ms/step - loss: 0.8578 - accuracy: 0.5626 - val_loss: 0.8442 - val_accuracy: 0.5699\n",
      "Epoch 4/50\n",
      "168/168 [==============================] - 3s 20ms/step - loss: 0.8348 - accuracy: 0.5686 - val_loss: 0.8417 - val_accuracy: 0.5699\n",
      "Epoch 5/50\n",
      "168/168 [==============================] - 3s 20ms/step - loss: 0.8219 - accuracy: 0.5684 - val_loss: 0.8390 - val_accuracy: 0.5699\n",
      "Epoch 6/50\n",
      "168/168 [==============================] - 3s 20ms/step - loss: 0.8096 - accuracy: 0.5676 - val_loss: 0.8449 - val_accuracy: 0.5699\n",
      "Epoch 7/50\n",
      "168/168 [==============================] - 3s 20ms/step - loss: 0.7942 - accuracy: 0.5760 - val_loss: 0.8381 - val_accuracy: 0.5725\n",
      "Epoch 8/50\n",
      "168/168 [==============================] - 3s 20ms/step - loss: 0.7877 - accuracy: 0.5886 - val_loss: 0.8420 - val_accuracy: 0.5756\n",
      "Epoch 9/50\n",
      "168/168 [==============================] - 3s 17ms/step - loss: 0.7713 - accuracy: 0.6138 - val_loss: 0.8501 - val_accuracy: 0.5725\n",
      "Epoch 10/50\n",
      "168/168 [==============================] - 3s 17ms/step - loss: 0.7475 - accuracy: 0.6431 - val_loss: 0.8475 - val_accuracy: 0.5913\n",
      "Epoch 11/50\n",
      "168/168 [==============================] - 3s 17ms/step - loss: 0.7272 - accuracy: 0.6583 - val_loss: 0.8630 - val_accuracy: 0.5926\n",
      "Epoch 12/50\n",
      "168/168 [==============================] - 3s 18ms/step - loss: 0.7057 - accuracy: 0.6893 - val_loss: 0.8347 - val_accuracy: 0.6048\n",
      "Epoch 13/50\n",
      "168/168 [==============================] - 3s 18ms/step - loss: 0.6834 - accuracy: 0.7042 - val_loss: 0.8621 - val_accuracy: 0.6209\n",
      "Epoch 14/50\n",
      "168/168 [==============================] - 3s 18ms/step - loss: 0.6748 - accuracy: 0.7240 - val_loss: 0.8829 - val_accuracy: 0.6301\n",
      "Epoch 15/50\n",
      "168/168 [==============================] - 3s 18ms/step - loss: 0.6333 - accuracy: 0.7502 - val_loss: 0.8594 - val_accuracy: 0.6370\n",
      "Epoch 16/50\n",
      "168/168 [==============================] - 3s 18ms/step - loss: 0.6105 - accuracy: 0.7586 - val_loss: 0.8930 - val_accuracy: 0.5965\n",
      "Epoch 17/50\n",
      "168/168 [==============================] - 3s 18ms/step - loss: 0.5861 - accuracy: 0.7801 - val_loss: 0.8659 - val_accuracy: 0.6340\n",
      "Epoch 18/50\n",
      "168/168 [==============================] - 3s 18ms/step - loss: 0.5673 - accuracy: 0.7900 - val_loss: 0.8541 - val_accuracy: 0.6410\n",
      "Epoch 19/50\n",
      "168/168 [==============================] - 3s 17ms/step - loss: 0.5449 - accuracy: 0.7943 - val_loss: 0.9188 - val_accuracy: 0.6471\n",
      "Epoch 20/50\n",
      "168/168 [==============================] - 3s 18ms/step - loss: 0.5260 - accuracy: 0.8075 - val_loss: 0.9201 - val_accuracy: 0.6427\n",
      "Epoch 21/50\n",
      "168/168 [==============================] - 3s 18ms/step - loss: 0.5119 - accuracy: 0.8113 - val_loss: 0.9161 - val_accuracy: 0.6532\n",
      "Epoch 22/50\n",
      "168/168 [==============================] - 3s 18ms/step - loss: 0.4916 - accuracy: 0.8204 - val_loss: 0.9126 - val_accuracy: 0.6475\n"
     ]
    }
   ],
   "source": [
    "# Fit the model\n",
    "result_3 = model3.fit(X2_train, y2_train, epochs=50, callbacks=early_stopping_3, validation_data=(X2_test, y2_test))"
   ]
  },
  {
   "cell_type": "code",
   "execution_count": 102,
   "metadata": {},
   "outputs": [
    {
     "name": "stdout",
     "output_type": "stream",
     "text": [
      "72/72 [==============================] - 0s 5ms/step - loss: 0.8347 - accuracy: 0.6048\n",
      "Test Accuracy: 60.479301\n"
     ]
    }
   ],
   "source": [
    "# Load the best (saved) model\n",
    "saved_model_3 = load_model('best_model3.h5')\n",
    "\n",
    "# Evaluate the model\n",
    "loss, accuracy = saved_model_3.evaluate(X2_test, y2_test)\n",
    "print('Test Accuracy: %f' % (accuracy*100))"
   ]
  },
  {
   "cell_type": "markdown",
   "metadata": {},
   "source": [
    "The sigmoid fuction seems to have performed even more poorely."
   ]
  },
  {
   "cell_type": "code",
   "execution_count": 103,
   "metadata": {},
   "outputs": [
    {
     "data": {
      "image/png": "[encoded data removed]",
      "text/plain": [
       "<Figure size 432x288 with 1 Axes>"
      ]
     },
     "metadata": {
      "needs_background": "light"
     },
     "output_type": "display_data"
    },
    {
     "data": {
      "image/png": "[encoded data removed]",
      "text/plain": [
       "<Figure size 432x288 with 1 Axes>"
      ]
     },
     "metadata": {
      "needs_background": "light"
     },
     "output_type": "display_data"
    }
   ],
   "source": [
    "visualize_training_results(result_3)"
   ]
  },
  {
   "cell_type": "markdown",
   "metadata": {},
   "source": [
    "#### Model 4: Adam optimizaiton"
   ]
  },
  {
   "cell_type": "code",
   "execution_count": 104,
   "metadata": {},
   "outputs": [
    {
     "name": "stdout",
     "output_type": "stream",
     "text": [
      "Model: \"sequential_3\"\n",
      "_________________________________________________________________\n",
      "Layer (type)                 Output Shape              Param #   \n",
      "=================================================================\n",
      "embedding_3 (Embedding)      (None, None, 40)          200000    \n",
      "_________________________________________________________________\n",
      "lstm_3 (LSTM)                (None, 20)                4880      \n",
      "_________________________________________________________________\n",
      "dense_7 (Dense)              (None, 15)                315       \n",
      "_________________________________________________________________\n",
      "dropout_4 (Dropout)          (None, 15)                0         \n",
      "_________________________________________________________________\n",
      "dense_8 (Dense)              (None, 10)                160       \n",
      "_________________________________________________________________\n",
      "dropout_5 (Dropout)          (None, 10)                0         \n",
      "_________________________________________________________________\n",
      "dense_9 (Dense)              (None, 5)                 55        \n",
      "_________________________________________________________________\n",
      "dropout_6 (Dropout)          (None, 5)                 0         \n",
      "_________________________________________________________________\n",
      "dense_10 (Dense)             (None, 3)                 18        \n",
      "=================================================================\n",
      "Total params: 205,428\n",
      "Trainable params: 205,428\n",
      "Non-trainable params: 0\n",
      "_________________________________________________________________\n"
     ]
    }
   ],
   "source": [
    "model4 = Sequential()\n",
    "# Add the embedding layer\n",
    "model4.add(layers.Embedding(max_words, 40))\n",
    "\n",
    "# Add the LSTM layer with dropout\n",
    "model4.add(layers.LSTM(20, dropout=0.3)) \n",
    "\n",
    "# Add second layer using relu activation\n",
    "model4.add(layers.Dense(15, activation='relu'))\n",
    "# Implement dropout to the second hidden layer \n",
    "model4.add(layers.Dropout(0.3))\n",
    "\n",
    "# Add third dense layer using relu activation\n",
    "model4.add(layers.Dense(10, activation='relu'))\n",
    "# Implement dropout to the third hidden layer \n",
    "model4.add(layers.Dropout(0.3))\n",
    "\n",
    "# Add third dense layer using relu activation\n",
    "model4.add(layers.Dense(5, activation='relu'))\n",
    "# Implement dropout to the third hidden layer \n",
    "model4.add(layers.Dropout(0.3))\n",
    "\n",
    "# Final layer using softmax\n",
    "model4.add(layers.Dense(3, activation='softmax'))\n",
    "\n",
    "# Compile the model\n",
    "model4.compile(optimizer='adam',loss='categorical_crossentropy', metrics=['accuracy'])\n",
    "\n",
    "# Inspect the model\n",
    "model4.summary()"
   ]
  },
  {
   "cell_type": "code",
   "execution_count": 105,
   "metadata": {},
   "outputs": [],
   "source": [
    "# Define the callbacks\n",
    "early_stopping_4 = [EarlyStopping(monitor='val_loss', patience=10), \n",
    "                  ModelCheckpoint(filepath='best_model4.h5', monitor='val_loss', save_best_only=True)]"
   ]
  },
  {
   "cell_type": "code",
   "execution_count": 106,
   "metadata": {},
   "outputs": [
    {
     "name": "stdout",
     "output_type": "stream",
     "text": [
      "Epoch 1/50\n",
      "168/168 [==============================] - 4s 22ms/step - loss: 0.9647 - accuracy: 0.5277 - val_loss: 0.8782 - val_accuracy: 0.5699\n",
      "Epoch 2/50\n",
      "168/168 [==============================] - 3s 19ms/step - loss: 0.8835 - accuracy: 0.5510 - val_loss: 0.8374 - val_accuracy: 0.5699\n",
      "Epoch 3/50\n",
      "168/168 [==============================] - 3s 19ms/step - loss: 0.8292 - accuracy: 0.5716 - val_loss: 0.8434 - val_accuracy: 0.5699\n",
      "Epoch 4/50\n",
      "168/168 [==============================] - 3s 17ms/step - loss: 0.7786 - accuracy: 0.5893 - val_loss: 0.8564 - val_accuracy: 0.6065\n",
      "Epoch 5/50\n",
      "168/168 [==============================] - 3s 18ms/step - loss: 0.7226 - accuracy: 0.6609 - val_loss: 0.9187 - val_accuracy: 0.6092\n",
      "Epoch 6/50\n",
      "168/168 [==============================] - 3s 17ms/step - loss: 0.6817 - accuracy: 0.6997 - val_loss: 0.9075 - val_accuracy: 0.5922\n",
      "Epoch 7/50\n",
      "168/168 [==============================] - 3s 18ms/step - loss: 0.6416 - accuracy: 0.7319 - val_loss: 0.9634 - val_accuracy: 0.5843\n",
      "Epoch 8/50\n",
      "168/168 [==============================] - 3s 17ms/step - loss: 0.6115 - accuracy: 0.7446 - val_loss: 1.1102 - val_accuracy: 0.6209\n",
      "Epoch 9/50\n",
      "168/168 [==============================] - 3s 16ms/step - loss: 0.5972 - accuracy: 0.7522 - val_loss: 1.2317 - val_accuracy: 0.6240\n",
      "Epoch 10/50\n",
      "168/168 [==============================] - 3s 16ms/step - loss: 0.5599 - accuracy: 0.7760 - val_loss: 1.2771 - val_accuracy: 0.6004\n",
      "Epoch 11/50\n",
      "168/168 [==============================] - 3s 16ms/step - loss: 0.5327 - accuracy: 0.7849 - val_loss: 1.6151 - val_accuracy: 0.6275\n",
      "Epoch 12/50\n",
      "168/168 [==============================] - 3s 16ms/step - loss: 0.5117 - accuracy: 0.7915 - val_loss: 1.6499 - val_accuracy: 0.6118\n"
     ]
    }
   ],
   "source": [
    "# Fit the model\n",
    "result_4 = model4.fit(X2_train, y2_train, epochs=50, callbacks=early_stopping_4, validation_data=(X2_test, y2_test))"
   ]
  },
  {
   "cell_type": "code",
   "execution_count": 107,
   "metadata": {},
   "outputs": [
    {
     "name": "stdout",
     "output_type": "stream",
     "text": [
      "72/72 [==============================] - 0s 4ms/step - loss: 0.8374 - accuracy: 0.5699\n",
      "Test Accuracy: 56.993467\n"
     ]
    }
   ],
   "source": [
    "# Load the best (saved) model\n",
    "saved_model_4 = load_model('best_model4.h5')\n",
    "\n",
    "# Evaluate the model\n",
    "loss, accuracy = saved_model_4.evaluate(X2_test, y2_test)\n",
    "print('Test Accuracy: %f' % (accuracy*100))"
   ]
  },
  {
   "cell_type": "markdown",
   "metadata": {},
   "source": [
    "The adam optimizer seems to have performed even more worse."
   ]
  },
  {
   "cell_type": "code",
   "execution_count": 108,
   "metadata": {},
   "outputs": [
    {
     "data": {
      "image/png": "[encoded data removed]",
      "text/plain": [
       "<Figure size 432x288 with 1 Axes>"
      ]
     },
     "metadata": {
      "needs_background": "light"
     },
     "output_type": "display_data"
    },
    {
     "data": {
      "image/png": "[encoded data removed]",
      "text/plain": [
       "<Figure size 432x288 with 1 Axes>"
      ]
     },
     "metadata": {
      "needs_background": "light"
     },
     "output_type": "display_data"
    }
   ],
   "source": [
    "visualize_training_results(result_4)"
   ]
  },
  {
   "cell_type": "markdown",
   "metadata": {},
   "source": [
    "#### Model 5: L2 Regularization"
   ]
  },
  {
   "cell_type": "code",
   "execution_count": 109,
   "metadata": {},
   "outputs": [
    {
     "name": "stdout",
     "output_type": "stream",
     "text": [
      "Model: \"sequential_4\"\n",
      "_________________________________________________________________\n",
      "Layer (type)                 Output Shape              Param #   \n",
      "=================================================================\n",
      "embedding_4 (Embedding)      (None, None, 40)          200000    \n",
      "_________________________________________________________________\n",
      "lstm_4 (LSTM)                (None, 20)                4880      \n",
      "_________________________________________________________________\n",
      "dense_11 (Dense)             (None, 10)                210       \n",
      "_________________________________________________________________\n",
      "dense_12 (Dense)             (None, 3)                 33        \n",
      "=================================================================\n",
      "Total params: 205,123\n",
      "Trainable params: 205,123\n",
      "Non-trainable params: 0\n",
      "_________________________________________________________________\n"
     ]
    }
   ],
   "source": [
    "model5 = Sequential()\n",
    "# Add the embedding layer\n",
    "model5.add(layers.Embedding(max_words, 40))\n",
    "\n",
    "# Add the LSTM layer with dropout\n",
    "model5.add(layers.LSTM(20, dropout=0.3)) \n",
    "\n",
    "# Add second layer using relu activation with l2 regularization\n",
    "model5.add(layers.Dense(10, kernel_regularizer=regularizers.l2(0.005), activation='relu'))\n",
    "\n",
    "# Final layer using softmax\n",
    "model5.add(layers.Dense(3, activation='softmax'))\n",
    "\n",
    "# Compile the model\n",
    "model5.compile(optimizer='rmsprop',loss='categorical_crossentropy', metrics=['accuracy'])\n",
    "\n",
    "# Inspect the model\n",
    "model5.summary()"
   ]
  },
  {
   "cell_type": "code",
   "execution_count": 110,
   "metadata": {},
   "outputs": [
    {
     "name": "stdout",
     "output_type": "stream",
     "text": [
      "Epoch 1/50\n",
      "168/168 [==============================] - 4s 22ms/step - loss: 0.9753 - accuracy: 0.5559 - val_loss: 0.9144 - val_accuracy: 0.5699\n",
      "Epoch 2/50\n",
      "168/168 [==============================] - 3s 18ms/step - loss: 0.8654 - accuracy: 0.5899 - val_loss: 0.8776 - val_accuracy: 0.5865\n",
      "Epoch 3/50\n",
      "168/168 [==============================] - 3s 19ms/step - loss: 0.7928 - accuracy: 0.6652 - val_loss: 0.8253 - val_accuracy: 0.6353\n",
      "Epoch 4/50\n",
      "168/168 [==============================] - 3s 18ms/step - loss: 0.7364 - accuracy: 0.7037 - val_loss: 0.8130 - val_accuracy: 0.6344\n",
      "Epoch 5/50\n",
      "168/168 [==============================] - 3s 19ms/step - loss: 0.6959 - accuracy: 0.7233 - val_loss: 0.8091 - val_accuracy: 0.6488\n",
      "Epoch 6/50\n",
      "168/168 [==============================] - 3s 18ms/step - loss: 0.6585 - accuracy: 0.7470 - val_loss: 0.7994 - val_accuracy: 0.6471\n",
      "Epoch 7/50\n",
      "168/168 [==============================] - 3s 18ms/step - loss: 0.6234 - accuracy: 0.7586 - val_loss: 0.8349 - val_accuracy: 0.6505\n",
      "Epoch 8/50\n",
      "168/168 [==============================] - 3s 17ms/step - loss: 0.5992 - accuracy: 0.7651 - val_loss: 0.8161 - val_accuracy: 0.6497\n",
      "Epoch 9/50\n",
      "168/168 [==============================] - 3s 17ms/step - loss: 0.5772 - accuracy: 0.7737 - val_loss: 0.8369 - val_accuracy: 0.6497\n",
      "Epoch 10/50\n",
      "168/168 [==============================] - 3s 18ms/step - loss: 0.5546 - accuracy: 0.7782 - val_loss: 0.8572 - val_accuracy: 0.6532\n",
      "Epoch 11/50\n",
      "168/168 [==============================] - 3s 18ms/step - loss: 0.5354 - accuracy: 0.7933 - val_loss: 0.8720 - val_accuracy: 0.6536\n",
      "Epoch 12/50\n",
      "168/168 [==============================] - 3s 18ms/step - loss: 0.5131 - accuracy: 0.8029 - val_loss: 0.9152 - val_accuracy: 0.6349\n",
      "Epoch 13/50\n",
      "168/168 [==============================] - 3s 17ms/step - loss: 0.4947 - accuracy: 0.8169 - val_loss: 0.8640 - val_accuracy: 0.6723\n",
      "Epoch 14/50\n",
      "168/168 [==============================] - 3s 18ms/step - loss: 0.4820 - accuracy: 0.8221 - val_loss: 0.8509 - val_accuracy: 0.6662\n",
      "Epoch 15/50\n",
      "168/168 [==============================] - 3s 18ms/step - loss: 0.4698 - accuracy: 0.8257 - val_loss: 0.8958 - val_accuracy: 0.6619\n",
      "Epoch 16/50\n",
      "168/168 [==============================] - 3s 18ms/step - loss: 0.4542 - accuracy: 0.8339 - val_loss: 0.8667 - val_accuracy: 0.6566\n"
     ]
    }
   ],
   "source": [
    "# Define the callbacks\n",
    "early_stopping_5 = [EarlyStopping(monitor='val_loss', patience=10), \n",
    "                  ModelCheckpoint(filepath='best_model5.h5', monitor='val_loss', save_best_only=True)]\n",
    "\n",
    "# Fit the model\n",
    "result_5 = model5.fit(X2_train, y2_train, epochs=50, callbacks=early_stopping_5, validation_data=(X2_test, y2_test))"
   ]
  },
  {
   "cell_type": "code",
   "execution_count": 111,
   "metadata": {},
   "outputs": [
    {
     "name": "stdout",
     "output_type": "stream",
     "text": [
      "72/72 [==============================] - 0s 4ms/step - loss: 0.7994 - accuracy: 0.6471\n",
      "Test Accuracy: 64.705884\n"
     ]
    }
   ],
   "source": [
    "# Load the best (saved) model\n",
    "saved_model_5 = load_model('best_model5.h5')\n",
    "\n",
    "# Evaluate the model\n",
    "loss, accuracy = saved_model_5.evaluate(X2_test, y2_test)\n",
    "print('Test Accuracy: %f' % (accuracy*100))"
   ]
  },
  {
   "cell_type": "markdown",
   "metadata": {},
   "source": [
    "We still do not see any improvement in the model."
   ]
  },
  {
   "cell_type": "code",
   "execution_count": 112,
   "metadata": {},
   "outputs": [
    {
     "data": {
      "image/png": "[encoded data removed]",
      "text/plain": [
       "<Figure size 432x288 with 1 Axes>"
      ]
     },
     "metadata": {
      "needs_background": "light"
     },
     "output_type": "display_data"
    },
    {
     "data": {
      "image/png": "[encoded data removed]",
      "text/plain": [
       "<Figure size 432x288 with 1 Axes>"
      ]
     },
     "metadata": {
      "needs_background": "light"
     },
     "output_type": "display_data"
    }
   ],
   "source": [
    "visualize_training_results(result_5)"
   ]
  },
  {
   "cell_type": "markdown",
   "metadata": {},
   "source": [
    "#### Model 6: L1 Regularization"
   ]
  },
  {
   "cell_type": "code",
   "execution_count": 113,
   "metadata": {},
   "outputs": [
    {
     "name": "stdout",
     "output_type": "stream",
     "text": [
      "Model: \"sequential_5\"\n",
      "_________________________________________________________________\n",
      "Layer (type)                 Output Shape              Param #   \n",
      "=================================================================\n",
      "embedding_5 (Embedding)      (None, None, 40)          200000    \n",
      "_________________________________________________________________\n",
      "lstm_5 (LSTM)                (None, 20)                4880      \n",
      "_________________________________________________________________\n",
      "dense_13 (Dense)             (None, 10)                210       \n",
      "_________________________________________________________________\n",
      "dense_14 (Dense)             (None, 3)                 33        \n",
      "=================================================================\n",
      "Total params: 205,123\n",
      "Trainable params: 205,123\n",
      "Non-trainable params: 0\n",
      "_________________________________________________________________\n"
     ]
    }
   ],
   "source": [
    "model6 = Sequential()\n",
    "# Add the embedding layer\n",
    "model6.add(layers.Embedding(max_words, 40))\n",
    "\n",
    "# Add the LSTM layer with dropout\n",
    "model6.add(layers.LSTM(20, dropout=0.3)) \n",
    "\n",
    "# Add second layer using relu activation with l2 regularization\n",
    "model6.add(layers.Dense(10, kernel_regularizer=regularizers.l1(0.005), activation='relu'))\n",
    "\n",
    "# Final layer using sigmoid\n",
    "model6.add(layers.Dense(3, activation='sigmoid'))\n",
    "\n",
    "# Compile the model\n",
    "model6.compile(optimizer='rmsprop',loss='categorical_crossentropy', metrics=['accuracy'])\n",
    "\n",
    "# Inspect the model\n",
    "model6.summary()"
   ]
  },
  {
   "cell_type": "code",
   "execution_count": 114,
   "metadata": {},
   "outputs": [
    {
     "name": "stdout",
     "output_type": "stream",
     "text": [
      "Epoch 1/50\n",
      "168/168 [==============================] - 4s 22ms/step - loss: 1.0526 - accuracy: 0.5689 - val_loss: 1.0112 - val_accuracy: 0.5699\n",
      "Epoch 2/50\n",
      "168/168 [==============================] - 3s 18ms/step - loss: 0.9313 - accuracy: 0.5788 - val_loss: 0.9357 - val_accuracy: 0.5765\n",
      "Epoch 3/50\n",
      "168/168 [==============================] - 3s 19ms/step - loss: 0.8412 - accuracy: 0.6394 - val_loss: 0.9317 - val_accuracy: 0.5930\n",
      "Epoch 4/50\n",
      "168/168 [==============================] - 3s 19ms/step - loss: 0.7733 - accuracy: 0.6895 - val_loss: 0.8471 - val_accuracy: 0.6248\n",
      "Epoch 5/50\n",
      "168/168 [==============================] - 3s 19ms/step - loss: 0.7168 - accuracy: 0.7214 - val_loss: 0.8422 - val_accuracy: 0.6366\n",
      "Epoch 6/50\n",
      "168/168 [==============================] - 3s 19ms/step - loss: 0.6768 - accuracy: 0.7410 - val_loss: 0.8570 - val_accuracy: 0.6357\n",
      "Epoch 7/50\n",
      "168/168 [==============================] - 3s 19ms/step - loss: 0.6411 - accuracy: 0.7573 - val_loss: 0.8401 - val_accuracy: 0.6505\n",
      "Epoch 8/50\n",
      "168/168 [==============================] - 3s 19ms/step - loss: 0.6114 - accuracy: 0.7730 - val_loss: 0.8504 - val_accuracy: 0.6532\n",
      "Epoch 9/50\n",
      "168/168 [==============================] - 3s 19ms/step - loss: 0.5895 - accuracy: 0.7881 - val_loss: 0.8702 - val_accuracy: 0.6623\n",
      "Epoch 10/50\n",
      "168/168 [==============================] - 3s 19ms/step - loss: 0.5710 - accuracy: 0.7939 - val_loss: 0.9461 - val_accuracy: 0.5991\n",
      "Epoch 11/50\n",
      "168/168 [==============================] - 3s 19ms/step - loss: 0.5445 - accuracy: 0.8089 - val_loss: 0.8680 - val_accuracy: 0.6675\n",
      "Epoch 12/50\n",
      "168/168 [==============================] - 3s 19ms/step - loss: 0.5306 - accuracy: 0.8169 - val_loss: 0.8561 - val_accuracy: 0.6606\n",
      "Epoch 13/50\n",
      "168/168 [==============================] - 3s 19ms/step - loss: 0.5036 - accuracy: 0.8270 - val_loss: 0.8468 - val_accuracy: 0.6623\n",
      "Epoch 14/50\n",
      "168/168 [==============================] - 3s 19ms/step - loss: 0.4976 - accuracy: 0.8307 - val_loss: 0.8850 - val_accuracy: 0.6649\n",
      "Epoch 15/50\n",
      "168/168 [==============================] - 3s 19ms/step - loss: 0.4733 - accuracy: 0.8445 - val_loss: 0.8919 - val_accuracy: 0.6562\n",
      "Epoch 16/50\n",
      "168/168 [==============================] - 3s 19ms/step - loss: 0.4610 - accuracy: 0.8473 - val_loss: 0.9218 - val_accuracy: 0.6240\n",
      "Epoch 17/50\n",
      "168/168 [==============================] - 3s 18ms/step - loss: 0.4525 - accuracy: 0.8447 - val_loss: 1.0225 - val_accuracy: 0.5861\n"
     ]
    }
   ],
   "source": [
    "# Define the callbacks\n",
    "early_stopping_6 = [EarlyStopping(monitor='val_loss', patience=10), \n",
    "                  ModelCheckpoint(filepath='best_model6.h5', monitor='val_loss', save_best_only=True)]\n",
    "\n",
    "# Fit the model\n",
    "result_6 = model6.fit(X2_train, y2_train, epochs=50, callbacks=early_stopping_6, validation_data=(X2_test, y2_test))"
   ]
  },
  {
   "cell_type": "code",
   "execution_count": 115,
   "metadata": {},
   "outputs": [
    {
     "name": "stdout",
     "output_type": "stream",
     "text": [
      "72/72 [==============================] - 0s 4ms/step - loss: 0.8401 - accuracy: 0.6505\n",
      "Test Accuracy: 65.054464\n"
     ]
    }
   ],
   "source": [
    "# Load the best (saved) model\n",
    "saved_model_6 = load_model('best_model6.h5')\n",
    "\n",
    "# Evaluate the model\n",
    "loss, accuracy = saved_model_6.evaluate(X2_test, y2_test)\n",
    "print('Test Accuracy: %f' % (accuracy*100))"
   ]
  },
  {
   "cell_type": "code",
   "execution_count": 116,
   "metadata": {},
   "outputs": [
    {
     "data": {
      "image/png": "[encoded data removed]",
      "text/plain": [
       "<Figure size 432x288 with 1 Axes>"
      ]
     },
     "metadata": {
      "needs_background": "light"
     },
     "output_type": "display_data"
    },
    {
     "data": {
      "image/png": "[encoded data removed]",
      "text/plain": [
       "<Figure size 432x288 with 1 Axes>"
      ]
     },
     "metadata": {
      "needs_background": "light"
     },
     "output_type": "display_data"
    },
    {
     "data": {
      "text/plain": [
       "<Figure size 432x288 with 0 Axes>"
      ]
     },
     "metadata": {},
     "output_type": "display_data"
    }
   ],
   "source": [
    "visualize_training_results(result_6)\n",
    "plt.savefig(r'final_model.jpg', bbox_inches='tight');"
   ]
  },
  {
   "cell_type": "markdown",
   "metadata": {},
   "source": [
    "Model 6 seems to have performed the best at 65.44% test accuracy. The difference between training and test accuracy confirms that our model has overfit. Trying different loss fuctions and adding multiple layers does not seem to improve our model. This means that our data is just not enough to train our model effectively and predict better results. "
   ]
  },
  {
   "cell_type": "markdown",
   "metadata": {},
   "source": [
    "We will finalize our model with LSTM architecture using L1 regularization parameter and sigmoid as it's activation function."
   ]
  },
  {
   "cell_type": "markdown",
   "metadata": {},
   "source": [
    "### Applying the Model"
   ]
  },
  {
   "cell_type": "code",
   "execution_count": 117,
   "metadata": {},
   "outputs": [
    {
     "name": "stdout",
     "output_type": "stream",
     "text": [
      "Audioboo: The front of the Apple iPad 2 queue {link} #sxsw #sxswsa #apple #ipad2 #Austin #Texas\n",
      "\n",
      " Predicted Class = Neutral\n",
      "Actual Class = Neutral emotion\n"
     ]
    }
   ],
   "source": [
    "# Pick a random tweet\n",
    "random_index = random.randint(5000)\n",
    "\n",
    "sample_tweet = df_clean['tweet_text'].iloc[random_index]\n",
    "sample_label = df_clean['emotion'].iloc[random_index]\n",
    "\n",
    "# Use the model to predict a review \n",
    "print(sample_tweet) \n",
    "\n",
    "# Label final categories\n",
    "sentiment = ['Neutral','Positive', 'Negative']\n",
    "\n",
    "# Create the sequences\n",
    "sample_sequences = tokenizer.texts_to_sequences(sample_tweet)\n",
    "sample_padded = pad_sequences(sample_sequences, padding='post', maxlen=max_len)           \n",
    "\n",
    "Prediction = sentiment[np.around(model6.predict(sample_padded), decimals=0).argmax(axis=1)[0]]\n",
    "print('\\n', 'Predicted Class =', Prediction)\n",
    "print('Actual Class =', sample_label)"
   ]
  }
 ],
 "metadata": {
  "kernelspec": {
   "display_name": "Python 3",
   "language": "python",
   "name": "python3"
  },
  "language_info": {
   "codemirror_mode": {
    "name": "ipython",
    "version": 3
   },
   "file_extension": ".py",
   "mimetype": "text/x-python",
   "name": "python",
   "nbconvert_exporter": "python",
   "pygments_lexer": "ipython3",
   "version": "3.8.8"
  }
 },
 "nbformat": 4,
 "nbformat_minor": 4
}
