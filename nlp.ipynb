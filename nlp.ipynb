{
 "cells": [
  {
   "cell_type": "markdown",
   "metadata": {},
   "source": [
    "## Final Project Submission\n",
    "\n",
    "Please fill out:\n",
    "\n",
    "* Student name: Dicchyant Gurung\n",
    "* Student pace: Self Paced\n",
    "* Scheduled project review date/time: 6/16/2021\n",
    "* Instructor name: Jeff Herman\n",
    "* Blog post URL: "
   ]
  },
  {
   "cell_type": "markdown",
   "metadata": {},
   "source": [
    "### Business case"
   ]
  },
  {
   "cell_type": "markdown",
   "metadata": {},
   "source": [
    "Apple and Google are looking to analyze what people are saying about their brand in twitter. People use twitter to share their impulsive yet honest thoughts and opinions. This can provide brands a good idea on what consumers are really feeling about their products. \n",
    "\n",
    "In order to achieve this, we will take the following steps:\n",
    "\n",
    "EDA:\n",
    "* Explore the contents of the tweet to identify the product and sentiment of the tweet.\n",
    "* Analyze the sentiments to identify common issues or contentment expressed by the user.\n",
    "* Make some meaningful recommendations to the brands that they can use to serve their customers better.\n",
    "\n",
    "Modelling:\n",
    "* Build a model that can classify the tweets into positive, negative or neutral emotions.\n",
    "* Deploy the model for production to track customer sentiments in real-time."
   ]
  },
  {
   "cell_type": "markdown",
   "metadata": {},
   "source": [
    "### Import relevant packages"
   ]
  },
  {
   "cell_type": "code",
   "execution_count": 1,
   "metadata": {},
   "outputs": [
    {
     "name": "stderr",
     "output_type": "stream",
     "text": [
      "[nltk_data] Downloading package averaged_perceptron_tagger to\n",
      "[nltk_data]     C:\\Users\\dicch\\AppData\\Roaming\\nltk_data...\n",
      "[nltk_data]   Package averaged_perceptron_tagger is already up-to-\n",
      "[nltk_data]       date!\n"
     ]
    },
    {
     "data": {
      "text/plain": [
       "True"
      ]
     },
     "execution_count": 1,
     "metadata": {},
     "output_type": "execute_result"
    }
   ],
   "source": [
    "import nltk\n",
    "from nltk.corpus import stopwords\n",
    "import string\n",
    "from nltk import word_tokenize, FreqDist\n",
    "from nltk.collocations import *\n",
    "from sklearn.model_selection import train_test_split\n",
    "from sklearn.feature_selection import SelectKBest\n",
    "from sklearn.feature_extraction.text import TfidfVectorizer\n",
    "from sklearn.metrics import accuracy_score\n",
    "from sklearn.ensemble import RandomForestClassifier\n",
    "from sklearn.naive_bayes import MultinomialNB\n",
    "import pandas as pd\n",
    "import numpy as np\n",
    "from numpy import random\n",
    "\n",
    "import keras\n",
    "from keras.preprocessing.text import Tokenizer\n",
    "from keras.utils.np_utils import to_categorical\n",
    "from keras.preprocessing.sequence import pad_sequences\n",
    "from keras import regularizers\n",
    "from keras.layers import Embedding\n",
    "from keras.models import Sequential\n",
    "from keras import layers\n",
    "from keras.layers import Dense\n",
    "from keras.callbacks import EarlyStopping, ModelCheckpoint\n",
    "from keras.models import load_model\n",
    "\n",
    "import matplotlib.pyplot as plt\n",
    "%matplotlib inline\n",
    "\n",
    "from scipy.stats import norm\n",
    "import statistics\n",
    "\n",
    "from wordcloud import WordCloud\n",
    "\n",
    "import nltk\n",
    "nltk.download('averaged_perceptron_tagger')"
   ]
  },
  {
   "cell_type": "markdown",
   "metadata": {},
   "source": [
    "### Import the dataset"
   ]
  },
  {
   "cell_type": "code",
   "execution_count": 2,
   "metadata": {},
   "outputs": [],
   "source": [
    "df_raw = pd.read_csv(r'tweet_product_company.csv', encoding= 'unicode_escape')"
   ]
  },
  {
   "cell_type": "code",
   "execution_count": 3,
   "metadata": {},
   "outputs": [
    {
     "data": {
      "text/html": [
       "<div>\n",
       "<style scoped>\n",
       "    .dataframe tbody tr th:only-of-type {\n",
       "        vertical-align: middle;\n",
       "    }\n",
       "\n",
       "    .dataframe tbody tr th {\n",
       "        vertical-align: top;\n",
       "    }\n",
       "\n",
       "    .dataframe thead th {\n",
       "        text-align: right;\n",
       "    }\n",
       "</style>\n",
       "<table border=\"1\" class=\"dataframe\">\n",
       "  <thead>\n",
       "    <tr style=\"text-align: right;\">\n",
       "      <th></th>\n",
       "      <th>tweet_text</th>\n",
       "      <th>emotion_in_tweet_is_directed_at</th>\n",
       "      <th>is_there_an_emotion_directed_at_a_brand_or_product</th>\n",
       "    </tr>\n",
       "  </thead>\n",
       "  <tbody>\n",
       "    <tr>\n",
       "      <th>0</th>\n",
       "      <td>.@wesley83 I have a 3G iPhone. After 3 hrs twe...</td>\n",
       "      <td>iPhone</td>\n",
       "      <td>Negative emotion</td>\n",
       "    </tr>\n",
       "    <tr>\n",
       "      <th>1</th>\n",
       "      <td>@jessedee Know about @fludapp ? Awesome iPad/i...</td>\n",
       "      <td>iPad or iPhone App</td>\n",
       "      <td>Positive emotion</td>\n",
       "    </tr>\n",
       "    <tr>\n",
       "      <th>2</th>\n",
       "      <td>@swonderlin Can not wait for #iPad 2 also. The...</td>\n",
       "      <td>iPad</td>\n",
       "      <td>Positive emotion</td>\n",
       "    </tr>\n",
       "    <tr>\n",
       "      <th>3</th>\n",
       "      <td>@sxsw I hope this year's festival isn't as cra...</td>\n",
       "      <td>iPad or iPhone App</td>\n",
       "      <td>Negative emotion</td>\n",
       "    </tr>\n",
       "    <tr>\n",
       "      <th>4</th>\n",
       "      <td>@sxtxstate great stuff on Fri #SXSW: Marissa M...</td>\n",
       "      <td>Google</td>\n",
       "      <td>Positive emotion</td>\n",
       "    </tr>\n",
       "  </tbody>\n",
       "</table>\n",
       "</div>"
      ],
      "text/plain": [
       "                                          tweet_text  \\\n",
       "0  .@wesley83 I have a 3G iPhone. After 3 hrs twe...   \n",
       "1  @jessedee Know about @fludapp ? Awesome iPad/i...   \n",
       "2  @swonderlin Can not wait for #iPad 2 also. The...   \n",
       "3  @sxsw I hope this year's festival isn't as cra...   \n",
       "4  @sxtxstate great stuff on Fri #SXSW: Marissa M...   \n",
       "\n",
       "  emotion_in_tweet_is_directed_at  \\\n",
       "0                          iPhone   \n",
       "1              iPad or iPhone App   \n",
       "2                            iPad   \n",
       "3              iPad or iPhone App   \n",
       "4                          Google   \n",
       "\n",
       "  is_there_an_emotion_directed_at_a_brand_or_product  \n",
       "0                                   Negative emotion  \n",
       "1                                   Positive emotion  \n",
       "2                                   Positive emotion  \n",
       "3                                   Negative emotion  \n",
       "4                                   Positive emotion  "
      ]
     },
     "execution_count": 3,
     "metadata": {},
     "output_type": "execute_result"
    }
   ],
   "source": [
    "df_raw.head()"
   ]
  },
  {
   "cell_type": "code",
   "execution_count": 4,
   "metadata": {},
   "outputs": [
    {
     "data": {
      "text/plain": [
       "(9093, 3)"
      ]
     },
     "execution_count": 4,
     "metadata": {},
     "output_type": "execute_result"
    }
   ],
   "source": [
    "df_raw.shape"
   ]
  },
  {
   "cell_type": "markdown",
   "metadata": {},
   "source": [
    "### Clean the data"
   ]
  },
  {
   "cell_type": "code",
   "execution_count": 5,
   "metadata": {},
   "outputs": [
    {
     "data": {
      "text/plain": [
       "tweet_text                                               1\n",
       "emotion_in_tweet_is_directed_at                       5802\n",
       "is_there_an_emotion_directed_at_a_brand_or_product       0\n",
       "dtype: int64"
      ]
     },
     "execution_count": 5,
     "metadata": {},
     "output_type": "execute_result"
    }
   ],
   "source": [
    "# Check for missing values\n",
    "df_raw.isnull().sum()"
   ]
  },
  {
   "cell_type": "markdown",
   "metadata": {},
   "source": [
    "* More than half of the values are missing in the second columns. We will create our to code to identify the product. Let's drop this column for now. \n",
    "* We will also drop the 1 missing row from our dataset."
   ]
  },
  {
   "cell_type": "code",
   "execution_count": 6,
   "metadata": {},
   "outputs": [],
   "source": [
    "df_raw.drop('emotion_in_tweet_is_directed_at', axis=1, inplace=True)"
   ]
  },
  {
   "cell_type": "code",
   "execution_count": 7,
   "metadata": {},
   "outputs": [],
   "source": [
    "df_raw.dropna(axis=0, inplace=True)"
   ]
  },
  {
   "cell_type": "code",
   "execution_count": 8,
   "metadata": {},
   "outputs": [
    {
     "data": {
      "text/plain": [
       "tweet_text                                            0\n",
       "is_there_an_emotion_directed_at_a_brand_or_product    0\n",
       "dtype: int64"
      ]
     },
     "execution_count": 8,
     "metadata": {},
     "output_type": "execute_result"
    }
   ],
   "source": [
    "df_raw.isnull().sum()"
   ]
  },
  {
   "cell_type": "markdown",
   "metadata": {},
   "source": [
    "### Preprocess the data"
   ]
  },
  {
   "cell_type": "markdown",
   "metadata": {},
   "source": [
    "Let's start by renaming the target columns for ease of use."
   ]
  },
  {
   "cell_type": "code",
   "execution_count": 9,
   "metadata": {},
   "outputs": [],
   "source": [
    "df_raw.rename({'is_there_an_emotion_directed_at_a_brand_or_product':'emotion'}, axis=1, inplace=True)"
   ]
  },
  {
   "cell_type": "code",
   "execution_count": 10,
   "metadata": {},
   "outputs": [
    {
     "data": {
      "text/html": [
       "<div>\n",
       "<style scoped>\n",
       "    .dataframe tbody tr th:only-of-type {\n",
       "        vertical-align: middle;\n",
       "    }\n",
       "\n",
       "    .dataframe tbody tr th {\n",
       "        vertical-align: top;\n",
       "    }\n",
       "\n",
       "    .dataframe thead th {\n",
       "        text-align: right;\n",
       "    }\n",
       "</style>\n",
       "<table border=\"1\" class=\"dataframe\">\n",
       "  <thead>\n",
       "    <tr style=\"text-align: right;\">\n",
       "      <th></th>\n",
       "      <th>tweet_text</th>\n",
       "      <th>emotion</th>\n",
       "    </tr>\n",
       "  </thead>\n",
       "  <tbody>\n",
       "    <tr>\n",
       "      <th>0</th>\n",
       "      <td>.@wesley83 I have a 3G iPhone. After 3 hrs twe...</td>\n",
       "      <td>Negative emotion</td>\n",
       "    </tr>\n",
       "    <tr>\n",
       "      <th>1</th>\n",
       "      <td>@jessedee Know about @fludapp ? Awesome iPad/i...</td>\n",
       "      <td>Positive emotion</td>\n",
       "    </tr>\n",
       "    <tr>\n",
       "      <th>2</th>\n",
       "      <td>@swonderlin Can not wait for #iPad 2 also. The...</td>\n",
       "      <td>Positive emotion</td>\n",
       "    </tr>\n",
       "    <tr>\n",
       "      <th>3</th>\n",
       "      <td>@sxsw I hope this year's festival isn't as cra...</td>\n",
       "      <td>Negative emotion</td>\n",
       "    </tr>\n",
       "    <tr>\n",
       "      <th>4</th>\n",
       "      <td>@sxtxstate great stuff on Fri #SXSW: Marissa M...</td>\n",
       "      <td>Positive emotion</td>\n",
       "    </tr>\n",
       "  </tbody>\n",
       "</table>\n",
       "</div>"
      ],
      "text/plain": [
       "                                          tweet_text           emotion\n",
       "0  .@wesley83 I have a 3G iPhone. After 3 hrs twe...  Negative emotion\n",
       "1  @jessedee Know about @fludapp ? Awesome iPad/i...  Positive emotion\n",
       "2  @swonderlin Can not wait for #iPad 2 also. The...  Positive emotion\n",
       "3  @sxsw I hope this year's festival isn't as cra...  Negative emotion\n",
       "4  @sxtxstate great stuff on Fri #SXSW: Marissa M...  Positive emotion"
      ]
     },
     "execution_count": 10,
     "metadata": {},
     "output_type": "execute_result"
    }
   ],
   "source": [
    "df_raw.head()"
   ]
  },
  {
   "cell_type": "markdown",
   "metadata": {},
   "source": [
    "#### Target Variable"
   ]
  },
  {
   "cell_type": "code",
   "execution_count": 11,
   "metadata": {},
   "outputs": [
    {
     "data": {
      "text/plain": [
       "No emotion toward brand or product    5388\n",
       "Positive emotion                      2978\n",
       "Negative emotion                       570\n",
       "I can't tell                           156\n",
       "Name: emotion, dtype: int64"
      ]
     },
     "execution_count": 11,
     "metadata": {},
     "output_type": "execute_result"
    }
   ],
   "source": [
    "df_raw.emotion.value_counts()"
   ]
  },
  {
   "cell_type": "markdown",
   "metadata": {},
   "source": [
    "We can see that there are more unknown emotions than Positive and Negative classes. Let's look deeper into these classes and see what they actually contain."
   ]
  },
  {
   "cell_type": "code",
   "execution_count": 12,
   "metadata": {},
   "outputs": [],
   "source": [
    "neutral = df_raw[df_raw.emotion == \"No emotion toward brand or product\"]"
   ]
  },
  {
   "cell_type": "code",
   "execution_count": 13,
   "metadata": {},
   "outputs": [
    {
     "name": "stdout",
     "output_type": "stream",
     "text": [
      "@teachntech00 New iPad Apps For #SpeechTherapy And Communication Are Showcased At The #SXSW Conference http://ht.ly/49n4M #iear #edchat #asd\n",
      "Holler Gram for iPad on the iTunes App Store -  http://t.co/kfN3f5Q (via @marc_is_ken) #sxsw\n",
      "Attn: All  #SXSW frineds, @mention Register for #GDGTLive  and see Cobra iRadar for Android. {link}\n",
      "Anyone at  #sxsw want to sell their old iPad?\n",
      "Anyone at  #SXSW who bought the new iPad want to sell their older iPad to me?\n",
      "At #sxsw.  Oooh. RT @mention Google to Launch Major New Social Network Called Circles, Possibly Today {link}\n",
      "SPIN Play - a new concept in music discovery for your iPad from @mention &amp; spin.com {link} #iTunes #sxsw @mention\n",
      "VatorNews - Google And Apple Force Print Media to Evolve? {link} #sxsw\n",
      "HootSuite - HootSuite Mobile for #SXSW ~ Updates for iPhone, BlackBerry &amp; Android: Whether youÛªre getting friend... {link}\n",
      "Hey #SXSW - How long do you think it takes us to make an iPhone case? answer @mention using #zazzlesxsw and weÛªll make you one!\n",
      "Mashable! - The iPad 2 Takes Over SXSW [VIDEO] #ipad #sxsw #gadgets {link}\n",
      "For I-Pad ?RT @mention New #UberSocial for #iPhone now in the App Store includes UberGuide to #SXSW sponsored by ... {link}\n",
      "Orly....? ÛÏ@mention Google set to launch new social network #Circles today at #sxswÛ\n",
      "Khoi Vinh (@mention says Conde Nast's headlong rush into iPad publishing was a &quot;fundamental misunderstanding&quot; of the platform #sxsw\n",
      "ÛÏ@mention {link} &lt;-- HELP ME FORWARD THIS DOC to all Anonymous accounts, techies,&amp; ppl who can help us JAM #libya #SXSW\n",
      "÷¼ WHAT? ÷_ {link} ã_ #edchat #musedchat #sxsw #sxswi #classical #newTwitter\n",
      ".@mention @mention on the location-based 'fast, fun and future' - {link} (via @mention #sxsw\n",
      "ÛÏ@mention @mention #Google Will Connect the Digital &amp; Physical Worlds Through Mobile - {link} #sxswÛ @mention\n",
      "{link} RT @mention &quot;Google before you tweet&quot; is the new &quot;think before you speak.&quot; - Mark Belinsky, #911tweets panel at #SXSW.\n",
      "{link} RT @mention Those at #SXSW check out the Holler Gram ipad app from @mention  {link}\n"
     ]
    }
   ],
   "source": [
    "for i in range(20):\n",
    "    print(neutral.tweet_text.iloc[i])"
   ]
  },
  {
   "cell_type": "markdown",
   "metadata": {},
   "source": [
    "These tweets really seem to be just statements without any emotions. However, we will keep these in the model so that if we ever come across tweets without any sentiment, we will have a neutral class present and not have to force classify into Positive or Negative tweets."
   ]
  },
  {
   "cell_type": "code",
   "execution_count": 14,
   "metadata": {},
   "outputs": [],
   "source": [
    "unknown = df_raw[df_raw.emotion == \"I can't tell\"]"
   ]
  },
  {
   "cell_type": "code",
   "execution_count": 15,
   "metadata": {},
   "outputs": [
    {
     "name": "stdout",
     "output_type": "stream",
     "text": [
      "Thanks to @mention for publishing the news of @mention new medical Apps at the #sxswi conf. blog {link} #sxsw #sxswh\n",
      "ÛÏ@mention &quot;Apple has opened a pop-up store in Austin so the nerds in town for #SXSW can get their new iPads. {link} #wow\n",
      "Just what America needs. RT @mention Google to Launch Major New Social Network Called Circles, Possibly Today {link} #sxsw\n",
      "The queue at the Apple Store in Austin is FOUR blocks long. Crazy stuff! #sxsw\n",
      "Hope it's better than wave RT @mention Buzz is: Google's previewing a social networking platform at #SXSW: {link}\n",
      "SYD #SXSW crew your iPhone extra juice pods have been procured.\n",
      "Why Barry Diller thinks iPad only content is nuts @mention #SXSW {link}\n",
      "Gave into extreme temptation at #SXSW and bought an iPad 2... #impulse\n",
      "Catch 22Û_ I mean iPad 2 at #SXSW : {link}\n",
      "Forgot my iPhone for #sxsw. Android only. Knife to a gun fight\n",
      "Kawasaki: key to enchantment = trustworthiness of Zappos + likeability of Richard Branson + product of Apple #sxsw #mccannsxsw #mrmworldwide\n",
      "Google no lanzara ningun producto en South by SouthWest #sxsw 2011 {link}\n",
      "Comprando mi iPad 2 en el #SXSW (@mention Apple Store, SXSW w/ 62 others) {link}\n",
      "I can now say that Google got me drunk #sxsw #h4ckers\n",
      "ipad is a slow resting heartrate  #tapworthy #sxsw #gsdm about leisure vs quick results on iphone\n",
      "Walked by the mobile Apple store in austin.  Line was insane. #sxsw\n",
      "This Waze vs Google discussion is one of the best I have seen at #sxsw. We need more competitors going head to head here.\n",
      "Wow folks, make sure that iPhone ringer is turned ALL the way up when u have to be up pre-sunrise for a flight. #internalalarmclockFTW #sxsw\n",
      "Let's see: Google announcing Circles, Obama in Austin, #SXSW donates proceeds to Japan. Ho hum\n",
      "@mention :) Maybe not *entirely* HD (Flip? iPhone? Other XL2 footage?) -- but certainly your concerts at #SXSW. It's gonna be grand.\n"
     ]
    }
   ],
   "source": [
    "for i in range(20):\n",
    "    print(unknown.tweet_text.iloc[i])"
   ]
  },
  {
   "cell_type": "markdown",
   "metadata": {},
   "source": [
    "These tweets also really seem to be unknown or neutral. Since we have enough references for neutral tweets, we will just remove them from our dataset."
   ]
  },
  {
   "cell_type": "code",
   "execution_count": 16,
   "metadata": {},
   "outputs": [],
   "source": [
    "df_clean = df_raw[df_raw.emotion != \"I can't tell\"].copy()"
   ]
  },
  {
   "cell_type": "code",
   "execution_count": 17,
   "metadata": {},
   "outputs": [],
   "source": [
    "# Rename the neutral class\n",
    "df_clean.emotion = df_clean.emotion.map({'No emotion toward brand or product':'No emotion',\n",
    "                                    'Positive emotion':'Positive emotion',\n",
    "                                    'Negative emotion':'Negative emotion',})"
   ]
  },
  {
   "cell_type": "code",
   "execution_count": 18,
   "metadata": {},
   "outputs": [
    {
     "data": {
      "text/plain": [
       "No emotion          5388\n",
       "Positive emotion    2978\n",
       "Negative emotion     570\n",
       "Name: emotion, dtype: int64"
      ]
     },
     "execution_count": 18,
     "metadata": {},
     "output_type": "execute_result"
    }
   ],
   "source": [
    "df_clean.emotion.value_counts()"
   ]
  },
  {
   "cell_type": "markdown",
   "metadata": {},
   "source": [
    "Let's also change the target variables into numerical values so that we can model the data later."
   ]
  },
  {
   "cell_type": "code",
   "execution_count": 19,
   "metadata": {},
   "outputs": [],
   "source": [
    "df_clean.emotion = df_clean.emotion.map({'No emotion':0,\n",
    "                                         'Positive emotion':1,\n",
    "                                         'Negative emotion':2})"
   ]
  },
  {
   "cell_type": "code",
   "execution_count": 20,
   "metadata": {},
   "outputs": [
    {
     "data": {
      "text/html": [
       "<div>\n",
       "<style scoped>\n",
       "    .dataframe tbody tr th:only-of-type {\n",
       "        vertical-align: middle;\n",
       "    }\n",
       "\n",
       "    .dataframe tbody tr th {\n",
       "        vertical-align: top;\n",
       "    }\n",
       "\n",
       "    .dataframe thead th {\n",
       "        text-align: right;\n",
       "    }\n",
       "</style>\n",
       "<table border=\"1\" class=\"dataframe\">\n",
       "  <thead>\n",
       "    <tr style=\"text-align: right;\">\n",
       "      <th></th>\n",
       "      <th>tweet_text</th>\n",
       "      <th>emotion</th>\n",
       "    </tr>\n",
       "  </thead>\n",
       "  <tbody>\n",
       "    <tr>\n",
       "      <th>0</th>\n",
       "      <td>.@wesley83 I have a 3G iPhone. After 3 hrs twe...</td>\n",
       "      <td>2</td>\n",
       "    </tr>\n",
       "    <tr>\n",
       "      <th>1</th>\n",
       "      <td>@jessedee Know about @fludapp ? Awesome iPad/i...</td>\n",
       "      <td>1</td>\n",
       "    </tr>\n",
       "    <tr>\n",
       "      <th>2</th>\n",
       "      <td>@swonderlin Can not wait for #iPad 2 also. The...</td>\n",
       "      <td>1</td>\n",
       "    </tr>\n",
       "    <tr>\n",
       "      <th>3</th>\n",
       "      <td>@sxsw I hope this year's festival isn't as cra...</td>\n",
       "      <td>2</td>\n",
       "    </tr>\n",
       "    <tr>\n",
       "      <th>4</th>\n",
       "      <td>@sxtxstate great stuff on Fri #SXSW: Marissa M...</td>\n",
       "      <td>1</td>\n",
       "    </tr>\n",
       "  </tbody>\n",
       "</table>\n",
       "</div>"
      ],
      "text/plain": [
       "                                          tweet_text  emotion\n",
       "0  .@wesley83 I have a 3G iPhone. After 3 hrs twe...        2\n",
       "1  @jessedee Know about @fludapp ? Awesome iPad/i...        1\n",
       "2  @swonderlin Can not wait for #iPad 2 also. The...        1\n",
       "3  @sxsw I hope this year's festival isn't as cra...        2\n",
       "4  @sxtxstate great stuff on Fri #SXSW: Marissa M...        1"
      ]
     },
     "execution_count": 20,
     "metadata": {},
     "output_type": "execute_result"
    }
   ],
   "source": [
    "df_clean.head()"
   ]
  },
  {
   "cell_type": "markdown",
   "metadata": {},
   "source": [
    "#### Predictor column"
   ]
  },
  {
   "cell_type": "markdown",
   "metadata": {},
   "source": [
    "Let's observe some of the tweets individually to see what kind of characters or sentence structure we are working with here."
   ]
  },
  {
   "cell_type": "code",
   "execution_count": 21,
   "metadata": {},
   "outputs": [
    {
     "data": {
      "text/plain": [
       "['.@wesley83 I have a 3G iPhone. After 3 hrs tweeting at #RISE_Austin, it was dead!  I need to upgrade. Plugin stations at #SXSW.',\n",
       " \"@jessedee Know about @fludapp ? Awesome iPad/iPhone app that you'll likely appreciate for its design. Also, they're giving free Ts at #SXSW\",\n",
       " '@swonderlin Can not wait for #iPad 2 also. They should sale them down at #SXSW.',\n",
       " \"@sxsw I hope this year's festival isn't as crashy as this year's iPhone app. #sxsw\",\n",
       " \"@sxtxstate great stuff on Fri #SXSW: Marissa Mayer (Google), Tim O'Reilly (tech books/conferences) &amp; Matt Mullenweg (Wordpress)\",\n",
       " '@teachntech00 New iPad Apps For #SpeechTherapy And Communication Are Showcased At The #SXSW Conference http://ht.ly/49n4M #iear #edchat #asd',\n",
       " '#SXSW is just starting, #CTIA is around the corner and #googleio is only a hop skip and a jump from there, good time to be an #android fan',\n",
       " 'Beautifully smart and simple idea RT @madebymany @thenextweb wrote about our #hollergram iPad app for #sxsw! http://bit.ly/ieaVOB',\n",
       " 'Counting down the days to #sxsw plus strong Canadian dollar means stock up on Apple gear',\n",
       " 'Excited to meet the @samsungmobileus at #sxsw so I can show them my Sprint Galaxy S still running Android 2.1.   #fail',\n",
       " \"Find &amp; Start Impromptu Parties at #SXSW With @HurricaneParty http://bit.ly/gVLrIn I can't wait til the Android app comes out.\"]"
      ]
     },
     "execution_count": 21,
     "metadata": {},
     "output_type": "execute_result"
    }
   ],
   "source": [
    "list(df_clean.tweet_text[:11])"
   ]
  },
  {
   "cell_type": "markdown",
   "metadata": {},
   "source": [
    "Looking at the first 10 tweets, we can see that:\n",
    " \n",
    "* The tweets usually have one or more twitter handles.\n",
    "* Hashtags are used before relevant keywords and the tweets also have multiple special characters.\n",
    "* The sentiments are expressed pretty clearly for each brand, which will make it easy for us to classify the data."
   ]
  },
  {
   "cell_type": "markdown",
   "metadata": {},
   "source": [
    "But first we need to reduce each tweet to contain only text for EDA and modelling."
   ]
  },
  {
   "cell_type": "markdown",
   "metadata": {},
   "source": [
    "### Tokenize the data"
   ]
  },
  {
   "cell_type": "markdown",
   "metadata": {},
   "source": [
    "Using nltk and some code, we can easily tokenize the tweets to its simplest form."
   ]
  },
  {
   "cell_type": "code",
   "execution_count": 22,
   "metadata": {},
   "outputs": [
    {
     "name": "stderr",
     "output_type": "stream",
     "text": [
      "[nltk_data] Downloading package stopwords to\n",
      "[nltk_data]     C:\\Users\\dicch\\AppData\\Roaming\\nltk_data...\n",
      "[nltk_data]   Package stopwords is already up-to-date!\n"
     ]
    }
   ],
   "source": [
    "# Download stopwords from nltk\n",
    "nltk.download('stopwords')\n",
    "\n",
    "# Create a list of stopwords and add punctuation to remove them both\n",
    "stopwords_list = stopwords.words('english')\n",
    "stopwords_list += list(string.punctuation)\n",
    "\n",
    "tokenized_tweet = []\n",
    "# Loop in to access individual tweets\n",
    "for i in df_clean.index:\n",
    "    tweet = df_clean.tweet_text[i]\n",
    "        \n",
    "    # tokenize each tweet\n",
    "    pattern = \"([a-zA-Z]+(?:'[a-z]+)?)\"\n",
    "    tweet_tokens_raw = nltk.regexp_tokenize(tweet, pattern)\n",
    "        \n",
    "    # lowercase each token\n",
    "    tweet_tokens = [word.lower() for word in tweet_tokens_raw]\n",
    "        \n",
    "    # remove stopwords and punctuations\n",
    "    tweet_words_stopped = [word for word in tweet_tokens if word not in stopwords_list] \n",
    "    \n",
    "    # append the tokens into tokenized_tweets\n",
    "    tokenized_tweet.append(tweet_words_stopped)"
   ]
  },
  {
   "cell_type": "code",
   "execution_count": 23,
   "metadata": {},
   "outputs": [],
   "source": [
    "# Let's add the tokenized tweets back into our dataframe\n",
    "df_clean['tokenized_tweet'] = tokenized_tweet"
   ]
  },
  {
   "cell_type": "code",
   "execution_count": 24,
   "metadata": {},
   "outputs": [
    {
     "data": {
      "text/html": [
       "<div>\n",
       "<style scoped>\n",
       "    .dataframe tbody tr th:only-of-type {\n",
       "        vertical-align: middle;\n",
       "    }\n",
       "\n",
       "    .dataframe tbody tr th {\n",
       "        vertical-align: top;\n",
       "    }\n",
       "\n",
       "    .dataframe thead th {\n",
       "        text-align: right;\n",
       "    }\n",
       "</style>\n",
       "<table border=\"1\" class=\"dataframe\">\n",
       "  <thead>\n",
       "    <tr style=\"text-align: right;\">\n",
       "      <th></th>\n",
       "      <th>tweet_text</th>\n",
       "      <th>emotion</th>\n",
       "      <th>tokenized_tweet</th>\n",
       "    </tr>\n",
       "  </thead>\n",
       "  <tbody>\n",
       "    <tr>\n",
       "      <th>0</th>\n",
       "      <td>.@wesley83 I have a 3G iPhone. After 3 hrs twe...</td>\n",
       "      <td>2</td>\n",
       "      <td>[wesley, g, iphone, hrs, tweeting, rise, austi...</td>\n",
       "    </tr>\n",
       "    <tr>\n",
       "      <th>1</th>\n",
       "      <td>@jessedee Know about @fludapp ? Awesome iPad/i...</td>\n",
       "      <td>1</td>\n",
       "      <td>[jessedee, know, fludapp, awesome, ipad, iphon...</td>\n",
       "    </tr>\n",
       "    <tr>\n",
       "      <th>2</th>\n",
       "      <td>@swonderlin Can not wait for #iPad 2 also. The...</td>\n",
       "      <td>1</td>\n",
       "      <td>[swonderlin, wait, ipad, also, sale, sxsw]</td>\n",
       "    </tr>\n",
       "    <tr>\n",
       "      <th>3</th>\n",
       "      <td>@sxsw I hope this year's festival isn't as cra...</td>\n",
       "      <td>2</td>\n",
       "      <td>[sxsw, hope, year's, festival, crashy, year's,...</td>\n",
       "    </tr>\n",
       "    <tr>\n",
       "      <th>4</th>\n",
       "      <td>@sxtxstate great stuff on Fri #SXSW: Marissa M...</td>\n",
       "      <td>1</td>\n",
       "      <td>[sxtxstate, great, stuff, fri, sxsw, marissa, ...</td>\n",
       "    </tr>\n",
       "  </tbody>\n",
       "</table>\n",
       "</div>"
      ],
      "text/plain": [
       "                                          tweet_text  emotion  \\\n",
       "0  .@wesley83 I have a 3G iPhone. After 3 hrs twe...        2   \n",
       "1  @jessedee Know about @fludapp ? Awesome iPad/i...        1   \n",
       "2  @swonderlin Can not wait for #iPad 2 also. The...        1   \n",
       "3  @sxsw I hope this year's festival isn't as cra...        2   \n",
       "4  @sxtxstate great stuff on Fri #SXSW: Marissa M...        1   \n",
       "\n",
       "                                     tokenized_tweet  \n",
       "0  [wesley, g, iphone, hrs, tweeting, rise, austi...  \n",
       "1  [jessedee, know, fludapp, awesome, ipad, iphon...  \n",
       "2         [swonderlin, wait, ipad, also, sale, sxsw]  \n",
       "3  [sxsw, hope, year's, festival, crashy, year's,...  \n",
       "4  [sxtxstate, great, stuff, fri, sxsw, marissa, ...  "
      ]
     },
     "execution_count": 24,
     "metadata": {},
     "output_type": "execute_result"
    }
   ],
   "source": [
    "df_clean.head()"
   ]
  },
  {
   "cell_type": "markdown",
   "metadata": {},
   "source": [
    "We can now use the tokenized tweets to identify the brand or product mentioned in each tweet."
   ]
  },
  {
   "cell_type": "markdown",
   "metadata": {},
   "source": [
    "### EDA 1 -  Explore the contents of the tweet to identify the product and sentiment of the user"
   ]
  },
  {
   "cell_type": "code",
   "execution_count": 25,
   "metadata": {},
   "outputs": [],
   "source": [
    "# Create list of words/products that identify the brand\n",
    "apple = ['ipad', 'iphone', 'imac', 'iwatch', 'itunes', 'icloud', 'apple', 'mac', 'macbook', 'macpro']\n",
    "google = ['google']"
   ]
  },
  {
   "cell_type": "markdown",
   "metadata": {},
   "source": [
    "We will create a dictionary to populate 'Apple' and 'Google' each time the tweet mentions one of its products. \n",
    "\n",
    "We will also use the index as keys in our dictionary so that we can match it with the tweet index later and categorize it accordingly."
   ]
  },
  {
   "cell_type": "code",
   "execution_count": 26,
   "metadata": {},
   "outputs": [],
   "source": [
    "product = {}\n",
    "for i in df_clean.index:\n",
    "    for word in df_clean.tokenized_tweet[i]:\n",
    "        if word in apple:\n",
    "            product[i] = word\n",
    "            break\n",
    "        elif word in google:\n",
    "            product[i] = 'google'\n",
    "            break"
   ]
  },
  {
   "cell_type": "code",
   "execution_count": 27,
   "metadata": {},
   "outputs": [
    {
     "data": {
      "text/plain": [
       "{0: 'iphone',\n",
       " 1: 'ipad',\n",
       " 2: 'ipad',\n",
       " 3: 'iphone',\n",
       " 4: 'google',\n",
       " 5: 'ipad',\n",
       " 8: 'ipad',\n",
       " 9: 'apple',\n",
       " 13: 'google',\n",
       " 14: 'ipad',\n",
       " 15: 'ipad',\n",
       " 16: 'ipad',\n",
       " 17: 'iphone',\n",
       " 18: 'iphone',\n",
       " 19: 'ipad',\n",
       " 20: 'ipad',\n",
       " 21: 'ipad',\n",
       " 23: 'iphone',\n",
       " 25: 'ipad',\n",
       " 26: 'ipad',\n",
       " 27: 'google',\n",
       " 28: 'iphone',\n",
       " 30: 'ipad',\n",
       " 31: 'ipad',\n",
       " 33: 'ipad',\n",
       " 34: 'ipad',\n",
       " 35: 'google',\n",
       " 36: 'ipad',\n",
       " 37: 'ipad',\n",
       " 38: 'google',\n",
       " 39: 'google',\n",
       " 40: 'apple',\n",
       " 41: 'iphone',\n",
       " 42: 'iphone',\n",
       " 43: 'ipad',\n",
       " 44: 'iphone',\n",
       " 45: 'ipad',\n",
       " 46: 'iphone',\n",
       " 47: 'apple',\n",
       " 48: 'google',\n",
       " 49: 'apple',\n",
       " 50: 'ipad',\n",
       " 54: 'google',\n",
       " 56: 'google',\n",
       " 57: 'ipad',\n",
       " 58: 'ipad',\n",
       " 59: 'google',\n",
       " 60: 'apple',\n",
       " 61: 'google',\n",
       " 62: 'ipad',\n",
       " 64: 'apple',\n",
       " 65: 'apple',\n",
       " 67: 'ipad',\n",
       " 68: 'iphone',\n",
       " 69: 'ipad',\n",
       " 70: 'google',\n",
       " 72: 'google',\n",
       " 74: 'google',\n",
       " 75: 'google',\n",
       " 76: 'iphone',\n",
       " 78: 'ipad',\n",
       " 80: 'iphone',\n",
       " 81: 'iphone',\n",
       " 82: 'apple',\n",
       " 83: 'apple',\n",
       " 84: 'google',\n",
       " 89: 'ipad',\n",
       " 92: 'iphone',\n",
       " 93: 'apple',\n",
       " 95: 'ipad',\n",
       " 96: 'iphone',\n",
       " 98: 'google',\n",
       " 100: 'google',\n",
       " 101: 'ipad',\n",
       " 103: 'iphone',\n",
       " 104: 'google',\n",
       " 105: 'google',\n",
       " 106: 'google',\n",
       " 107: 'google',\n",
       " 108: 'apple',\n",
       " 110: 'apple',\n",
       " 111: 'apple',\n",
       " 113: 'apple',\n",
       " 114: 'apple',\n",
       " 115: 'apple',\n",
       " 116: 'apple',\n",
       " 117: 'apple',\n",
       " 118: 'apple',\n",
       " 119: 'apple',\n",
       " 120: 'apple',\n",
       " 121: 'ipad',\n",
       " 123: 'iphone',\n",
       " 124: 'ipad',\n",
       " 125: 'ipad',\n",
       " 126: 'apple',\n",
       " 127: 'ipad',\n",
       " 128: 'ipad',\n",
       " 131: 'google',\n",
       " 132: 'google',\n",
       " 133: 'apple',\n",
       " 134: 'apple',\n",
       " 135: 'iphone',\n",
       " 136: 'apple',\n",
       " 137: 'google',\n",
       " 138: 'iphone',\n",
       " 139: 'iphone',\n",
       " 140: 'iphone',\n",
       " 141: 'apple',\n",
       " 142: 'ipad',\n",
       " 143: 'apple',\n",
       " 144: 'apple',\n",
       " 145: 'ipad',\n",
       " 146: 'apple',\n",
       " 147: 'ipad',\n",
       " 148: 'apple',\n",
       " 149: 'ipad',\n",
       " 150: 'ipad',\n",
       " 151: 'ipad',\n",
       " 152: 'google',\n",
       " 153: 'apple',\n",
       " 154: 'apple',\n",
       " 155: 'iphone',\n",
       " 156: 'ipad',\n",
       " 157: 'iphone',\n",
       " 158: 'itunes',\n",
       " 159: 'google',\n",
       " 160: 'google',\n",
       " 161: 'apple',\n",
       " 163: 'google',\n",
       " 164: 'google',\n",
       " 165: 'ipad',\n",
       " 166: 'ipad',\n",
       " 167: 'iphone',\n",
       " 168: 'google',\n",
       " 169: 'itunes',\n",
       " 170: 'ipad',\n",
       " 171: 'iphone',\n",
       " 172: 'ipad',\n",
       " 173: 'apple',\n",
       " 174: 'ipad',\n",
       " 176: 'iphone',\n",
       " 177: 'google',\n",
       " 178: 'google',\n",
       " 179: 'google',\n",
       " 180: 'ipad',\n",
       " 181: 'google',\n",
       " 182: 'iphone',\n",
       " 183: 'apple',\n",
       " 185: 'google',\n",
       " 186: 'apple',\n",
       " 187: 'ipad',\n",
       " 189: 'ipad',\n",
       " 190: 'ipad',\n",
       " 191: 'ipad',\n",
       " 192: 'ipad',\n",
       " 193: 'ipad',\n",
       " 194: 'apple',\n",
       " 195: 'google',\n",
       " 196: 'iphone',\n",
       " 197: 'iphone',\n",
       " 198: 'google',\n",
       " 199: 'google',\n",
       " 200: 'ipad',\n",
       " 201: 'iphone',\n",
       " 203: 'apple',\n",
       " 205: 'apple',\n",
       " 207: 'google',\n",
       " 208: 'ipad',\n",
       " 209: 'google',\n",
       " 211: 'iphone',\n",
       " 212: 'ipad',\n",
       " 213: 'iphone',\n",
       " 214: 'iphone',\n",
       " 215: 'google',\n",
       " 216: 'ipad',\n",
       " 217: 'google',\n",
       " 218: 'iphone',\n",
       " 219: 'ipad',\n",
       " 220: 'apple',\n",
       " 221: 'iphone',\n",
       " 222: 'apple',\n",
       " 224: 'google',\n",
       " 225: 'google',\n",
       " 226: 'google',\n",
       " 227: 'google',\n",
       " 228: 'ipad',\n",
       " 229: 'iphone',\n",
       " 230: 'apple',\n",
       " 231: 'apple',\n",
       " 233: 'iphone',\n",
       " 234: 'ipad',\n",
       " 235: 'google',\n",
       " 236: 'iphone',\n",
       " 238: 'ipad',\n",
       " 240: 'apple',\n",
       " 241: 'apple',\n",
       " 242: 'apple',\n",
       " 243: 'ipad',\n",
       " 244: 'ipad',\n",
       " 245: 'google',\n",
       " 246: 'google',\n",
       " 247: 'ipad',\n",
       " 248: 'iphone',\n",
       " 249: 'iphone',\n",
       " 250: 'iphone',\n",
       " 251: 'apple',\n",
       " 254: 'ipad',\n",
       " 255: 'google',\n",
       " 256: 'google',\n",
       " 257: 'ipad',\n",
       " 259: 'iphone',\n",
       " 262: 'iphone',\n",
       " 263: 'iphone',\n",
       " 265: 'apple',\n",
       " 266: 'apple',\n",
       " 267: 'apple',\n",
       " 268: 'apple',\n",
       " 269: 'apple',\n",
       " 270: 'apple',\n",
       " 271: 'apple',\n",
       " 272: 'apple',\n",
       " 273: 'apple',\n",
       " 274: 'apple',\n",
       " 275: 'apple',\n",
       " 276: 'apple',\n",
       " 277: 'apple',\n",
       " 278: 'apple',\n",
       " 279: 'apple',\n",
       " 280: 'apple',\n",
       " 281: 'apple',\n",
       " 282: 'apple',\n",
       " 283: 'apple',\n",
       " 284: 'apple',\n",
       " 285: 'apple',\n",
       " 286: 'apple',\n",
       " 287: 'apple',\n",
       " 288: 'apple',\n",
       " 289: 'apple',\n",
       " 290: 'apple',\n",
       " 291: 'apple',\n",
       " 292: 'apple',\n",
       " 293: 'apple',\n",
       " 294: 'apple',\n",
       " 295: 'apple',\n",
       " 296: 'apple',\n",
       " 297: 'apple',\n",
       " 298: 'apple',\n",
       " 299: 'apple',\n",
       " 300: 'apple',\n",
       " 301: 'apple',\n",
       " 302: 'apple',\n",
       " 303: 'apple',\n",
       " 304: 'ipad',\n",
       " 305: 'iphone',\n",
       " 306: 'google',\n",
       " 310: 'ipad',\n",
       " 311: 'iphone',\n",
       " 312: 'google',\n",
       " 313: 'mac',\n",
       " 314: 'ipad',\n",
       " 315: 'apple',\n",
       " 316: 'ipad',\n",
       " 317: 'iphone',\n",
       " 318: 'iphone',\n",
       " 319: 'ipad',\n",
       " 322: 'ipad',\n",
       " 323: 'ipad',\n",
       " 324: 'iphone',\n",
       " 326: 'apple',\n",
       " 327: 'apple',\n",
       " 328: 'google',\n",
       " 329: 'apple',\n",
       " 330: 'apple',\n",
       " 331: 'ipad',\n",
       " 332: 'apple',\n",
       " 333: 'google',\n",
       " 334: 'ipad',\n",
       " 335: 'iphone',\n",
       " 336: 'apple',\n",
       " 337: 'google',\n",
       " 338: 'apple',\n",
       " 339: 'google',\n",
       " 340: 'apple',\n",
       " 343: 'google',\n",
       " 344: 'ipad',\n",
       " 345: 'iphone',\n",
       " 346: 'apple',\n",
       " 347: 'google',\n",
       " 348: 'apple',\n",
       " 349: 'google',\n",
       " 350: 'iphone',\n",
       " 351: 'apple',\n",
       " 352: 'apple',\n",
       " 353: 'google',\n",
       " 354: 'iphone',\n",
       " 356: 'iphone',\n",
       " 357: 'iphone',\n",
       " 358: 'google',\n",
       " 359: 'apple',\n",
       " 360: 'apple',\n",
       " 361: 'google',\n",
       " 362: 'ipad',\n",
       " 363: 'apple',\n",
       " 364: 'iphone',\n",
       " 366: 'google',\n",
       " 367: 'ipad',\n",
       " 369: 'ipad',\n",
       " 370: 'google',\n",
       " 371: 'iphone',\n",
       " 372: 'iphone',\n",
       " 373: 'google',\n",
       " 375: 'ipad',\n",
       " 376: 'iphone',\n",
       " 377: 'iphone',\n",
       " 378: 'iphone',\n",
       " 379: 'ipad',\n",
       " 380: 'ipad',\n",
       " 381: 'apple',\n",
       " 382: 'apple',\n",
       " 383: 'ipad',\n",
       " 384: 'iphone',\n",
       " 385: 'google',\n",
       " 386: 'google',\n",
       " 388: 'apple',\n",
       " 389: 'ipad',\n",
       " 390: 'google',\n",
       " 391: 'google',\n",
       " 392: 'google',\n",
       " 397: 'google',\n",
       " 398: 'google',\n",
       " 399: 'google',\n",
       " 400: 'google',\n",
       " 401: 'iphone',\n",
       " 402: 'google',\n",
       " 403: 'google',\n",
       " 404: 'ipad',\n",
       " 405: 'ipad',\n",
       " 407: 'macbook',\n",
       " 408: 'ipad',\n",
       " 410: 'ipad',\n",
       " 412: 'ipad',\n",
       " 414: 'apple',\n",
       " 415: 'google',\n",
       " 416: 'iphone',\n",
       " 417: 'apple',\n",
       " 418: 'ipad',\n",
       " 419: 'google',\n",
       " 420: 'ipad',\n",
       " 421: 'iphone',\n",
       " 422: 'google',\n",
       " 425: 'ipad',\n",
       " 426: 'iphone',\n",
       " 427: 'apple',\n",
       " 428: 'google',\n",
       " 429: 'ipad',\n",
       " 430: 'ipad',\n",
       " 431: 'ipad',\n",
       " 433: 'ipad',\n",
       " 434: 'ipad',\n",
       " 435: 'ipad',\n",
       " 436: 'ipad',\n",
       " 437: 'ipad',\n",
       " 439: 'ipad',\n",
       " 440: 'iphone',\n",
       " 442: 'ipad',\n",
       " 443: 'google',\n",
       " 445: 'apple',\n",
       " 446: 'apple',\n",
       " 449: 'iphone',\n",
       " 450: 'ipad',\n",
       " 455: 'iphone',\n",
       " 456: 'apple',\n",
       " 460: 'apple',\n",
       " 461: 'apple',\n",
       " 462: 'apple',\n",
       " 463: 'apple',\n",
       " 464: 'apple',\n",
       " 465: 'apple',\n",
       " 466: 'apple',\n",
       " 467: 'apple',\n",
       " 468: 'apple',\n",
       " 469: 'apple',\n",
       " 470: 'apple',\n",
       " 471: 'apple',\n",
       " 472: 'apple',\n",
       " 473: 'apple',\n",
       " 474: 'apple',\n",
       " 475: 'apple',\n",
       " 476: 'apple',\n",
       " 477: 'apple',\n",
       " 478: 'apple',\n",
       " 479: 'apple',\n",
       " 480: 'apple',\n",
       " 481: 'apple',\n",
       " 482: 'google',\n",
       " 483: 'iphone',\n",
       " 485: 'ipad',\n",
       " 486: 'ipad',\n",
       " 487: 'ipad',\n",
       " 489: 'google',\n",
       " 490: 'iphone',\n",
       " 491: 'ipad',\n",
       " 492: 'google',\n",
       " 493: 'google',\n",
       " 494: 'google',\n",
       " 495: 'ipad',\n",
       " 496: 'apple',\n",
       " 498: 'ipad',\n",
       " 499: 'ipad',\n",
       " 500: 'iphone',\n",
       " 501: 'apple',\n",
       " 502: 'apple',\n",
       " 503: 'apple',\n",
       " 504: 'iphone',\n",
       " 505: 'google',\n",
       " 506: 'google',\n",
       " 508: 'apple',\n",
       " 509: 'ipad',\n",
       " 510: 'iphone',\n",
       " 511: 'google',\n",
       " 512: 'apple',\n",
       " 513: 'ipad',\n",
       " 514: 'google',\n",
       " 515: 'ipad',\n",
       " 516: 'ipad',\n",
       " 517: 'apple',\n",
       " 519: 'apple',\n",
       " 520: 'google',\n",
       " 521: 'itunes',\n",
       " 522: 'itunes',\n",
       " 523: 'ipad',\n",
       " 525: 'iphone',\n",
       " 526: 'ipad',\n",
       " 527: 'ipad',\n",
       " 528: 'ipad',\n",
       " 531: 'ipad',\n",
       " 532: 'iphone',\n",
       " 534: 'iphone',\n",
       " 535: 'apple',\n",
       " 536: 'apple',\n",
       " 537: 'google',\n",
       " 538: 'google',\n",
       " 539: 'iphone',\n",
       " 540: 'macbook',\n",
       " 541: 'iphone',\n",
       " 542: 'google',\n",
       " 543: 'iphone',\n",
       " 544: 'ipad',\n",
       " 545: 'google',\n",
       " 546: 'iphone',\n",
       " 547: 'apple',\n",
       " 548: 'apple',\n",
       " 549: 'apple',\n",
       " 551: 'apple',\n",
       " 552: 'macbook',\n",
       " 553: 'google',\n",
       " 555: 'ipad',\n",
       " 557: 'google',\n",
       " 558: 'google',\n",
       " 559: 'google',\n",
       " 560: 'google',\n",
       " 561: 'google',\n",
       " 562: 'google',\n",
       " 563: 'google',\n",
       " 564: 'google',\n",
       " 565: 'google',\n",
       " 566: 'google',\n",
       " 567: 'google',\n",
       " 568: 'google',\n",
       " 569: 'google',\n",
       " 570: 'google',\n",
       " 571: 'google',\n",
       " 572: 'google',\n",
       " 573: 'google',\n",
       " 574: 'google',\n",
       " 575: 'google',\n",
       " 576: 'google',\n",
       " 577: 'google',\n",
       " 578: 'google',\n",
       " 579: 'google',\n",
       " 580: 'google',\n",
       " 581: 'google',\n",
       " 582: 'google',\n",
       " 583: 'google',\n",
       " 584: 'google',\n",
       " 585: 'google',\n",
       " 586: 'google',\n",
       " 587: 'google',\n",
       " 588: 'google',\n",
       " 589: 'google',\n",
       " 590: 'google',\n",
       " 591: 'google',\n",
       " 592: 'google',\n",
       " 596: 'ipad',\n",
       " 597: 'ipad',\n",
       " 598: 'iphone',\n",
       " 599: 'iphone',\n",
       " 601: 'ipad',\n",
       " 602: 'ipad',\n",
       " 603: 'ipad',\n",
       " 604: 'ipad',\n",
       " 605: 'ipad',\n",
       " 606: 'ipad',\n",
       " 607: 'google',\n",
       " 609: 'google',\n",
       " 610: 'iphone',\n",
       " 611: 'iphone',\n",
       " 612: 'google',\n",
       " 613: 'apple',\n",
       " 614: 'apple',\n",
       " 615: 'apple',\n",
       " 616: 'google',\n",
       " 620: 'apple',\n",
       " 621: 'iphone',\n",
       " 623: 'google',\n",
       " 624: 'iphone',\n",
       " 625: 'ipad',\n",
       " 626: 'ipad',\n",
       " 627: 'iphone',\n",
       " 628: 'apple',\n",
       " 629: 'iphone',\n",
       " 630: 'ipad',\n",
       " 631: 'apple',\n",
       " 633: 'ipad',\n",
       " 634: 'iphone',\n",
       " 635: 'ipad',\n",
       " 636: 'macbook',\n",
       " 637: 'iphone',\n",
       " 638: 'iphone',\n",
       " 639: 'ipad',\n",
       " 643: 'ipad',\n",
       " 644: 'ipad',\n",
       " 645: 'ipad',\n",
       " 646: 'iphone',\n",
       " 647: 'google',\n",
       " 648: 'iphone',\n",
       " 653: 'iphone',\n",
       " 654: 'ipad',\n",
       " 655: 'apple',\n",
       " 656: 'apple',\n",
       " 657: 'apple',\n",
       " 658: 'iphone',\n",
       " 659: 'ipad',\n",
       " 660: 'google',\n",
       " 661: 'google',\n",
       " 662: 'ipad',\n",
       " 665: 'apple',\n",
       " 666: 'ipad',\n",
       " 667: 'ipad',\n",
       " 668: 'ipad',\n",
       " 669: 'mac',\n",
       " 670: 'google',\n",
       " 672: 'iphone',\n",
       " 673: 'apple',\n",
       " 675: 'ipad',\n",
       " 676: 'google',\n",
       " 679: 'apple',\n",
       " 680: 'iphone',\n",
       " 681: 'ipad',\n",
       " 682: 'ipad',\n",
       " 683: 'ipad',\n",
       " 684: 'ipad',\n",
       " 685: 'ipad',\n",
       " 686: 'ipad',\n",
       " 687: 'ipad',\n",
       " 688: 'ipad',\n",
       " 689: 'ipad',\n",
       " 690: 'ipad',\n",
       " 691: 'ipad',\n",
       " 692: 'ipad',\n",
       " 693: 'ipad',\n",
       " 694: 'ipad',\n",
       " 695: 'ipad',\n",
       " 696: 'ipad',\n",
       " 697: 'ipad',\n",
       " 698: 'ipad',\n",
       " 699: 'iphone',\n",
       " 700: 'iphone',\n",
       " 701: 'iphone',\n",
       " 702: 'iphone',\n",
       " 703: 'iphone',\n",
       " 704: 'iphone',\n",
       " 706: 'iphone',\n",
       " 707: 'iphone',\n",
       " 708: 'iphone',\n",
       " 709: 'iphone',\n",
       " 710: 'ipad',\n",
       " 712: 'iphone',\n",
       " 713: 'apple',\n",
       " 714: 'iphone',\n",
       " 715: 'iphone',\n",
       " 716: 'iphone',\n",
       " 717: 'google',\n",
       " 719: 'apple',\n",
       " 720: 'google',\n",
       " 721: 'iphone',\n",
       " 722: 'iphone',\n",
       " 723: 'google',\n",
       " 724: 'apple',\n",
       " 725: 'apple',\n",
       " 726: 'iphone',\n",
       " 727: 'apple',\n",
       " 728: 'apple',\n",
       " 729: 'apple',\n",
       " 730: 'iphone',\n",
       " 731: 'iphone',\n",
       " 732: 'apple',\n",
       " 733: 'ipad',\n",
       " 735: 'iphone',\n",
       " 736: 'iphone',\n",
       " 737: 'google',\n",
       " 738: 'iphone',\n",
       " 739: 'iphone',\n",
       " 740: 'ipad',\n",
       " 741: 'google',\n",
       " 742: 'ipad',\n",
       " 743: 'iphone',\n",
       " 744: 'ipad',\n",
       " 746: 'google',\n",
       " 747: 'iphone',\n",
       " 750: 'google',\n",
       " 751: 'google',\n",
       " 752: 'google',\n",
       " 753: 'google',\n",
       " 754: 'google',\n",
       " 755: 'google',\n",
       " 756: 'google',\n",
       " 757: 'google',\n",
       " 758: 'google',\n",
       " 759: 'google',\n",
       " 760: 'google',\n",
       " 761: 'google',\n",
       " 762: 'google',\n",
       " 763: 'google',\n",
       " 764: 'google',\n",
       " 765: 'google',\n",
       " 766: 'google',\n",
       " 767: 'google',\n",
       " 768: 'google',\n",
       " 769: 'google',\n",
       " 770: 'google',\n",
       " 771: 'google',\n",
       " 772: 'google',\n",
       " 773: 'google',\n",
       " 774: 'google',\n",
       " 775: 'google',\n",
       " 776: 'google',\n",
       " 777: 'google',\n",
       " 778: 'google',\n",
       " 779: 'google',\n",
       " 780: 'google',\n",
       " 781: 'google',\n",
       " 782: 'google',\n",
       " 783: 'google',\n",
       " 784: 'google',\n",
       " 785: 'google',\n",
       " 786: 'google',\n",
       " 787: 'google',\n",
       " 788: 'google',\n",
       " 789: 'google',\n",
       " 790: 'google',\n",
       " 791: 'google',\n",
       " 792: 'google',\n",
       " 793: 'google',\n",
       " 794: 'google',\n",
       " 795: 'google',\n",
       " 796: 'google',\n",
       " 797: 'google',\n",
       " 798: 'google',\n",
       " 799: 'google',\n",
       " 800: 'google',\n",
       " 801: 'google',\n",
       " 802: 'google',\n",
       " 803: 'google',\n",
       " 804: 'google',\n",
       " 805: 'google',\n",
       " 806: 'google',\n",
       " 807: 'google',\n",
       " 808: 'google',\n",
       " 809: 'google',\n",
       " 810: 'google',\n",
       " 811: 'google',\n",
       " 812: 'google',\n",
       " 813: 'google',\n",
       " 814: 'google',\n",
       " 815: 'google',\n",
       " 816: 'google',\n",
       " 817: 'google',\n",
       " 818: 'google',\n",
       " 819: 'google',\n",
       " 820: 'google',\n",
       " 821: 'google',\n",
       " 822: 'google',\n",
       " 823: 'google',\n",
       " 824: 'google',\n",
       " 825: 'google',\n",
       " 826: 'google',\n",
       " 827: 'google',\n",
       " 828: 'google',\n",
       " 830: 'google',\n",
       " 831: 'google',\n",
       " 832: 'apple',\n",
       " 833: 'google',\n",
       " 835: 'imac',\n",
       " 836: 'ipad',\n",
       " 837: 'ipad',\n",
       " 838: 'apple',\n",
       " 839: 'apple',\n",
       " 840: 'apple',\n",
       " 841: 'ipad',\n",
       " 842: 'apple',\n",
       " 843: 'apple',\n",
       " 845: 'google',\n",
       " 846: 'google',\n",
       " 847: 'google',\n",
       " 848: 'ipad',\n",
       " 849: 'ipad',\n",
       " 851: 'google',\n",
       " 853: 'google',\n",
       " 855: 'iphone',\n",
       " 856: 'iphone',\n",
       " 857: 'google',\n",
       " 858: 'google',\n",
       " 859: 'apple',\n",
       " 860: 'apple',\n",
       " 861: 'apple',\n",
       " 862: 'apple',\n",
       " 864: 'iphone',\n",
       " 865: 'google',\n",
       " 866: 'ipad',\n",
       " 867: 'ipad',\n",
       " 868: 'ipad',\n",
       " 870: 'ipad',\n",
       " 871: 'ipad',\n",
       " 873: 'ipad',\n",
       " 874: 'apple',\n",
       " 875: 'ipad',\n",
       " 879: 'ipad',\n",
       " 880: 'itunes',\n",
       " 881: 'itunes',\n",
       " 883: 'ipad',\n",
       " 884: 'ipad',\n",
       " 885: 'ipad',\n",
       " 886: 'google',\n",
       " 888: 'iphone',\n",
       " 889: 'iphone',\n",
       " 890: 'iphone',\n",
       " 891: 'iphone',\n",
       " 892: 'iphone',\n",
       " 893: 'iphone',\n",
       " 894: 'iphone',\n",
       " 895: 'google',\n",
       " 896: 'google',\n",
       " 897: 'google',\n",
       " 898: 'iphone',\n",
       " 899: 'apple',\n",
       " 901: 'apple',\n",
       " 902: 'google',\n",
       " 903: 'ipad',\n",
       " 904: 'google',\n",
       " 905: 'apple',\n",
       " 906: 'iphone',\n",
       " 907: 'iphone',\n",
       " 908: 'iphone',\n",
       " 909: 'iphone',\n",
       " 910: 'google',\n",
       " 911: 'ipad',\n",
       " 912: 'ipad',\n",
       " 913: 'google',\n",
       " 914: 'iphone',\n",
       " 916: 'iphone',\n",
       " 917: 'iphone',\n",
       " 918: 'iphone',\n",
       " 919: 'iphone',\n",
       " 920: 'apple',\n",
       " 921: 'iphone',\n",
       " 922: 'ipad',\n",
       " 924: 'google',\n",
       " 925: 'google',\n",
       " 926: 'google',\n",
       " 928: 'apple',\n",
       " 930: 'google',\n",
       " 931: 'google',\n",
       " 932: 'ipad',\n",
       " 933: 'apple',\n",
       " 935: 'apple',\n",
       " 936: 'google',\n",
       " 939: 'iphone',\n",
       " 940: 'ipad',\n",
       " 941: 'google',\n",
       " 942: 'apple',\n",
       " 943: 'apple',\n",
       " 944: 'google',\n",
       " 945: 'google',\n",
       " 946: 'google',\n",
       " 947: 'ipad',\n",
       " 948: 'google',\n",
       " 949: 'google',\n",
       " 950: 'google',\n",
       " 951: 'iphone',\n",
       " 955: 'apple',\n",
       " 956: 'iphone',\n",
       " 957: 'iphone',\n",
       " 958: 'iphone',\n",
       " 959: 'ipad',\n",
       " 961: 'apple',\n",
       " 962: 'iphone',\n",
       " 963: 'ipad',\n",
       " 964: 'iphone',\n",
       " 965: 'ipad',\n",
       " 966: 'ipad',\n",
       " 967: 'google',\n",
       " 968: 'iphone',\n",
       " 969: 'apple',\n",
       " 970: 'apple',\n",
       " 971: 'apple',\n",
       " 972: 'apple',\n",
       " 973: 'apple',\n",
       " 974: 'apple',\n",
       " 975: 'apple',\n",
       " 976: 'apple',\n",
       " 977: 'apple',\n",
       " 978: 'apple',\n",
       " 979: 'apple',\n",
       " 980: 'apple',\n",
       " 981: 'google',\n",
       " 982: 'ipad',\n",
       " 983: 'apple',\n",
       " 984: 'iphone',\n",
       " 985: 'ipad',\n",
       " 986: 'ipad',\n",
       " 987: 'apple',\n",
       " 988: 'google',\n",
       " 989: 'iphone',\n",
       " 991: 'iphone',\n",
       " 992: 'apple',\n",
       " 993: 'google',\n",
       " 994: 'google',\n",
       " 995: 'iphone',\n",
       " 996: 'ipad',\n",
       " 998: 'apple',\n",
       " 999: 'google',\n",
       " 1001: 'google',\n",
       " 1002: 'google',\n",
       " 1004: 'apple',\n",
       " 1006: 'google',\n",
       " 1007: 'ipad',\n",
       " 1008: 'google',\n",
       " 1009: 'google',\n",
       " 1010: 'apple',\n",
       " 1011: 'apple',\n",
       " 1012: 'apple',\n",
       " 1013: 'apple',\n",
       " 1014: 'apple',\n",
       " 1015: 'apple',\n",
       " 1016: 'google',\n",
       " 1017: 'apple',\n",
       " 1018: 'iphone',\n",
       " 1019: 'ipad',\n",
       " 1021: 'ipad',\n",
       " 1022: 'ipad',\n",
       " 1023: 'google',\n",
       " 1024: 'google',\n",
       " 1025: 'google',\n",
       " 1026: 'google',\n",
       " 1028: 'apple',\n",
       " 1029: 'google',\n",
       " 1030: 'google',\n",
       " 1031: 'ipad',\n",
       " 1032: 'google',\n",
       " 1034: 'google',\n",
       " 1035: 'ipad',\n",
       " 1036: 'google',\n",
       " 1037: 'apple',\n",
       " 1038: 'google',\n",
       " 1039: 'apple',\n",
       " 1040: 'iphone',\n",
       " 1041: 'ipad',\n",
       " 1043: 'google',\n",
       " 1044: 'google',\n",
       " 1045: 'google',\n",
       " 1046: 'google',\n",
       " 1047: 'apple',\n",
       " 1048: 'google',\n",
       " 1049: 'google',\n",
       " 1050: 'iphone',\n",
       " 1051: 'ipad',\n",
       " 1053: 'google',\n",
       " 1054: 'google',\n",
       " 1055: 'google',\n",
       " 1056: 'apple',\n",
       " 1057: 'apple',\n",
       " 1058: 'google',\n",
       " 1059: 'apple',\n",
       " 1060: 'google',\n",
       " 1062: 'ipad',\n",
       " 1063: 'google',\n",
       " 1065: 'google',\n",
       " 1066: 'mac',\n",
       " 1070: 'iphone',\n",
       " 1071: 'google',\n",
       " 1073: 'google',\n",
       " 1074: 'google',\n",
       " 1075: 'apple',\n",
       " 1077: 'apple',\n",
       " 1078: 'google',\n",
       " 1079: 'ipad',\n",
       " 1080: 'apple',\n",
       " 1082: 'apple',\n",
       " 1083: 'apple',\n",
       " 1084: 'ipad',\n",
       " 1085: 'google',\n",
       " 1086: 'iphone',\n",
       " 1088: 'iphone',\n",
       " 1089: 'iphone',\n",
       " 1090: 'ipad',\n",
       " 1091: 'ipad',\n",
       " 1092: 'apple',\n",
       " 1093: 'apple',\n",
       " 1095: 'google',\n",
       " 1096: 'ipad',\n",
       " 1097: 'iphone',\n",
       " 1100: 'apple',\n",
       " 1101: 'ipad',\n",
       " 1102: 'ipad',\n",
       " 1103: 'ipad',\n",
       " 1104: 'ipad',\n",
       " 1105: 'apple',\n",
       " 1106: 'apple',\n",
       " 1107: 'iphone',\n",
       " 1108: 'ipad',\n",
       " 1109: 'iphone',\n",
       " 1110: 'apple',\n",
       " 1111: 'apple',\n",
       " 1112: 'apple',\n",
       " 1113: 'apple',\n",
       " 1114: 'google',\n",
       " 1115: 'apple',\n",
       " 1116: 'apple',\n",
       " 1117: 'iphone',\n",
       " 1118: 'apple',\n",
       " 1120: 'apple',\n",
       " 1122: 'ipad',\n",
       " 1124: 'apple',\n",
       " 1125: 'apple',\n",
       " 1126: 'apple',\n",
       " 1127: 'ipad',\n",
       " 1128: 'google',\n",
       " 1129: 'google',\n",
       " 1130: 'apple',\n",
       " 1131: 'iphone',\n",
       " 1134: 'google',\n",
       " 1138: 'iphone',\n",
       " 1139: 'apple',\n",
       " 1140: 'iphone',\n",
       " 1142: 'iphone',\n",
       " 1143: 'iphone',\n",
       " 1144: 'apple',\n",
       " 1145: 'google',\n",
       " 1146: 'ipad',\n",
       " 1148: 'google',\n",
       " 1149: 'google',\n",
       " 1150: 'iphone',\n",
       " 1152: 'ipad',\n",
       " 1153: 'itunes',\n",
       " 1154: 'itunes',\n",
       " 1155: 'apple',\n",
       " 1156: 'google',\n",
       " 1158: 'ipad',\n",
       " 1159: 'ipad',\n",
       " 1160: 'ipad',\n",
       " 1161: 'apple',\n",
       " 1162: 'iphone',\n",
       " 1165: 'iphone',\n",
       " 1169: 'iphone',\n",
       " 1170: 'ipad',\n",
       " 1171: 'ipad',\n",
       " 1172: 'iphone',\n",
       " 1173: 'ipad',\n",
       " 1174: 'google',\n",
       " 1175: 'apple',\n",
       " 1176: 'google',\n",
       " 1177: 'ipad',\n",
       " 1178: 'ipad',\n",
       " 1179: 'google',\n",
       " 1180: 'ipad',\n",
       " 1181: 'iphone',\n",
       " 1182: 'ipad',\n",
       " 1183: 'apple',\n",
       " 1184: 'ipad',\n",
       " 1185: 'apple',\n",
       " 1186: 'ipad',\n",
       " 1187: 'google',\n",
       " 1188: 'ipad',\n",
       " 1189: 'apple',\n",
       " 1190: 'ipad',\n",
       " 1191: 'apple',\n",
       " 1193: 'ipad',\n",
       " 1194: 'ipad',\n",
       " 1195: 'ipad',\n",
       " ...}"
      ]
     },
     "execution_count": 27,
     "metadata": {},
     "output_type": "execute_result"
    }
   ],
   "source": [
    "product"
   ]
  },
  {
   "cell_type": "markdown",
   "metadata": {},
   "source": [
    "Let's transform this into a dataframe so that we can join back with our tweet dataframe."
   ]
  },
  {
   "cell_type": "code",
   "execution_count": 28,
   "metadata": {},
   "outputs": [],
   "source": [
    "product_df = pd.DataFrame.from_dict(product, orient='index')\n",
    "product_df.rename(columns={0:'product'}, inplace=True)"
   ]
  },
  {
   "cell_type": "markdown",
   "metadata": {},
   "source": [
    "Since we have matching indexes we can join the two dataframes using index as key."
   ]
  },
  {
   "cell_type": "code",
   "execution_count": 29,
   "metadata": {},
   "outputs": [],
   "source": [
    "df_clean = df_clean.join(product_df, how='inner')"
   ]
  },
  {
   "cell_type": "code",
   "execution_count": 30,
   "metadata": {},
   "outputs": [
    {
     "data": {
      "text/html": [
       "<div>\n",
       "<style scoped>\n",
       "    .dataframe tbody tr th:only-of-type {\n",
       "        vertical-align: middle;\n",
       "    }\n",
       "\n",
       "    .dataframe tbody tr th {\n",
       "        vertical-align: top;\n",
       "    }\n",
       "\n",
       "    .dataframe thead th {\n",
       "        text-align: right;\n",
       "    }\n",
       "</style>\n",
       "<table border=\"1\" class=\"dataframe\">\n",
       "  <thead>\n",
       "    <tr style=\"text-align: right;\">\n",
       "      <th></th>\n",
       "      <th>tweet_text</th>\n",
       "      <th>emotion</th>\n",
       "      <th>tokenized_tweet</th>\n",
       "      <th>product</th>\n",
       "    </tr>\n",
       "  </thead>\n",
       "  <tbody>\n",
       "    <tr>\n",
       "      <th>0</th>\n",
       "      <td>.@wesley83 I have a 3G iPhone. After 3 hrs twe...</td>\n",
       "      <td>2</td>\n",
       "      <td>[wesley, g, iphone, hrs, tweeting, rise, austi...</td>\n",
       "      <td>iphone</td>\n",
       "    </tr>\n",
       "    <tr>\n",
       "      <th>1</th>\n",
       "      <td>@jessedee Know about @fludapp ? Awesome iPad/i...</td>\n",
       "      <td>1</td>\n",
       "      <td>[jessedee, know, fludapp, awesome, ipad, iphon...</td>\n",
       "      <td>ipad</td>\n",
       "    </tr>\n",
       "    <tr>\n",
       "      <th>2</th>\n",
       "      <td>@swonderlin Can not wait for #iPad 2 also. The...</td>\n",
       "      <td>1</td>\n",
       "      <td>[swonderlin, wait, ipad, also, sale, sxsw]</td>\n",
       "      <td>ipad</td>\n",
       "    </tr>\n",
       "    <tr>\n",
       "      <th>3</th>\n",
       "      <td>@sxsw I hope this year's festival isn't as cra...</td>\n",
       "      <td>2</td>\n",
       "      <td>[sxsw, hope, year's, festival, crashy, year's,...</td>\n",
       "      <td>iphone</td>\n",
       "    </tr>\n",
       "    <tr>\n",
       "      <th>4</th>\n",
       "      <td>@sxtxstate great stuff on Fri #SXSW: Marissa M...</td>\n",
       "      <td>1</td>\n",
       "      <td>[sxtxstate, great, stuff, fri, sxsw, marissa, ...</td>\n",
       "      <td>google</td>\n",
       "    </tr>\n",
       "  </tbody>\n",
       "</table>\n",
       "</div>"
      ],
      "text/plain": [
       "                                          tweet_text  emotion  \\\n",
       "0  .@wesley83 I have a 3G iPhone. After 3 hrs twe...        2   \n",
       "1  @jessedee Know about @fludapp ? Awesome iPad/i...        1   \n",
       "2  @swonderlin Can not wait for #iPad 2 also. The...        1   \n",
       "3  @sxsw I hope this year's festival isn't as cra...        2   \n",
       "4  @sxtxstate great stuff on Fri #SXSW: Marissa M...        1   \n",
       "\n",
       "                                     tokenized_tweet product  \n",
       "0  [wesley, g, iphone, hrs, tweeting, rise, austi...  iphone  \n",
       "1  [jessedee, know, fludapp, awesome, ipad, iphon...    ipad  \n",
       "2         [swonderlin, wait, ipad, also, sale, sxsw]    ipad  \n",
       "3  [sxsw, hope, year's, festival, crashy, year's,...  iphone  \n",
       "4  [sxtxstate, great, stuff, fri, sxsw, marissa, ...  google  "
      ]
     },
     "execution_count": 30,
     "metadata": {},
     "output_type": "execute_result"
    }
   ],
   "source": [
    "df_clean.head()"
   ]
  },
  {
   "cell_type": "code",
   "execution_count": 31,
   "metadata": {},
   "outputs": [
    {
     "data": {
      "text/plain": [
       "(7647, 4)"
      ]
     },
     "execution_count": 31,
     "metadata": {},
     "output_type": "execute_result"
    }
   ],
   "source": [
    "df_clean.shape"
   ]
  },
  {
   "cell_type": "markdown",
   "metadata": {},
   "source": [
    "Now that we have the products or brand the tweet is directed towards. Let's plot the contents to visualize our findings."
   ]
  },
  {
   "cell_type": "code",
   "execution_count": 32,
   "metadata": {},
   "outputs": [
    {
     "data": {
      "text/html": [
       "<div>\n",
       "<style scoped>\n",
       "    .dataframe tbody tr th:only-of-type {\n",
       "        vertical-align: middle;\n",
       "    }\n",
       "\n",
       "    .dataframe tbody tr th {\n",
       "        vertical-align: top;\n",
       "    }\n",
       "\n",
       "    .dataframe thead th {\n",
       "        text-align: right;\n",
       "    }\n",
       "</style>\n",
       "<table border=\"1\" class=\"dataframe\">\n",
       "  <thead>\n",
       "    <tr style=\"text-align: right;\">\n",
       "      <th></th>\n",
       "      <th>product</th>\n",
       "    </tr>\n",
       "  </thead>\n",
       "  <tbody>\n",
       "    <tr>\n",
       "      <th>google</th>\n",
       "      <td>2238</td>\n",
       "    </tr>\n",
       "    <tr>\n",
       "      <th>ipad</th>\n",
       "      <td>2118</td>\n",
       "    </tr>\n",
       "    <tr>\n",
       "      <th>apple</th>\n",
       "      <td>1742</td>\n",
       "    </tr>\n",
       "    <tr>\n",
       "      <th>iphone</th>\n",
       "      <td>1442</td>\n",
       "    </tr>\n",
       "    <tr>\n",
       "      <th>itunes</th>\n",
       "      <td>70</td>\n",
       "    </tr>\n",
       "    <tr>\n",
       "      <th>mac</th>\n",
       "      <td>23</td>\n",
       "    </tr>\n",
       "    <tr>\n",
       "      <th>macbook</th>\n",
       "      <td>13</td>\n",
       "    </tr>\n",
       "    <tr>\n",
       "      <th>imac</th>\n",
       "      <td>1</td>\n",
       "    </tr>\n",
       "  </tbody>\n",
       "</table>\n",
       "</div>"
      ],
      "text/plain": [
       "         product\n",
       "google      2238\n",
       "ipad        2118\n",
       "apple       1742\n",
       "iphone      1442\n",
       "itunes        70\n",
       "mac           23\n",
       "macbook       13\n",
       "imac           1"
      ]
     },
     "execution_count": 32,
     "metadata": {},
     "output_type": "execute_result"
    }
   ],
   "source": [
    "# Plot all products\n",
    "product_count = pd.DataFrame(df_clean['product'].value_counts())\n",
    "product_count"
   ]
  },
  {
   "cell_type": "code",
   "execution_count": 33,
   "metadata": {},
   "outputs": [
    {
     "data": {
      "image/png": "[encoded data removed]",
      "text/plain": [
       "<Figure size 720x360 with 1 Axes>"
      ]
     },
     "metadata": {
      "needs_background": "light"
     },
     "output_type": "display_data"
    }
   ],
   "source": [
    "product_count.plot(kind='bar', figsize=(10,5), title='Product Mentions')\n",
    "plt.savefig(r'Product_mentions.jpg', bbox_inches='tight');"
   ]
  },
  {
   "cell_type": "code",
   "execution_count": 34,
   "metadata": {},
   "outputs": [
    {
     "data": {
      "image/png": "[encoded data removed]",
      "text/plain": [
       "<Figure size 720x360 with 1 Axes>"
      ]
     },
     "metadata": {
      "needs_background": "light"
     },
     "output_type": "display_data"
    }
   ],
   "source": [
    "# Plot apple products\n",
    "product_count[1:].plot(kind='bar', color='green', alpha=.45, figsize=(10,5),\n",
    "                      title='Apple Product Mentions',\n",
    "                      ylabel='Total count',\n",
    "                      xlabel='Products');\n",
    "plt.savefig(r'Apple_Mentions.jpg', bbox_inches='tight');"
   ]
  },
  {
   "cell_type": "markdown",
   "metadata": {},
   "source": [
    "Ipad seems to have been the topic for most of the people in the SXSW event. Followed by Apple and Iphone."
   ]
  },
  {
   "cell_type": "code",
   "execution_count": 35,
   "metadata": {},
   "outputs": [
    {
     "data": {
      "text/plain": [
       "5409"
      ]
     },
     "execution_count": 35,
     "metadata": {},
     "output_type": "execute_result"
    }
   ],
   "source": [
    "apple_total = product_count['product'][1:].sum()\n",
    "apple_total"
   ]
  },
  {
   "cell_type": "code",
   "execution_count": 36,
   "metadata": {},
   "outputs": [
    {
     "data": {
      "text/plain": [
       "2238"
      ]
     },
     "execution_count": 36,
     "metadata": {},
     "output_type": "execute_result"
    }
   ],
   "source": [
    "google_total = product_count['product'][0]\n",
    "google_total"
   ]
  },
  {
   "cell_type": "code",
   "execution_count": 37,
   "metadata": {},
   "outputs": [
    {
     "data": {
      "text/html": [
       "<div>\n",
       "<style scoped>\n",
       "    .dataframe tbody tr th:only-of-type {\n",
       "        vertical-align: middle;\n",
       "    }\n",
       "\n",
       "    .dataframe tbody tr th {\n",
       "        vertical-align: top;\n",
       "    }\n",
       "\n",
       "    .dataframe thead th {\n",
       "        text-align: right;\n",
       "    }\n",
       "</style>\n",
       "<table border=\"1\" class=\"dataframe\">\n",
       "  <thead>\n",
       "    <tr style=\"text-align: right;\">\n",
       "      <th></th>\n",
       "      <th>0</th>\n",
       "    </tr>\n",
       "  </thead>\n",
       "  <tbody>\n",
       "    <tr>\n",
       "      <th>Apple</th>\n",
       "      <td>5409</td>\n",
       "    </tr>\n",
       "    <tr>\n",
       "      <th>Google</th>\n",
       "      <td>2238</td>\n",
       "    </tr>\n",
       "  </tbody>\n",
       "</table>\n",
       "</div>"
      ],
      "text/plain": [
       "           0\n",
       "Apple   5409\n",
       "Google  2238"
      ]
     },
     "execution_count": 37,
     "metadata": {},
     "output_type": "execute_result"
    }
   ],
   "source": [
    "# Plot Apple vs Google\n",
    "apple_google = pd.DataFrame([5409,2238], ['Apple', 'Google'])\n",
    "apple_google"
   ]
  },
  {
   "cell_type": "code",
   "execution_count": 38,
   "metadata": {},
   "outputs": [],
   "source": [
    "apple_google.rename({0:'Brand'}, axis=1, inplace=True)"
   ]
  },
  {
   "cell_type": "code",
   "execution_count": 39,
   "metadata": {},
   "outputs": [
    {
     "data": {
      "image/png": "[encoded data removed]",
      "text/plain": [
       "<Figure size 720x576 with 1 Axes>"
      ]
     },
     "metadata": {
      "needs_background": "light"
     },
     "output_type": "display_data"
    }
   ],
   "source": [
    "apple_google.plot(kind='bar',\n",
    "                  color='blue',\n",
    "                 alpha=0.5,\n",
    "                  figsize=(10,8),\n",
    "                 title='Brand Mentions',\n",
    "                 ylabel='Total count',\n",
    "                 xlabel='Brands',)\n",
    "plt.savefig(r'Brand_Mentions.jpg', bbox_inches='tight');"
   ]
  },
  {
   "cell_type": "markdown",
   "metadata": {},
   "source": [
    "In terms of brands, Apple seems to be the more prominent one in terms of customer engagement."
   ]
  },
  {
   "cell_type": "code",
   "execution_count": 40,
   "metadata": {},
   "outputs": [
    {
     "data": {
      "text/html": [
       "<div>\n",
       "<style scoped>\n",
       "    .dataframe tbody tr th:only-of-type {\n",
       "        vertical-align: middle;\n",
       "    }\n",
       "\n",
       "    .dataframe tbody tr th {\n",
       "        vertical-align: top;\n",
       "    }\n",
       "\n",
       "    .dataframe thead th {\n",
       "        text-align: right;\n",
       "    }\n",
       "</style>\n",
       "<table border=\"1\" class=\"dataframe\">\n",
       "  <thead>\n",
       "    <tr style=\"text-align: right;\">\n",
       "      <th></th>\n",
       "      <th>emotion</th>\n",
       "    </tr>\n",
       "  </thead>\n",
       "  <tbody>\n",
       "    <tr>\n",
       "      <th>0</th>\n",
       "      <td>4367</td>\n",
       "    </tr>\n",
       "    <tr>\n",
       "      <th>1</th>\n",
       "      <td>2738</td>\n",
       "    </tr>\n",
       "    <tr>\n",
       "      <th>2</th>\n",
       "      <td>542</td>\n",
       "    </tr>\n",
       "  </tbody>\n",
       "</table>\n",
       "</div>"
      ],
      "text/plain": [
       "   emotion\n",
       "0     4367\n",
       "1     2738\n",
       "2      542"
      ]
     },
     "execution_count": 40,
     "metadata": {},
     "output_type": "execute_result"
    }
   ],
   "source": [
    "# Plot distribution by sentiments\n",
    "sentiments_df = pd.DataFrame(df_clean['emotion'].value_counts())\n",
    "sentiments_df"
   ]
  },
  {
   "cell_type": "code",
   "execution_count": 41,
   "metadata": {},
   "outputs": [],
   "source": [
    "sentiments_df.rename({0:'Neutral', 1:'Positive', 2:'Negative'}, axis=0, inplace=True)\n",
    "sentiments_df.rename({'emotion':'Emotions'}, axis=1, inplace=True)"
   ]
  },
  {
   "cell_type": "code",
   "execution_count": 42,
   "metadata": {},
   "outputs": [
    {
     "data": {
      "image/png": "[encoded data removed]",
      "text/plain": [
       "<Figure size 432x288 with 1 Axes>"
      ]
     },
     "metadata": {
      "needs_background": "light"
     },
     "output_type": "display_data"
    }
   ],
   "source": [
    "sentiments_df.plot(kind='bar', alpha=0.7, title='Total Sentiments Expressed');"
   ]
  },
  {
   "cell_type": "markdown",
   "metadata": {},
   "source": [
    "Overall, there seems to be a positive outlook for all products."
   ]
  },
  {
   "cell_type": "code",
   "execution_count": 43,
   "metadata": {},
   "outputs": [],
   "source": [
    "# Plot sentiments by brand\n",
    "emotion_df = pd.DataFrame(df_clean[['product','emotion']].value_counts().copy())"
   ]
  },
  {
   "cell_type": "code",
   "execution_count": 44,
   "metadata": {},
   "outputs": [],
   "source": [
    "emotion_df.sort_values(by='product', inplace=True)"
   ]
  },
  {
   "cell_type": "code",
   "execution_count": 45,
   "metadata": {},
   "outputs": [
    {
     "data": {
      "text/html": [
       "<div>\n",
       "<style scoped>\n",
       "    .dataframe tbody tr th:only-of-type {\n",
       "        vertical-align: middle;\n",
       "    }\n",
       "\n",
       "    .dataframe tbody tr th {\n",
       "        vertical-align: top;\n",
       "    }\n",
       "\n",
       "    .dataframe thead tr th {\n",
       "        text-align: left;\n",
       "    }\n",
       "</style>\n",
       "<table border=\"1\" class=\"dataframe\">\n",
       "  <thead>\n",
       "    <tr>\n",
       "      <th>product</th>\n",
       "      <th colspan=\"3\" halign=\"left\">apple</th>\n",
       "      <th colspan=\"3\" halign=\"left\">google</th>\n",
       "      <th>imac</th>\n",
       "      <th colspan=\"3\" halign=\"left\">ipad</th>\n",
       "      <th>...</th>\n",
       "      <th colspan=\"2\" halign=\"left\">iphone</th>\n",
       "      <th colspan=\"3\" halign=\"left\">itunes</th>\n",
       "      <th colspan=\"3\" halign=\"left\">mac</th>\n",
       "      <th colspan=\"2\" halign=\"left\">macbook</th>\n",
       "    </tr>\n",
       "    <tr>\n",
       "      <th>emotion</th>\n",
       "      <th>2</th>\n",
       "      <th>0</th>\n",
       "      <th>1</th>\n",
       "      <th>0</th>\n",
       "      <th>1</th>\n",
       "      <th>2</th>\n",
       "      <th>2</th>\n",
       "      <th>1</th>\n",
       "      <th>2</th>\n",
       "      <th>0</th>\n",
       "      <th>...</th>\n",
       "      <th>2</th>\n",
       "      <th>0</th>\n",
       "      <th>2</th>\n",
       "      <th>0</th>\n",
       "      <th>1</th>\n",
       "      <th>0</th>\n",
       "      <th>1</th>\n",
       "      <th>2</th>\n",
       "      <th>1</th>\n",
       "      <th>0</th>\n",
       "    </tr>\n",
       "  </thead>\n",
       "  <tbody>\n",
       "    <tr>\n",
       "      <th>0</th>\n",
       "      <td>97</td>\n",
       "      <td>974</td>\n",
       "      <td>671</td>\n",
       "      <td>1478</td>\n",
       "      <td>627</td>\n",
       "      <td>133</td>\n",
       "      <td>1</td>\n",
       "      <td>900</td>\n",
       "      <td>165</td>\n",
       "      <td>1053</td>\n",
       "      <td>...</td>\n",
       "      <td>143</td>\n",
       "      <td>791</td>\n",
       "      <td>1</td>\n",
       "      <td>54</td>\n",
       "      <td>15</td>\n",
       "      <td>11</td>\n",
       "      <td>10</td>\n",
       "      <td>2</td>\n",
       "      <td>7</td>\n",
       "      <td>6</td>\n",
       "    </tr>\n",
       "  </tbody>\n",
       "</table>\n",
       "<p>1 rows × 21 columns</p>\n",
       "</div>"
      ],
      "text/plain": [
       "product apple           google           imac ipad             ... iphone  \\\n",
       "emotion     2    0    1      0    1    2    2    1    2     0  ...      2   \n",
       "0          97  974  671   1478  627  133    1  900  165  1053  ...    143   \n",
       "\n",
       "product      itunes         mac        macbook     \n",
       "emotion    0      2   0   1   0   1  2       1  0  \n",
       "0        791      1  54  15  11  10  2       7  6  \n",
       "\n",
       "[1 rows x 21 columns]"
      ]
     },
     "execution_count": 45,
     "metadata": {},
     "output_type": "execute_result"
    }
   ],
   "source": [
    "cross_table = emotion_df.transpose()\n",
    "cross_table"
   ]
  },
  {
   "cell_type": "code",
   "execution_count": 46,
   "metadata": {},
   "outputs": [
    {
     "data": {
      "image/png": "[encoded data removed]",
      "text/plain": [
       "<Figure size 1080x720 with 1 Axes>"
      ]
     },
     "metadata": {
      "needs_background": "light"
     },
     "output_type": "display_data"
    }
   ],
   "source": [
    "fig, ax = plt.subplots(figsize=(15,10))\n",
    "\n",
    "width = .25\n",
    "alpha = 0.6\n",
    "x = 0.75\n",
    "\n",
    "ax.bar(x, cross_table['google'][0], width, color='b', alpha=alpha)\n",
    "ax.bar(x + width, cross_table['google'][1], width, color='g',alpha=alpha)\n",
    "ax.bar(x + (width * 2), cross_table['google'][2], width, color='r',alpha=alpha)\n",
    "\n",
    "ax.bar(x+1, cross_table['apple'][0], width, color='b',alpha=alpha)\n",
    "ax.bar(x+1 + width, cross_table['apple'][1], width, color='g',alpha=alpha)\n",
    "ax.bar(x+1 + (width * 2), cross_table['apple'][2], width, color='r',alpha=alpha)\n",
    "\n",
    "ax.bar(x+2, cross_table['ipad'][0], width, color='b',alpha=alpha)\n",
    "ax.bar(x+2 + width, cross_table['ipad'][1], width, color='g',alpha=alpha)\n",
    "ax.bar(x+2 + (width * 2), cross_table['ipad'][2], width, color='r',alpha=alpha)\n",
    "\n",
    "ax.bar(x+3, cross_table['iphone'][0], width, color='b',alpha=alpha)\n",
    "ax.bar(x+3 + width, cross_table['iphone'][1], width, color='g',alpha=alpha)\n",
    "ax.bar(x+3 + (width * 2), cross_table['iphone'][2], width, color='r',alpha=alpha)\n",
    "\n",
    "ax.bar(x+4, cross_table['itunes'][0], width, color='b',alpha=alpha)\n",
    "ax.bar(x+4 + width, cross_table['itunes'][1], width, color='g',alpha=alpha)\n",
    "ax.bar(x+4 + (width * 2), cross_table['itunes'][2], width, color='r',alpha=alpha)\n",
    "\n",
    "ax.bar(x+5, cross_table['mac'][0], width, color='b',alpha=alpha)\n",
    "ax.bar(x+5 + width, cross_table['mac'][1], width, color='g',alpha=alpha)\n",
    "ax.bar(x+5 + (width * 2), cross_table['mac'][2], width, color='r',alpha=alpha)\n",
    "\n",
    "ax.bar(x+6, cross_table['macbook'][0], width, color='b',alpha=alpha)\n",
    "ax.bar(x+6 + width, cross_table['macbook'][1], width, color='g',alpha=alpha)\n",
    "ax.bar(x+6 + (width * 2), cross_table['macbook'], width, color='r',alpha=alpha)\n",
    "\n",
    "ax.set_ylabel('Number of tweets', fontsize=12)\n",
    "ax.set_title('Number of tweets per product by sentiment', fontsize=15, pad=8)\n",
    "ax.set_xticks(range(1,8))\n",
    "ax.set_xticklabels(('Google', 'Apple', 'Ipad', 'Iphone', 'Itunes', 'Mac', 'Macbook'))\n",
    "ax.set_xlabel('Product emotions', labelpad=10, fontsize=12)\n",
    "ax.legend(('Neutral', 'Positive', 'Negative'), fontsize=12)\n",
    "plt.savefig(r'Sentiment_distribution.jpg', bbox_inches='tight')\n",
    "plt.show();"
   ]
  },
  {
   "cell_type": "markdown",
   "metadata": {},
   "source": [
    "The plots above gives us a good indication on the overall consensus of the customer sentiments across all products.\n",
    "\n",
    "Let's check the exact words or emotions expressed by the customers."
   ]
  },
  {
   "cell_type": "markdown",
   "metadata": {},
   "source": [
    "### EDA 2 - Analyze the sentiments to identify common issues or contentment expressed by the user"
   ]
  },
  {
   "cell_type": "markdown",
   "metadata": {},
   "source": [
    "For this part of our EDA, we will generate POS tags to distinguish the words and grab the one's that expresses the issue."
   ]
  },
  {
   "cell_type": "markdown",
   "metadata": {},
   "source": [
    "### POS tags"
   ]
  },
  {
   "cell_type": "code",
   "execution_count": 47,
   "metadata": {},
   "outputs": [],
   "source": [
    "# Loop through the toknenized tweets to create the POS tags\n",
    "pos_tags = []\n",
    "for i in range(len(df_clean)):\n",
    "    pos_tags.append(nltk.pos_tag(df_clean.tokenized_tweet.iloc[i]))"
   ]
  },
  {
   "cell_type": "code",
   "execution_count": 48,
   "metadata": {},
   "outputs": [],
   "source": [
    "df_clean['pos_tags'] = pos_tags"
   ]
  },
  {
   "cell_type": "code",
   "execution_count": 49,
   "metadata": {},
   "outputs": [
    {
     "data": {
      "text/html": [
       "<div>\n",
       "<style scoped>\n",
       "    .dataframe tbody tr th:only-of-type {\n",
       "        vertical-align: middle;\n",
       "    }\n",
       "\n",
       "    .dataframe tbody tr th {\n",
       "        vertical-align: top;\n",
       "    }\n",
       "\n",
       "    .dataframe thead th {\n",
       "        text-align: right;\n",
       "    }\n",
       "</style>\n",
       "<table border=\"1\" class=\"dataframe\">\n",
       "  <thead>\n",
       "    <tr style=\"text-align: right;\">\n",
       "      <th></th>\n",
       "      <th>tweet_text</th>\n",
       "      <th>emotion</th>\n",
       "      <th>tokenized_tweet</th>\n",
       "      <th>product</th>\n",
       "      <th>pos_tags</th>\n",
       "    </tr>\n",
       "  </thead>\n",
       "  <tbody>\n",
       "    <tr>\n",
       "      <th>0</th>\n",
       "      <td>.@wesley83 I have a 3G iPhone. After 3 hrs twe...</td>\n",
       "      <td>2</td>\n",
       "      <td>[wesley, g, iphone, hrs, tweeting, rise, austi...</td>\n",
       "      <td>iphone</td>\n",
       "      <td>[(wesley, NN), (g, NN), (iphone, NN), (hrs, NN...</td>\n",
       "    </tr>\n",
       "    <tr>\n",
       "      <th>1</th>\n",
       "      <td>@jessedee Know about @fludapp ? Awesome iPad/i...</td>\n",
       "      <td>1</td>\n",
       "      <td>[jessedee, know, fludapp, awesome, ipad, iphon...</td>\n",
       "      <td>ipad</td>\n",
       "      <td>[(jessedee, NN), (know, VBP), (fludapp, VBZ), ...</td>\n",
       "    </tr>\n",
       "    <tr>\n",
       "      <th>2</th>\n",
       "      <td>@swonderlin Can not wait for #iPad 2 also. The...</td>\n",
       "      <td>1</td>\n",
       "      <td>[swonderlin, wait, ipad, also, sale, sxsw]</td>\n",
       "      <td>ipad</td>\n",
       "      <td>[(swonderlin, NN), (wait, NN), (ipad, NN), (al...</td>\n",
       "    </tr>\n",
       "    <tr>\n",
       "      <th>3</th>\n",
       "      <td>@sxsw I hope this year's festival isn't as cra...</td>\n",
       "      <td>2</td>\n",
       "      <td>[sxsw, hope, year's, festival, crashy, year's,...</td>\n",
       "      <td>iphone</td>\n",
       "      <td>[(sxsw, NNS), (hope, VBP), (year's, JJ), (fest...</td>\n",
       "    </tr>\n",
       "    <tr>\n",
       "      <th>4</th>\n",
       "      <td>@sxtxstate great stuff on Fri #SXSW: Marissa M...</td>\n",
       "      <td>1</td>\n",
       "      <td>[sxtxstate, great, stuff, fri, sxsw, marissa, ...</td>\n",
       "      <td>google</td>\n",
       "      <td>[(sxtxstate, NN), (great, JJ), (stuff, NN), (f...</td>\n",
       "    </tr>\n",
       "  </tbody>\n",
       "</table>\n",
       "</div>"
      ],
      "text/plain": [
       "                                          tweet_text  emotion  \\\n",
       "0  .@wesley83 I have a 3G iPhone. After 3 hrs twe...        2   \n",
       "1  @jessedee Know about @fludapp ? Awesome iPad/i...        1   \n",
       "2  @swonderlin Can not wait for #iPad 2 also. The...        1   \n",
       "3  @sxsw I hope this year's festival isn't as cra...        2   \n",
       "4  @sxtxstate great stuff on Fri #SXSW: Marissa M...        1   \n",
       "\n",
       "                                     tokenized_tweet product  \\\n",
       "0  [wesley, g, iphone, hrs, tweeting, rise, austi...  iphone   \n",
       "1  [jessedee, know, fludapp, awesome, ipad, iphon...    ipad   \n",
       "2         [swonderlin, wait, ipad, also, sale, sxsw]    ipad   \n",
       "3  [sxsw, hope, year's, festival, crashy, year's,...  iphone   \n",
       "4  [sxtxstate, great, stuff, fri, sxsw, marissa, ...  google   \n",
       "\n",
       "                                            pos_tags  \n",
       "0  [(wesley, NN), (g, NN), (iphone, NN), (hrs, NN...  \n",
       "1  [(jessedee, NN), (know, VBP), (fludapp, VBZ), ...  \n",
       "2  [(swonderlin, NN), (wait, NN), (ipad, NN), (al...  \n",
       "3  [(sxsw, NNS), (hope, VBP), (year's, JJ), (fest...  \n",
       "4  [(sxtxstate, NN), (great, JJ), (stuff, NN), (f...  "
      ]
     },
     "execution_count": 49,
     "metadata": {},
     "output_type": "execute_result"
    }
   ],
   "source": [
    "df_clean.head()"
   ]
  },
  {
   "cell_type": "code",
   "execution_count": 50,
   "metadata": {},
   "outputs": [
    {
     "data": {
      "text/plain": [
       "[[('wesley', 'NN'),\n",
       "  ('g', 'NN'),\n",
       "  ('iphone', 'NN'),\n",
       "  ('hrs', 'NN'),\n",
       "  ('tweeting', 'VBG'),\n",
       "  ('rise', 'NN'),\n",
       "  ('austin', 'NN'),\n",
       "  ('dead', 'JJ'),\n",
       "  ('need', 'NN'),\n",
       "  ('upgrade', 'JJ'),\n",
       "  ('plugin', 'NN'),\n",
       "  ('stations', 'NNS'),\n",
       "  ('sxsw', 'VBP')],\n",
       " [('jessedee', 'NN'),\n",
       "  ('know', 'VBP'),\n",
       "  ('fludapp', 'VBZ'),\n",
       "  ('awesome', 'JJ'),\n",
       "  ('ipad', 'NN'),\n",
       "  ('iphone', 'NN'),\n",
       "  ('app', 'NN'),\n",
       "  ('likely', 'JJ'),\n",
       "  ('appreciate', 'NN'),\n",
       "  ('design', 'NN'),\n",
       "  ('also', 'RB'),\n",
       "  (\"they're\", 'VBZ'),\n",
       "  ('giving', 'VBG'),\n",
       "  ('free', 'JJ'),\n",
       "  ('ts', 'NN'),\n",
       "  ('sxsw', 'NN')],\n",
       " [('swonderlin', 'NN'),\n",
       "  ('wait', 'NN'),\n",
       "  ('ipad', 'NN'),\n",
       "  ('also', 'RB'),\n",
       "  ('sale', 'NN'),\n",
       "  ('sxsw', 'NN')],\n",
       " [('sxsw', 'NNS'),\n",
       "  ('hope', 'VBP'),\n",
       "  (\"year's\", 'JJ'),\n",
       "  ('festival', 'NN'),\n",
       "  ('crashy', 'NN'),\n",
       "  (\"year's\", 'NN'),\n",
       "  ('iphone', 'NN'),\n",
       "  ('app', 'NN'),\n",
       "  ('sxsw', 'NN')],\n",
       " [('sxtxstate', 'NN'),\n",
       "  ('great', 'JJ'),\n",
       "  ('stuff', 'NN'),\n",
       "  ('fri', 'NN'),\n",
       "  ('sxsw', 'NN'),\n",
       "  ('marissa', 'FW'),\n",
       "  ('mayer', 'NN'),\n",
       "  ('google', 'NN'),\n",
       "  ('tim', 'NN'),\n",
       "  ('reilly', 'RB'),\n",
       "  ('tech', 'JJ'),\n",
       "  ('books', 'NNS'),\n",
       "  ('conferences', 'NNS'),\n",
       "  ('amp', 'VBP'),\n",
       "  ('matt', 'JJ'),\n",
       "  ('mullenweg', 'NN'),\n",
       "  ('wordpress', 'NN')],\n",
       " [('teachntech', 'JJ'),\n",
       "  ('new', 'JJ'),\n",
       "  ('ipad', 'NN'),\n",
       "  ('apps', 'NN'),\n",
       "  ('speechtherapy', 'NN'),\n",
       "  ('communication', 'NN'),\n",
       "  ('showcased', 'VBD'),\n",
       "  ('sxsw', 'JJ'),\n",
       "  ('conference', 'NN'),\n",
       "  ('http', 'NN'),\n",
       "  ('ht', 'NN'),\n",
       "  ('ly', 'NN'),\n",
       "  ('n', 'JJ'),\n",
       "  ('iear', 'JJ'),\n",
       "  ('edchat', 'IN'),\n",
       "  ('asd', 'NN')],\n",
       " [('beautifully', 'RB'),\n",
       "  ('smart', 'JJ'),\n",
       "  ('simple', 'JJ'),\n",
       "  ('idea', 'NN'),\n",
       "  ('rt', 'VBD'),\n",
       "  ('madebymany', 'JJ'),\n",
       "  ('thenextweb', 'JJ'),\n",
       "  ('wrote', 'VBD'),\n",
       "  ('hollergram', 'JJ'),\n",
       "  ('ipad', 'NN'),\n",
       "  ('app', 'NN'),\n",
       "  ('sxsw', 'NN'),\n",
       "  ('http', 'NN'),\n",
       "  ('bit', 'NN'),\n",
       "  ('ly', 'JJ'),\n",
       "  ('ieavob', 'NN')],\n",
       " [('counting', 'VBG'),\n",
       "  ('days', 'NNS'),\n",
       "  ('sxsw', 'RB'),\n",
       "  ('plus', 'CC'),\n",
       "  ('strong', 'JJ'),\n",
       "  ('canadian', 'JJ'),\n",
       "  ('dollar', 'NN'),\n",
       "  ('means', 'NNS'),\n",
       "  ('stock', 'NN'),\n",
       "  ('apple', 'NN'),\n",
       "  ('gear', 'NN')],\n",
       " [('gotta', 'NN'),\n",
       "  ('love', 'NN'),\n",
       "  ('sxsw', 'NN'),\n",
       "  ('google', 'NN'),\n",
       "  ('calendar', 'NN'),\n",
       "  ('featuring', 'VBG'),\n",
       "  ('top', 'JJ'),\n",
       "  ('parties', 'NNS'),\n",
       "  ('show', 'VBP'),\n",
       "  ('cases', 'NNS'),\n",
       "  ('check', 'VB'),\n",
       "  ('rt', 'NN'),\n",
       "  ('hamsandwich', 'JJ'),\n",
       "  ('via', 'IN'),\n",
       "  ('ischafer', 'NN'),\n",
       "  ('gt', 'NN'),\n",
       "  ('http', 'NN'),\n",
       "  ('bit', 'NN'),\n",
       "  ('ly', 'JJ'),\n",
       "  ('axzwxb', 'NN')],\n",
       " [('great', 'JJ'),\n",
       "  ('sxsw', 'NN'),\n",
       "  ('ipad', 'NN'),\n",
       "  ('app', 'VBP'),\n",
       "  ('madebymany', 'NN'),\n",
       "  ('http', 'NN'),\n",
       "  ('tinyurl', 'NN'),\n",
       "  ('com', 'NN'),\n",
       "  ('nqv', 'NN'),\n",
       "  ('l', 'NN')]]"
      ]
     },
     "execution_count": 50,
     "metadata": {},
     "output_type": "execute_result"
    }
   ],
   "source": [
    "# Sample some of the pos tags to check where most of the emotions or relevant words are stored\n",
    "list(df_clean.pos_tags.iloc[:10])"
   ]
  },
  {
   "cell_type": "markdown",
   "metadata": {},
   "source": [
    "Looking at the above list, we can see that most of the emotions are expresses in JJ tag which is the adjective used in the tweet."
   ]
  },
  {
   "cell_type": "markdown",
   "metadata": {},
   "source": [
    "Let's create a columns with all the adjectives present in each tweet."
   ]
  },
  {
   "cell_type": "code",
   "execution_count": 51,
   "metadata": {},
   "outputs": [],
   "source": [
    "# Loop through the words and grab all adjectives\n",
    "\n",
    "expression = []\n",
    "for tweet in df_clean.pos_tags:\n",
    "    emotion = []\n",
    "    for item in tweet:  \n",
    "        if item[1] == 'JJ':\n",
    "            emotion.append(item[0])\n",
    "        else:\n",
    "            pass\n",
    "    expression.append(emotion)"
   ]
  },
  {
   "cell_type": "code",
   "execution_count": 52,
   "metadata": {},
   "outputs": [],
   "source": [
    "df_clean['expression'] = expression"
   ]
  },
  {
   "cell_type": "code",
   "execution_count": 53,
   "metadata": {},
   "outputs": [
    {
     "data": {
      "text/html": [
       "<div>\n",
       "<style scoped>\n",
       "    .dataframe tbody tr th:only-of-type {\n",
       "        vertical-align: middle;\n",
       "    }\n",
       "\n",
       "    .dataframe tbody tr th {\n",
       "        vertical-align: top;\n",
       "    }\n",
       "\n",
       "    .dataframe thead th {\n",
       "        text-align: right;\n",
       "    }\n",
       "</style>\n",
       "<table border=\"1\" class=\"dataframe\">\n",
       "  <thead>\n",
       "    <tr style=\"text-align: right;\">\n",
       "      <th></th>\n",
       "      <th>tweet_text</th>\n",
       "      <th>emotion</th>\n",
       "      <th>tokenized_tweet</th>\n",
       "      <th>product</th>\n",
       "      <th>pos_tags</th>\n",
       "      <th>expression</th>\n",
       "    </tr>\n",
       "  </thead>\n",
       "  <tbody>\n",
       "    <tr>\n",
       "      <th>0</th>\n",
       "      <td>.@wesley83 I have a 3G iPhone. After 3 hrs twe...</td>\n",
       "      <td>2</td>\n",
       "      <td>[wesley, g, iphone, hrs, tweeting, rise, austi...</td>\n",
       "      <td>iphone</td>\n",
       "      <td>[(wesley, NN), (g, NN), (iphone, NN), (hrs, NN...</td>\n",
       "      <td>[dead, upgrade]</td>\n",
       "    </tr>\n",
       "    <tr>\n",
       "      <th>1</th>\n",
       "      <td>@jessedee Know about @fludapp ? Awesome iPad/i...</td>\n",
       "      <td>1</td>\n",
       "      <td>[jessedee, know, fludapp, awesome, ipad, iphon...</td>\n",
       "      <td>ipad</td>\n",
       "      <td>[(jessedee, NN), (know, VBP), (fludapp, VBZ), ...</td>\n",
       "      <td>[awesome, likely, free]</td>\n",
       "    </tr>\n",
       "    <tr>\n",
       "      <th>2</th>\n",
       "      <td>@swonderlin Can not wait for #iPad 2 also. The...</td>\n",
       "      <td>1</td>\n",
       "      <td>[swonderlin, wait, ipad, also, sale, sxsw]</td>\n",
       "      <td>ipad</td>\n",
       "      <td>[(swonderlin, NN), (wait, NN), (ipad, NN), (al...</td>\n",
       "      <td>[]</td>\n",
       "    </tr>\n",
       "    <tr>\n",
       "      <th>3</th>\n",
       "      <td>@sxsw I hope this year's festival isn't as cra...</td>\n",
       "      <td>2</td>\n",
       "      <td>[sxsw, hope, year's, festival, crashy, year's,...</td>\n",
       "      <td>iphone</td>\n",
       "      <td>[(sxsw, NNS), (hope, VBP), (year's, JJ), (fest...</td>\n",
       "      <td>[year's]</td>\n",
       "    </tr>\n",
       "    <tr>\n",
       "      <th>4</th>\n",
       "      <td>@sxtxstate great stuff on Fri #SXSW: Marissa M...</td>\n",
       "      <td>1</td>\n",
       "      <td>[sxtxstate, great, stuff, fri, sxsw, marissa, ...</td>\n",
       "      <td>google</td>\n",
       "      <td>[(sxtxstate, NN), (great, JJ), (stuff, NN), (f...</td>\n",
       "      <td>[great, tech, matt]</td>\n",
       "    </tr>\n",
       "  </tbody>\n",
       "</table>\n",
       "</div>"
      ],
      "text/plain": [
       "                                          tweet_text  emotion  \\\n",
       "0  .@wesley83 I have a 3G iPhone. After 3 hrs twe...        2   \n",
       "1  @jessedee Know about @fludapp ? Awesome iPad/i...        1   \n",
       "2  @swonderlin Can not wait for #iPad 2 also. The...        1   \n",
       "3  @sxsw I hope this year's festival isn't as cra...        2   \n",
       "4  @sxtxstate great stuff on Fri #SXSW: Marissa M...        1   \n",
       "\n",
       "                                     tokenized_tweet product  \\\n",
       "0  [wesley, g, iphone, hrs, tweeting, rise, austi...  iphone   \n",
       "1  [jessedee, know, fludapp, awesome, ipad, iphon...    ipad   \n",
       "2         [swonderlin, wait, ipad, also, sale, sxsw]    ipad   \n",
       "3  [sxsw, hope, year's, festival, crashy, year's,...  iphone   \n",
       "4  [sxtxstate, great, stuff, fri, sxsw, marissa, ...  google   \n",
       "\n",
       "                                            pos_tags               expression  \n",
       "0  [(wesley, NN), (g, NN), (iphone, NN), (hrs, NN...          [dead, upgrade]  \n",
       "1  [(jessedee, NN), (know, VBP), (fludapp, VBZ), ...  [awesome, likely, free]  \n",
       "2  [(swonderlin, NN), (wait, NN), (ipad, NN), (al...                       []  \n",
       "3  [(sxsw, NNS), (hope, VBP), (year's, JJ), (fest...                 [year's]  \n",
       "4  [(sxtxstate, NN), (great, JJ), (stuff, NN), (f...      [great, tech, matt]  "
      ]
     },
     "execution_count": 53,
     "metadata": {},
     "output_type": "execute_result"
    }
   ],
   "source": [
    "df_clean.head()"
   ]
  },
  {
   "cell_type": "markdown",
   "metadata": {},
   "source": [
    "Now we have a view on what the user are feeling towards each brand."
   ]
  },
  {
   "cell_type": "markdown",
   "metadata": {},
   "source": [
    "Let's analyze our results. We will look into each product and identify the most common expressions used."
   ]
  },
  {
   "cell_type": "markdown",
   "metadata": {},
   "source": [
    "### Analyze the results"
   ]
  },
  {
   "cell_type": "markdown",
   "metadata": {},
   "source": [
    "To perform this, we will split the dataframe by products and analyze the sentiments for each."
   ]
  },
  {
   "cell_type": "code",
   "execution_count": 54,
   "metadata": {},
   "outputs": [
    {
     "data": {
      "text/plain": [
       "google     2238\n",
       "ipad       2118\n",
       "apple      1742\n",
       "iphone     1442\n",
       "itunes       70\n",
       "mac          23\n",
       "macbook      13\n",
       "imac          1\n",
       "Name: product, dtype: int64"
      ]
     },
     "execution_count": 54,
     "metadata": {},
     "output_type": "execute_result"
    }
   ],
   "source": [
    "# Identify all products\n",
    "df_clean['product'].value_counts()"
   ]
  },
  {
   "cell_type": "markdown",
   "metadata": {},
   "source": [
    "There is only one instance of imac. Let's combine this with mac."
   ]
  },
  {
   "cell_type": "code",
   "execution_count": 55,
   "metadata": {},
   "outputs": [],
   "source": [
    "df_clean['product'].replace({'imac':'mac'}, inplace=True)"
   ]
  },
  {
   "cell_type": "code",
   "execution_count": 56,
   "metadata": {},
   "outputs": [
    {
     "data": {
      "text/plain": [
       "google     2238\n",
       "ipad       2118\n",
       "apple      1742\n",
       "iphone     1442\n",
       "itunes       70\n",
       "mac          24\n",
       "macbook      13\n",
       "Name: product, dtype: int64"
      ]
     },
     "execution_count": 56,
     "metadata": {},
     "output_type": "execute_result"
    }
   ],
   "source": [
    "df_clean['product'].value_counts()"
   ]
  },
  {
   "cell_type": "code",
   "execution_count": 57,
   "metadata": {},
   "outputs": [],
   "source": [
    "# Create a dictonary to store dataframes by product\n",
    "products = list(set(df_clean['product']))\n",
    "\n",
    "product_dict = {}\n",
    "for product in products:\n",
    "    product_dict[f'{product}_df'] = df_clean[df_clean['product'] == product].copy()"
   ]
  },
  {
   "cell_type": "code",
   "execution_count": 58,
   "metadata": {},
   "outputs": [
    {
     "data": {
      "text/plain": [
       "dict_keys(['google_df', 'apple_df', 'macbook_df', 'ipad_df', 'iphone_df', 'mac_df', 'itunes_df'])"
      ]
     },
     "execution_count": 58,
     "metadata": {},
     "output_type": "execute_result"
    }
   ],
   "source": [
    "product_dict.keys()"
   ]
  },
  {
   "cell_type": "markdown",
   "metadata": {},
   "source": [
    "### Most common expressions"
   ]
  },
  {
   "cell_type": "markdown",
   "metadata": {},
   "source": [
    "Let's create a function to grab most common expressions."
   ]
  },
  {
   "cell_type": "code",
   "execution_count": 59,
   "metadata": {},
   "outputs": [],
   "source": [
    "def most_common(df, n, m):\n",
    "    \n",
    "    # keys:\n",
    "    # df = dataframe\n",
    "    # n = number of common words\n",
    "    # m = number of words to skip\n",
    "    \n",
    "    \n",
    "    # Slice the dataframe into positive, negative and neutral emotions\n",
    "    positive = df[df['emotion'] == 1].copy()\n",
    "    negative = df[df['emotion'] == 2].copy()\n",
    "    neutral = df[df['emotion'] == 0].copy()\n",
    "    \n",
    "    # Positive emotions\n",
    "    \n",
    "    # Compile all expressions into a bag of words\n",
    "    positive_corpus = []\n",
    "    for expression in positive['expression']:\n",
    "        positive_corpus += expression\n",
    "        \n",
    "    # Create a list of words with their frequency distribution\n",
    "    positive_freqdist = FreqDist(positive_corpus)\n",
    "    positive_most_common = positive_freqdist.most_common(n)[m:]\n",
    "    \n",
    "    \n",
    "    # Negative emotions\n",
    "    \n",
    "    # Compile all expressions into a bag of words\n",
    "    negative_corpus = []\n",
    "    for expression in negative['expression']:\n",
    "        negative_corpus += expression\n",
    "        \n",
    "    # Create a list to store the frequency distribution\n",
    "    negative_freqdist = FreqDist(negative_corpus)\n",
    "    negative_most_common = negative_freqdist.most_common(n)[m:]\n",
    "    \n",
    "    \n",
    "    # Neutral emotions\n",
    "    \n",
    "    # Compile all expressions into a bag of words\n",
    "    neutral_corpus = []\n",
    "    for expression in neutral['expression']:\n",
    "        neutral_corpus += expression\n",
    "        \n",
    "    # Create a list of words with their frequency distribution\n",
    "    neutral_freqdist = FreqDist(neutral_corpus)\n",
    "    neutral_most_common = neutral_freqdist.most_common(n)[m:]\n",
    "    \n",
    "    # Complile the results into a dictionary\n",
    "    results = {}\n",
    "    results['positive_most_common'] = positive_most_common\n",
    "    results['negative_most_common'] = negative_most_common\n",
    "    results['neutral_most_common'] = neutral_most_common\n",
    "    \n",
    "    return results"
   ]
  },
  {
   "cell_type": "markdown",
   "metadata": {},
   "source": [
    "Let's look into what customers are saying about each product."
   ]
  },
  {
   "cell_type": "code",
   "execution_count": 60,
   "metadata": {},
   "outputs": [
    {
     "data": {
      "text/plain": [
       "dict_keys(['google_df', 'apple_df', 'macbook_df', 'ipad_df', 'iphone_df', 'mac_df', 'itunes_df'])"
      ]
     },
     "execution_count": 60,
     "metadata": {},
     "output_type": "execute_result"
    }
   ],
   "source": [
    "product_dict.keys()"
   ]
  },
  {
   "cell_type": "markdown",
   "metadata": {},
   "source": [
    "#### Itunes"
   ]
  },
  {
   "cell_type": "code",
   "execution_count": 61,
   "metadata": {},
   "outputs": [
    {
     "data": {
      "text/plain": [
       "{'positive_most_common': [('listen', 1),\n",
       "  ('amp', 1),\n",
       "  ('android', 1),\n",
       "  ('unimitated', 1),\n",
       "  ('scan', 1),\n",
       "  ('ipad', 1),\n",
       "  ('great', 1),\n",
       "  ('sxsw', 1),\n",
       "  ('rt', 1),\n",
       "  ('good', 1),\n",
       "  ('freemusic', 1)],\n",
       " 'negative_most_common': [],\n",
       " 'neutral_most_common': [('featured', 4),\n",
       "  ('download', 4),\n",
       "  ('guide', 2),\n",
       "  ('available', 2),\n",
       "  ('quot', 2),\n",
       "  ('live', 2),\n",
       "  ('album', 2),\n",
       "  ('mix', 2),\n",
       "  ('cc', 2),\n",
       "  ('various', 2),\n",
       "  ('mexican', 1),\n",
       "  ('listen', 1)]}"
      ]
     },
     "execution_count": 61,
     "metadata": {},
     "output_type": "execute_result"
    }
   ],
   "source": [
    "most_common(product_dict['itunes_df'], 15, 3)"
   ]
  },
  {
   "cell_type": "markdown",
   "metadata": {},
   "source": [
    "You can see above that customers have expressed Itunes as 'unimitated', 'great', 'good' and 'free music' for positive scenarios. There is no negative adjectives present for Itunes in our dataset. Neutral comments does not really matter in our analysis. "
   ]
  },
  {
   "cell_type": "markdown",
   "metadata": {},
   "source": [
    "#### Macbook"
   ]
  },
  {
   "cell_type": "code",
   "execution_count": 62,
   "metadata": {},
   "outputs": [
    {
     "data": {
      "text/plain": [
       "{'positive_most_common': [('macbook', 1),\n",
       "  ('solo', 1),\n",
       "  ('snap', 1),\n",
       "  ('tiny', 1),\n",
       "  ('temporary', 1),\n",
       "  ('right', 1)],\n",
       " 'negative_most_common': [],\n",
       " 'neutral_most_common': [('non', 1),\n",
       "  ('instagram', 1),\n",
       "  ('hyatt', 1),\n",
       "  ('practical', 1),\n",
       "  ('rt', 1),\n",
       "  ('macbook', 1),\n",
       "  ('pro', 1)]}"
      ]
     },
     "execution_count": 62,
     "metadata": {},
     "output_type": "execute_result"
    }
   ],
   "source": [
    "most_common(product_dict['macbook_df'], 15, 3)"
   ]
  },
  {
   "cell_type": "markdown",
   "metadata": {},
   "source": [
    "For positive comments, customers has expressed Macbook as 'tiny' and 'right'. There are no negative cases here as well."
   ]
  },
  {
   "cell_type": "markdown",
   "metadata": {},
   "source": [
    "#### Ipad"
   ]
  },
  {
   "cell_type": "code",
   "execution_count": 63,
   "metadata": {},
   "outputs": [
    {
     "data": {
      "text/plain": [
       "{'positive_most_common': [('new', 89),\n",
       "  ('great', 40),\n",
       "  ('free', 29),\n",
       "  ('good', 27),\n",
       "  ('awesome', 24),\n",
       "  ('app', 22),\n",
       "  ('quot', 18),\n",
       "  ('last', 17),\n",
       "  ('first', 17),\n",
       "  ('laptop', 16),\n",
       "  ('white', 15),\n",
       "  ('nice', 14)],\n",
       " 'negative_most_common': [('new', 16),\n",
       "  ('quot', 9),\n",
       "  ('digital', 8),\n",
       "  ('tapworthy', 8),\n",
       "  ('many', 4),\n",
       "  ('first', 4),\n",
       "  ('ridiculous', 4),\n",
       "  ('laptop', 3),\n",
       "  ('w', 3),\n",
       "  ('weird', 3),\n",
       "  ('live', 3),\n",
       "  ('next', 3)],\n",
       " 'neutral_most_common': [('new', 100),\n",
       "  ('free', 48),\n",
       "  ('quot', 40),\n",
       "  ('able', 24),\n",
       "  ('social', 23),\n",
       "  ('last', 20),\n",
       "  ('laptop', 18),\n",
       "  ('temporary', 18),\n",
       "  ('amp', 17),\n",
       "  ('white', 16),\n",
       "  ('first', 16),\n",
       "  ('u', 15)]}"
      ]
     },
     "execution_count": 63,
     "metadata": {},
     "output_type": "execute_result"
    }
   ],
   "source": [
    "most_common(product_dict['ipad_df'], 15, 3)"
   ]
  },
  {
   "cell_type": "markdown",
   "metadata": {},
   "source": [
    "Ipad is expressed as 'new', 'great', 'good', 'awesome', and 'nice' for positives. While it is quoted as 'ridiculous' and 'weird' for those who were not too impressed by it."
   ]
  },
  {
   "cell_type": "markdown",
   "metadata": {},
   "source": [
    "#### Mac"
   ]
  },
  {
   "cell_type": "code",
   "execution_count": 64,
   "metadata": {},
   "outputs": [
    {
     "data": {
      "text/plain": [
       "{'positive_most_common': [('sweet', 1),\n",
       "  ('temporary', 1),\n",
       "  ('rare', 1),\n",
       "  ('obsolete', 1),\n",
       "  ('rt', 1),\n",
       "  ('glad', 1),\n",
       "  ('cool', 1),\n",
       "  ('tweetie', 1),\n",
       "  ('amp', 1),\n",
       "  ('wish', 1),\n",
       "  ('android', 1),\n",
       "  ('temp', 1),\n",
       "  ('ipad', 1)],\n",
       " 'negative_most_common': [],\n",
       " 'neutral_most_common': [('special', 2),\n",
       "  ('ipad', 2),\n",
       "  ('happened', 2),\n",
       "  ('obsolete', 2),\n",
       "  ('rt', 2),\n",
       "  ('mac', 2),\n",
       "  ('full', 1),\n",
       "  ('app', 1),\n",
       "  ('long', 1),\n",
       "  ('laptop', 1)]}"
      ]
     },
     "execution_count": 64,
     "metadata": {},
     "output_type": "execute_result"
    }
   ],
   "source": [
    "most_common(product_dict['mac_df'], 15, 2)"
   ]
  },
  {
   "cell_type": "markdown",
   "metadata": {},
   "source": [
    "Mac is commented as 'cool' and 'rare' in positive expressions. There are no negative comments here as well."
   ]
  },
  {
   "cell_type": "markdown",
   "metadata": {},
   "source": [
    "#### Google"
   ]
  },
  {
   "cell_type": "code",
   "execution_count": 65,
   "metadata": {},
   "outputs": [
    {
     "data": {
      "text/plain": [
       "{'positive_most_common': [('major', 54),\n",
       "  ('quot', 53),\n",
       "  ('google', 49),\n",
       "  ('great', 48),\n",
       "  ('good', 26),\n",
       "  ('big', 23),\n",
       "  ('free', 19),\n",
       "  ('digital', 16),\n",
       "  ('physical', 15),\n",
       "  ('launch', 13)],\n",
       " 'negative_most_common': [('major', 12),\n",
       "  ('quot', 7),\n",
       "  ('much', 7),\n",
       "  ('technical', 5),\n",
       "  ('false', 4),\n",
       "  ('great', 4),\n",
       "  ('launch', 3),\n",
       "  ('many', 3),\n",
       "  ('good', 3),\n",
       "  ('open', 3)],\n",
       " 'neutral_most_common': [('google', 148),\n",
       "  ('quot', 115),\n",
       "  ('mobile', 103),\n",
       "  ('big', 58),\n",
       "  ('launch', 44),\n",
       "  ('amp', 36),\n",
       "  ('digital', 33),\n",
       "  ('physical', 29),\n",
       "  ('connect', 21),\n",
       "  ('future', 20)]}"
      ]
     },
     "execution_count": 65,
     "metadata": {},
     "output_type": "execute_result"
    }
   ],
   "source": [
    "most_common(product_dict['google_df'], 15, 5)"
   ]
  },
  {
   "cell_type": "markdown",
   "metadata": {},
   "source": [
    "Google is expressed as 'major', 'great', 'good', 'big' and 'digital' in positive connotations. 'False' is the only negative word that we can make any sense of in the negative words. "
   ]
  },
  {
   "cell_type": "markdown",
   "metadata": {},
   "source": [
    "#### Iphone"
   ]
  },
  {
   "cell_type": "code",
   "execution_count": 66,
   "metadata": {},
   "outputs": [
    {
     "data": {
      "text/plain": [
       "{'positive_most_common': [('free', 45),\n",
       "  ('awesome', 28),\n",
       "  ('ubersocial', 21),\n",
       "  ('uberguide', 21),\n",
       "  ('app', 19),\n",
       "  ('android', 16),\n",
       "  ('next', 16),\n",
       "  ('cool', 15),\n",
       "  ('hot', 14),\n",
       "  ('good', 14),\n",
       "  ('ready', 13)],\n",
       " 'negative_most_common': [('new', 6),\n",
       "  ('good', 6),\n",
       "  ('many', 5),\n",
       "  ('quot', 5),\n",
       "  ('u', 5),\n",
       "  ('mobile', 4),\n",
       "  ('dead', 3),\n",
       "  ('stupid', 3),\n",
       "  ('great', 3),\n",
       "  ('ubersocial', 3),\n",
       "  ('uberguide', 3)],\n",
       " 'neutral_most_common': [('free', 52),\n",
       "  ('mobile', 44),\n",
       "  ('ubersocial', 44),\n",
       "  ('uberguide', 44),\n",
       "  ('android', 40),\n",
       "  ('mashable', 25),\n",
       "  ('quot', 20),\n",
       "  ('last', 19),\n",
       "  ('next', 19),\n",
       "  ('good', 13),\n",
       "  ('amp', 12)]}"
      ]
     },
     "execution_count": 66,
     "metadata": {},
     "output_type": "execute_result"
    }
   ],
   "source": [
    "most_common(product_dict['iphone_df'], 15, 4)"
   ]
  },
  {
   "cell_type": "markdown",
   "metadata": {},
   "source": [
    "Iphones are quoted as 'awesome', 'cool', 'hot' and 'good' when in favor. It is also quoted as 'dead' and 'stupid' in some negative tweets. "
   ]
  },
  {
   "cell_type": "markdown",
   "metadata": {},
   "source": [
    "#### Apple"
   ]
  },
  {
   "cell_type": "code",
   "execution_count": 67,
   "metadata": {},
   "outputs": [
    {
     "data": {
      "text/plain": [
       "{'positive_most_common': [('open', 56),\n",
       "  ('ipad', 45),\n",
       "  ('cool', 45),\n",
       "  ('new', 33),\n",
       "  ('great', 29),\n",
       "  ('smart', 24),\n",
       "  ('nice', 15),\n",
       "  ('austin', 15),\n",
       "  ('quot', 14),\n",
       "  ('temp', 14),\n",
       "  ('good', 13),\n",
       "  ('brilliant', 13)],\n",
       " 'negative_most_common': [('elegant', 7),\n",
       "  ('ipad', 5),\n",
       "  ('temporary', 4),\n",
       "  ('good', 4),\n",
       "  ('quot', 4),\n",
       "  ('microsoft', 3),\n",
       "  ('bad', 2),\n",
       "  ('pop', 2),\n",
       "  ('mobile', 2),\n",
       "  ('smugness', 2),\n",
       "  ('update', 2),\n",
       "  ('enchantment', 2)],\n",
       " 'neutral_most_common': [('open', 110),\n",
       "  ('ipad', 51),\n",
       "  ('new', 42),\n",
       "  ('austin', 32),\n",
       "  ('temp', 19),\n",
       "  ('quot', 18),\n",
       "  ('amp', 14),\n",
       "  ('popup', 13),\n",
       "  ('many', 13),\n",
       "  ('pop', 12),\n",
       "  ('downtown', 12),\n",
       "  ('launch', 11)]}"
      ]
     },
     "execution_count": 67,
     "metadata": {},
     "output_type": "execute_result"
    }
   ],
   "source": [
    "most_common(product_dict['apple_df'], 15, 3)"
   ]
  },
  {
   "cell_type": "markdown",
   "metadata": {},
   "source": [
    "Lastly, apple is mainly quoted as 'cool', 'new', 'great', 'smart' and 'nice'. However, there are some cases of it being expressed as 'bad' and being smug 'smugness'."
   ]
  },
  {
   "cell_type": "markdown",
   "metadata": {},
   "source": [
    "Let's plot these in a wordcloud to visualize the most common words."
   ]
  },
  {
   "cell_type": "markdown",
   "metadata": {},
   "source": [
    "### Apple Words"
   ]
  },
  {
   "cell_type": "code",
   "execution_count": 68,
   "metadata": {},
   "outputs": [],
   "source": [
    "# Create a list of word\n",
    "apple_positives = ('Great ' * 7 + 'Cool ' * 6 + 'Awesome ' * 5 + 'Nice ' * 3 + 'Hot ' * 2 + 'Brilliant ' * 1) \n",
    "apple_negatives = ('Ridiculous ' * 4 +  'Weird ' * 3 + 'Dead ' * 3 + 'Stupid ' * 3 + 'Smug ' * 2)"
   ]
  },
  {
   "cell_type": "code",
   "execution_count": 69,
   "metadata": {},
   "outputs": [
    {
     "data": {
      "image/png": "[encoded data removed]",
      "text/plain": [
       "<Figure size 432x288 with 1 Axes>"
      ]
     },
     "metadata": {
      "needs_background": "light"
     },
     "output_type": "display_data"
    }
   ],
   "source": [
    "# Create the wordcloud object\n",
    "wordcloud = WordCloud(width=400, height=400, margin=0,\n",
    "                     background_color='white', scale=0.65,\n",
    "                     relative_scaling=.75, repeat=False,\n",
    "                     min_font_size=10).generate(apple_positives)\n",
    "    \n",
    "# Display the generated image:\n",
    "plt.imshow(wordcloud, interpolation=\"bilinear\")\n",
    "plt.axis(\"off\")\n",
    "plt.margins(x=0, y=0)\n",
    "plt.tight_layout()\n",
    "plt.show()\n",
    "wordcloud.to_file(r'apple_postive_wordcloud.jpg');"
   ]
  },
  {
   "cell_type": "code",
   "execution_count": 70,
   "metadata": {},
   "outputs": [
    {
     "data": {
      "image/png": "[encoded data removed]",
      "text/plain": [
       "<Figure size 432x288 with 1 Axes>"
      ]
     },
     "metadata": {
      "needs_background": "light"
     },
     "output_type": "display_data"
    }
   ],
   "source": [
    "# Create the wordcloud object\n",
    "wordcloud = WordCloud(width=640, height=640, margin=0,\n",
    "                     background_color='white', scale=0.65,\n",
    "                     relative_scaling=.75, repeat=False,\n",
    "                     min_font_size=10).generate(apple_negatives)\n",
    "    \n",
    "# Display the generated image:\n",
    "plt.imshow(wordcloud, interpolation=\"bilinear\")\n",
    "plt.axis(\"off\")\n",
    "plt.margins(x=0, y=0)\n",
    "plt.show()\n",
    "wordcloud.to_file(r'apple_negative_wordcloud.jpg');"
   ]
  },
  {
   "cell_type": "markdown",
   "metadata": {},
   "source": [
    "### Google Words"
   ]
  },
  {
   "cell_type": "code",
   "execution_count": 71,
   "metadata": {},
   "outputs": [],
   "source": [
    "# Create a list of word\n",
    "google_positives = ('Major ' * 6 + 'Great ' * 5 + 'Big ' * 2)\n",
    "google_negatives = ('False ' * 4)"
   ]
  },
  {
   "cell_type": "code",
   "execution_count": 72,
   "metadata": {},
   "outputs": [
    {
     "data": {
      "image/png": "[encoded data removed]",
      "text/plain": [
       "<Figure size 432x288 with 1 Axes>"
      ]
     },
     "metadata": {
      "needs_background": "light"
     },
     "output_type": "display_data"
    }
   ],
   "source": [
    "# Create the wordcloud object\n",
    "wordcloud = WordCloud(width=640, height=640, margin=0,\n",
    "                     background_color='white', scale=0.65,\n",
    "                     relative_scaling=.75, repeat=False,\n",
    "                     min_font_size=10).generate(google_positives)\n",
    "    \n",
    "# Display the generated image:\n",
    "plt.imshow(wordcloud, interpolation=\"bilinear\")\n",
    "plt.axis(\"off\")\n",
    "plt.margins(x=0, y=0)\n",
    "plt.show()\n",
    "wordcloud.to_file(r'google_positive_wordcloud.jpg');"
   ]
  },
  {
   "cell_type": "code",
   "execution_count": 73,
   "metadata": {},
   "outputs": [
    {
     "data": {
      "image/png": "[encoded data removed]",
      "text/plain": [
       "<Figure size 432x288 with 1 Axes>"
      ]
     },
     "metadata": {
      "needs_background": "light"
     },
     "output_type": "display_data"
    }
   ],
   "source": [
    "# Create the wordcloud object\n",
    "wordcloud = WordCloud(width=640, height=640, margin=0,\n",
    "                     background_color='white', scale=0.65,\n",
    "                     relative_scaling=.75, repeat=False,\n",
    "                     min_font_size=10).generate(google_negatives)\n",
    "    \n",
    "# Display the generated image:\n",
    "plt.imshow(wordcloud, interpolation=\"bilinear\")\n",
    "plt.axis(\"off\")\n",
    "plt.margins(x=0, y=0)\n",
    "plt.show()\n",
    "wordcloud.to_file(r'google_negative_wordcloud.jpg');"
   ]
  },
  {
   "cell_type": "markdown",
   "metadata": {},
   "source": [
    "Now that we know what customers are saying about each brand and product, we can move onto the machine learning part of this project where we will create a classifier to predict positive, negative and neutral tweets."
   ]
  },
  {
   "cell_type": "markdown",
   "metadata": {},
   "source": [
    "### Data Modelling"
   ]
  },
  {
   "cell_type": "code",
   "execution_count": 74,
   "metadata": {},
   "outputs": [
    {
     "data": {
      "text/html": [
       "<div>\n",
       "<style scoped>\n",
       "    .dataframe tbody tr th:only-of-type {\n",
       "        vertical-align: middle;\n",
       "    }\n",
       "\n",
       "    .dataframe tbody tr th {\n",
       "        vertical-align: top;\n",
       "    }\n",
       "\n",
       "    .dataframe thead th {\n",
       "        text-align: right;\n",
       "    }\n",
       "</style>\n",
       "<table border=\"1\" class=\"dataframe\">\n",
       "  <thead>\n",
       "    <tr style=\"text-align: right;\">\n",
       "      <th></th>\n",
       "      <th>tweet_text</th>\n",
       "      <th>emotion</th>\n",
       "      <th>tokenized_tweet</th>\n",
       "      <th>product</th>\n",
       "      <th>pos_tags</th>\n",
       "      <th>expression</th>\n",
       "    </tr>\n",
       "  </thead>\n",
       "  <tbody>\n",
       "    <tr>\n",
       "      <th>0</th>\n",
       "      <td>.@wesley83 I have a 3G iPhone. After 3 hrs twe...</td>\n",
       "      <td>2</td>\n",
       "      <td>[wesley, g, iphone, hrs, tweeting, rise, austi...</td>\n",
       "      <td>iphone</td>\n",
       "      <td>[(wesley, NN), (g, NN), (iphone, NN), (hrs, NN...</td>\n",
       "      <td>[dead, upgrade]</td>\n",
       "    </tr>\n",
       "    <tr>\n",
       "      <th>1</th>\n",
       "      <td>@jessedee Know about @fludapp ? Awesome iPad/i...</td>\n",
       "      <td>1</td>\n",
       "      <td>[jessedee, know, fludapp, awesome, ipad, iphon...</td>\n",
       "      <td>ipad</td>\n",
       "      <td>[(jessedee, NN), (know, VBP), (fludapp, VBZ), ...</td>\n",
       "      <td>[awesome, likely, free]</td>\n",
       "    </tr>\n",
       "    <tr>\n",
       "      <th>2</th>\n",
       "      <td>@swonderlin Can not wait for #iPad 2 also. The...</td>\n",
       "      <td>1</td>\n",
       "      <td>[swonderlin, wait, ipad, also, sale, sxsw]</td>\n",
       "      <td>ipad</td>\n",
       "      <td>[(swonderlin, NN), (wait, NN), (ipad, NN), (al...</td>\n",
       "      <td>[]</td>\n",
       "    </tr>\n",
       "    <tr>\n",
       "      <th>3</th>\n",
       "      <td>@sxsw I hope this year's festival isn't as cra...</td>\n",
       "      <td>2</td>\n",
       "      <td>[sxsw, hope, year's, festival, crashy, year's,...</td>\n",
       "      <td>iphone</td>\n",
       "      <td>[(sxsw, NNS), (hope, VBP), (year's, JJ), (fest...</td>\n",
       "      <td>[year's]</td>\n",
       "    </tr>\n",
       "    <tr>\n",
       "      <th>4</th>\n",
       "      <td>@sxtxstate great stuff on Fri #SXSW: Marissa M...</td>\n",
       "      <td>1</td>\n",
       "      <td>[sxtxstate, great, stuff, fri, sxsw, marissa, ...</td>\n",
       "      <td>google</td>\n",
       "      <td>[(sxtxstate, NN), (great, JJ), (stuff, NN), (f...</td>\n",
       "      <td>[great, tech, matt]</td>\n",
       "    </tr>\n",
       "  </tbody>\n",
       "</table>\n",
       "</div>"
      ],
      "text/plain": [
       "                                          tweet_text  emotion  \\\n",
       "0  .@wesley83 I have a 3G iPhone. After 3 hrs twe...        2   \n",
       "1  @jessedee Know about @fludapp ? Awesome iPad/i...        1   \n",
       "2  @swonderlin Can not wait for #iPad 2 also. The...        1   \n",
       "3  @sxsw I hope this year's festival isn't as cra...        2   \n",
       "4  @sxtxstate great stuff on Fri #SXSW: Marissa M...        1   \n",
       "\n",
       "                                     tokenized_tweet product  \\\n",
       "0  [wesley, g, iphone, hrs, tweeting, rise, austi...  iphone   \n",
       "1  [jessedee, know, fludapp, awesome, ipad, iphon...    ipad   \n",
       "2         [swonderlin, wait, ipad, also, sale, sxsw]    ipad   \n",
       "3  [sxsw, hope, year's, festival, crashy, year's,...  iphone   \n",
       "4  [sxtxstate, great, stuff, fri, sxsw, marissa, ...  google   \n",
       "\n",
       "                                            pos_tags               expression  \n",
       "0  [(wesley, NN), (g, NN), (iphone, NN), (hrs, NN...          [dead, upgrade]  \n",
       "1  [(jessedee, NN), (know, VBP), (fludapp, VBZ), ...  [awesome, likely, free]  \n",
       "2  [(swonderlin, NN), (wait, NN), (ipad, NN), (al...                       []  \n",
       "3  [(sxsw, NNS), (hope, VBP), (year's, JJ), (fest...                 [year's]  \n",
       "4  [(sxtxstate, NN), (great, JJ), (stuff, NN), (f...      [great, tech, matt]  "
      ]
     },
     "execution_count": 74,
     "metadata": {},
     "output_type": "execute_result"
    }
   ],
   "source": [
    "# Preview the dataset\n",
    "df_clean.head()"
   ]
  },
  {
   "cell_type": "markdown",
   "metadata": {},
   "source": [
    "We will use the TD-IDF vectorizer to transform our text into a numerical format. This way the computer can understand the text characterstics and classify it appropriately.\n",
    "\n",
    "We will need to use the raw tweet_text xolumn for the Td-idf vectorizer as it handles the count vectorization process on it's own."
   ]
  },
  {
   "cell_type": "markdown",
   "metadata": {},
   "source": [
    "### Train test split"
   ]
  },
  {
   "cell_type": "code",
   "execution_count": 75,
   "metadata": {},
   "outputs": [],
   "source": [
    "X = df_clean['tweet_text'].copy()\n",
    "y = df_clean['emotion'].copy()"
   ]
  },
  {
   "cell_type": "code",
   "execution_count": 76,
   "metadata": {},
   "outputs": [],
   "source": [
    "X_train, X_test, y_train, y_test = train_test_split(X, y, test_size=.3, random_state=123)"
   ]
  },
  {
   "cell_type": "markdown",
   "metadata": {},
   "source": [
    "### TF-IDF Vectorizer"
   ]
  },
  {
   "cell_type": "code",
   "execution_count": 77,
   "metadata": {},
   "outputs": [],
   "source": [
    "# Initialize the vectorizer\n",
    "vectorizer = TfidfVectorizer()\n",
    "\n",
    "# Fit and transform train and test sets\n",
    "tf_idf_train = vectorizer.fit_transform(X_train)\n",
    "tf_idf_test = vectorizer.transform(X_test)"
   ]
  },
  {
   "cell_type": "code",
   "execution_count": 78,
   "metadata": {},
   "outputs": [
    {
     "data": {
      "text/plain": [
       "(5352, 7480)"
      ]
     },
     "execution_count": 78,
     "metadata": {},
     "output_type": "execute_result"
    }
   ],
   "source": [
    "tf_idf_train.shape"
   ]
  },
  {
   "cell_type": "markdown",
   "metadata": {},
   "source": [
    "The vectorized product shows that we have 5352 tweets in our train set with 7480 unique words.\n",
    "\n",
    "Now that we have our dataset vectorized, we can fit them in different models and start predicting. "
   ]
  },
  {
   "cell_type": "markdown",
   "metadata": {},
   "source": [
    "Let's create a function to test different models."
   ]
  },
  {
   "cell_type": "code",
   "execution_count": 79,
   "metadata": {},
   "outputs": [],
   "source": [
    "def pred_score(classifier):\n",
    "    # Instantiate and fit the model\n",
    "    clf = classifier\n",
    "    clf.fit(tf_idf_train, y_train)\n",
    "    \n",
    "    # Predict the training and test sets\n",
    "    train_preds = clf.predict(tf_idf_train)\n",
    "    test_preds = clf.predict(tf_idf_test)\n",
    "    \n",
    "    # Calculate accuracy scores\n",
    "    print(clf)\n",
    "    print('----------------------------------')\n",
    "    train_score = accuracy_score(y_train, train_preds) *100\n",
    "    print('Training accuracy: {}'.format(train_score)) \n",
    "    test_score = accuracy_score(y_test, test_preds) *100\n",
    "    print('Test accuracy: {}'.format(test_score))"
   ]
  },
  {
   "cell_type": "markdown",
   "metadata": {},
   "source": [
    "### Naive Bayes"
   ]
  },
  {
   "cell_type": "code",
   "execution_count": 80,
   "metadata": {},
   "outputs": [
    {
     "name": "stdout",
     "output_type": "stream",
     "text": [
      "MultinomialNB()\n",
      "----------------------------------\n",
      "Training accuracy: 73.93497757847534\n",
      "Test accuracy: 63.13725490196078\n"
     ]
    }
   ],
   "source": [
    "pred_score(MultinomialNB())"
   ]
  },
  {
   "cell_type": "markdown",
   "metadata": {},
   "source": [
    "The NB model seems to have performed averagely at 63.14% test accuracy. The training accuracy is higher than the test accuracy which shows signs of overfitting."
   ]
  },
  {
   "cell_type": "markdown",
   "metadata": {},
   "source": [
    "### Random Forest Classifier"
   ]
  },
  {
   "cell_type": "code",
   "execution_count": 81,
   "metadata": {},
   "outputs": [
    {
     "name": "stdout",
     "output_type": "stream",
     "text": [
      "RandomForestClassifier()\n",
      "----------------------------------\n",
      "Training accuracy: 99.64499252615845\n",
      "Test accuracy: 66.1437908496732\n"
     ]
    }
   ],
   "source": [
    "pred_score(RandomForestClassifier(n_estimators=100))"
   ]
  },
  {
   "cell_type": "markdown",
   "metadata": {},
   "source": [
    "The RandomForestClassifier seems to have performed a bit better than the NB model at 66.3% test accuracy. The model was able to train itself on the training dataset pretty well however, it was not able to generalize well on the test set.\n",
    "\n",
    "Text classification is not as straight forward as label classification. Recurring Neural Networks using the LSTM architecture usually perform very well with text classification. We will deploy the neural network to classify our data."
   ]
  },
  {
   "cell_type": "markdown",
   "metadata": {},
   "source": [
    "### Recurring Neural Network using LTSM"
   ]
  },
  {
   "cell_type": "markdown",
   "metadata": {},
   "source": [
    "RNN works better in dense vectors rather than sparse vectors. We will need to perform Word Embedding separately using Keras to run our model."
   ]
  },
  {
   "cell_type": "markdown",
   "metadata": {},
   "source": [
    "### Word Embedding"
   ]
  },
  {
   "cell_type": "markdown",
   "metadata": {},
   "source": [
    "First, we need to transform our array of text to 2D numerical arrays"
   ]
  },
  {
   "cell_type": "code",
   "execution_count": 82,
   "metadata": {},
   "outputs": [
    {
     "name": "stdout",
     "output_type": "stream",
     "text": [
      "[[   0    0    0 ... 3490    6    1]\n",
      " [   0    0    0 ... 3491    6    1]\n",
      " [   0    0    0 ...  192    6    1]\n",
      " ...\n",
      " [   0    0    0 ...    4    9   33]\n",
      " [   0    0    0 ...  140 3305    1]\n",
      " [   0    0    0 ...    6    1    4]]\n"
     ]
    }
   ],
   "source": [
    "max_words = 5000\n",
    "max_len = 40\n",
    "\n",
    "# Initialize the tokenizer\n",
    "tokenizer = Tokenizer(num_words=max_words)\n",
    "# Fit the text\n",
    "tokenizer.fit_on_texts(X)\n",
    "# Convert list of strings to list list of interegers\n",
    "sequences = tokenizer.texts_to_sequences(X)\n",
    "# Pad the tweets to a max of 40 features\n",
    "tweets = pad_sequences(sequences, maxlen=max_len)\n",
    "print(tweets)"
   ]
  },
  {
   "cell_type": "code",
   "execution_count": 83,
   "metadata": {},
   "outputs": [],
   "source": [
    "X2_train, X2_test, y2_train, y2_test = train_test_split(tweets, y, test_size=.30, random_state=111)"
   ]
  },
  {
   "cell_type": "code",
   "execution_count": 84,
   "metadata": {},
   "outputs": [],
   "source": [
    "X2 = df_clean['tweet_text'].copy()"
   ]
  },
  {
   "cell_type": "markdown",
   "metadata": {},
   "source": [
    "Since this is a multiclass problem, we need to one_hot encode our labels."
   ]
  },
  {
   "cell_type": "code",
   "execution_count": 85,
   "metadata": {},
   "outputs": [],
   "source": [
    "y2_train = keras.utils.to_categorical(y2_train, 3)\n",
    "y2_test = keras.utils.to_categorical(y2_test, 3)"
   ]
  },
  {
   "cell_type": "code",
   "execution_count": 86,
   "metadata": {},
   "outputs": [
    {
     "data": {
      "text/plain": [
       "(5352, 40)"
      ]
     },
     "execution_count": 86,
     "metadata": {},
     "output_type": "execute_result"
    }
   ],
   "source": [
    "X2_train.shape"
   ]
  },
  {
   "cell_type": "markdown",
   "metadata": {},
   "source": [
    "#### Base model - LSTM"
   ]
  },
  {
   "cell_type": "code",
   "execution_count": 87,
   "metadata": {},
   "outputs": [],
   "source": [
    "# Build the model\n",
    "model = Sequential()\n",
    "\n",
    "# Add the embedding layer\n",
    "model.add(layers.Embedding(max_words, 40))\n",
    "\n",
    "# Add the LSTM layer with dropout\n",
    "model.add(layers.LSTM(20, dropout=0.3)) \n",
    "\n",
    "# Final layer using softmax\n",
    "model.add(layers.Dense(3, activation='softmax'))\n",
    "\n",
    "# Compile the model\n",
    "model.compile(optimizer='rmsprop',loss='categorical_crossentropy', metrics=['accuracy'])"
   ]
  },
  {
   "cell_type": "code",
   "execution_count": 88,
   "metadata": {},
   "outputs": [
    {
     "name": "stdout",
     "output_type": "stream",
     "text": [
      "Model: \"sequential\"\n",
      "_________________________________________________________________\n",
      "Layer (type)                 Output Shape              Param #   \n",
      "=================================================================\n",
      "embedding (Embedding)        (None, None, 40)          200000    \n",
      "_________________________________________________________________\n",
      "lstm (LSTM)                  (None, 20)                4880      \n",
      "_________________________________________________________________\n",
      "dense (Dense)                (None, 3)                 63        \n",
      "=================================================================\n",
      "Total params: 204,943\n",
      "Trainable params: 204,943\n",
      "Non-trainable params: 0\n",
      "_________________________________________________________________\n"
     ]
    }
   ],
   "source": [
    "# Inspect the shape of your model\n",
    "model.summary()"
   ]
  },
  {
   "cell_type": "markdown",
   "metadata": {},
   "source": [
    "We can see in the above table that we have 3 layers and 204,943 traininable parameters. "
   ]
  },
  {
   "cell_type": "code",
   "execution_count": 89,
   "metadata": {},
   "outputs": [
    {
     "name": "stdout",
     "output_type": "stream",
     "text": [
      "Epoch 1/20\n",
      "168/168 [==============================] - 6s 21ms/step - loss: 0.9220 - accuracy: 0.5525 - val_loss: 0.8548 - val_accuracy: 0.5826\n",
      "Epoch 2/20\n",
      "168/168 [==============================] - 2s 12ms/step - loss: 0.8153 - accuracy: 0.6037 - val_loss: 1.0096 - val_accuracy: 0.5769\n",
      "Epoch 3/20\n",
      "168/168 [==============================] - 2s 11ms/step - loss: 0.7449 - accuracy: 0.6632 - val_loss: 0.8021 - val_accuracy: 0.6309\n",
      "Epoch 4/20\n",
      "168/168 [==============================] - 2s 11ms/step - loss: 0.6694 - accuracy: 0.7128 - val_loss: 0.7845 - val_accuracy: 0.6440\n",
      "Epoch 5/20\n",
      "168/168 [==============================] - 2s 11ms/step - loss: 0.6317 - accuracy: 0.7257 - val_loss: 0.7756 - val_accuracy: 0.6501\n",
      "Epoch 6/20\n",
      "168/168 [==============================] - 2s 11ms/step - loss: 0.5726 - accuracy: 0.7585 - val_loss: 0.8133 - val_accuracy: 0.6575\n",
      "Epoch 7/20\n",
      "168/168 [==============================] - 2s 11ms/step - loss: 0.5414 - accuracy: 0.7807 - val_loss: 0.8359 - val_accuracy: 0.6558\n",
      "Epoch 8/20\n",
      "168/168 [==============================] - 2s 11ms/step - loss: 0.5258 - accuracy: 0.7894 - val_loss: 0.7936 - val_accuracy: 0.6558\n",
      "Epoch 9/20\n",
      "168/168 [==============================] - 2s 11ms/step - loss: 0.4959 - accuracy: 0.8023 - val_loss: 0.8279 - val_accuracy: 0.6627\n",
      "Epoch 10/20\n",
      "168/168 [==============================] - 2s 11ms/step - loss: 0.4648 - accuracy: 0.8172 - val_loss: 0.8391 - val_accuracy: 0.6558\n",
      "Epoch 11/20\n",
      "168/168 [==============================] - 2s 11ms/step - loss: 0.4551 - accuracy: 0.8176 - val_loss: 0.8438 - val_accuracy: 0.6475\n",
      "Epoch 12/20\n",
      "168/168 [==============================] - 2s 11ms/step - loss: 0.4266 - accuracy: 0.8298 - val_loss: 0.8842 - val_accuracy: 0.6606\n",
      "Epoch 13/20\n",
      "168/168 [==============================] - 2s 11ms/step - loss: 0.4117 - accuracy: 0.8364 - val_loss: 0.8740 - val_accuracy: 0.6562\n",
      "Epoch 14/20\n",
      "168/168 [==============================] - 2s 11ms/step - loss: 0.4180 - accuracy: 0.8322 - val_loss: 0.8740 - val_accuracy: 0.6388\n",
      "Epoch 15/20\n",
      "168/168 [==============================] - 2s 11ms/step - loss: 0.4022 - accuracy: 0.8380 - val_loss: 0.8783 - val_accuracy: 0.6484\n",
      "Epoch 16/20\n",
      "168/168 [==============================] - 2s 11ms/step - loss: 0.3701 - accuracy: 0.8599 - val_loss: 0.9177 - val_accuracy: 0.6331\n",
      "Epoch 17/20\n",
      "168/168 [==============================] - 2s 11ms/step - loss: 0.3695 - accuracy: 0.8596 - val_loss: 0.8862 - val_accuracy: 0.6453\n",
      "Epoch 18/20\n",
      "168/168 [==============================] - 2s 11ms/step - loss: 0.3724 - accuracy: 0.8543 - val_loss: 0.9165 - val_accuracy: 0.6436\n",
      "Epoch 19/20\n",
      "168/168 [==============================] - 2s 11ms/step - loss: 0.3484 - accuracy: 0.8693 - val_loss: 0.9233 - val_accuracy: 0.6536\n",
      "Epoch 20/20\n",
      "168/168 [==============================] - 2s 12ms/step - loss: 0.3409 - accuracy: 0.8704 - val_loss: 1.0059 - val_accuracy: 0.6200\n"
     ]
    }
   ],
   "source": [
    "# Fit the model\n",
    "result_1 = model.fit(X2_train, y2_train, epochs=20, validation_data=(X2_test, y2_test))"
   ]
  },
  {
   "cell_type": "code",
   "execution_count": 90,
   "metadata": {},
   "outputs": [
    {
     "name": "stdout",
     "output_type": "stream",
     "text": [
      "72/72 [==============================] - 0s 2ms/step - loss: 1.0059 - accuracy: 0.6200\n",
      "Test Accuracy: 62.004358\n"
     ]
    }
   ],
   "source": [
    "# Evaluate the model\n",
    "loss, accuracy = model.evaluate(X2_test, y2_test)\n",
    "print('Test Accuracy: %f' % (accuracy*100))"
   ]
  },
  {
   "cell_type": "markdown",
   "metadata": {},
   "source": [
    "The model with 20 epochs does not seem to have predicted the model any better than the supervised ones. The test accuracy is still 63.44%. Let's visualize this to get a better understanding of our model's performance."
   ]
  },
  {
   "cell_type": "markdown",
   "metadata": {},
   "source": [
    "### Visualizing our Loss and Accuracy Curves"
   ]
  },
  {
   "cell_type": "code",
   "execution_count": 91,
   "metadata": {},
   "outputs": [],
   "source": [
    "def visualize_training_results(results):\n",
    "    history = results.history\n",
    "    plt.figure()\n",
    "    plt.plot(history['val_loss'])\n",
    "    plt.plot(history['loss'])\n",
    "    plt.legend(['val_loss', 'loss'])\n",
    "    plt.title('Loss')\n",
    "    plt.xlabel('Epochs')\n",
    "    plt.ylabel('Loss')\n",
    "    plt.show()\n",
    "    \n",
    "    plt.figure()\n",
    "    plt.plot(history['val_accuracy'])\n",
    "    plt.plot(history['accuracy'])\n",
    "    plt.legend(['val_accuracy', 'accuracy'])\n",
    "    plt.title('Accuracy')\n",
    "    plt.xlabel('Epochs')\n",
    "    plt.ylabel('Accuracy')\n",
    "    plt.show()"
   ]
  },
  {
   "cell_type": "code",
   "execution_count": 92,
   "metadata": {},
   "outputs": [
    {
     "data": {
      "image/png": "[encoded data removed]",
      "text/plain": [
       "<Figure size 432x288 with 1 Axes>"
      ]
     },
     "metadata": {
      "needs_background": "light"
     },
     "output_type": "display_data"
    },
    {
     "data": {
      "image/png": "[encoded data removed]",
      "text/plain": [
       "<Figure size 432x288 with 1 Axes>"
      ]
     },
     "metadata": {
      "needs_background": "light"
     },
     "output_type": "display_data"
    }
   ],
   "source": [
    "visualize_training_results(result_1)"
   ]
  },
  {
   "cell_type": "markdown",
   "metadata": {},
   "source": [
    "Our validation accuracy is way lower than the training accuracy. This shows that our model is overfitting. One way for tackling overfitting is by regularization using dropout layers in the model. Let's see if we can improve the model performance with this."
   ]
  },
  {
   "cell_type": "markdown",
   "metadata": {},
   "source": [
    "#### Model 2 - Dropout"
   ]
  },
  {
   "cell_type": "code",
   "execution_count": 93,
   "metadata": {},
   "outputs": [
    {
     "name": "stdout",
     "output_type": "stream",
     "text": [
      "Model: \"sequential_1\"\n",
      "_________________________________________________________________\n",
      "Layer (type)                 Output Shape              Param #   \n",
      "=================================================================\n",
      "embedding_1 (Embedding)      (None, None, 40)          200000    \n",
      "_________________________________________________________________\n",
      "lstm_1 (LSTM)                (None, 20)                4880      \n",
      "_________________________________________________________________\n",
      "dense_1 (Dense)              (None, 15)                315       \n",
      "_________________________________________________________________\n",
      "dropout (Dropout)            (None, 15)                0         \n",
      "_________________________________________________________________\n",
      "dense_2 (Dense)              (None, 10)                160       \n",
      "_________________________________________________________________\n",
      "dropout_1 (Dropout)          (None, 10)                0         \n",
      "_________________________________________________________________\n",
      "dense_3 (Dense)              (None, 3)                 33        \n",
      "=================================================================\n",
      "Total params: 205,388\n",
      "Trainable params: 205,388\n",
      "Non-trainable params: 0\n",
      "_________________________________________________________________\n"
     ]
    }
   ],
   "source": [
    "model2 = Sequential()\n",
    "# Add the embedding layer\n",
    "model2.add(layers.Embedding(max_words, 40))\n",
    "\n",
    "# Add the LSTM layer with dropout\n",
    "model2.add(layers.LSTM(20, dropout=0.3)) \n",
    "\n",
    "# Add second layer using relu activation\n",
    "model2.add(layers.Dense(15, activation='relu'))\n",
    "# Implement dropout to the second hidden layer \n",
    "model2.add(layers.Dropout(0.3))\n",
    "\n",
    "# Add third dense layer using relu activation\n",
    "model2.add(layers.Dense(10, activation='relu'))\n",
    "# Implement dropout to the third hidden layer \n",
    "model2.add(layers.Dropout(0.3))\n",
    "\n",
    "# Final layer using softmax\n",
    "model2.add(layers.Dense(3, activation='softmax'))\n",
    "\n",
    "# Compile the model\n",
    "model2.compile(optimizer='rmsprop',loss='categorical_crossentropy', metrics=['accuracy'])\n",
    "\n",
    "# Inspect the model\n",
    "model2.summary()"
   ]
  },
  {
   "cell_type": "markdown",
   "metadata": {},
   "source": [
    "We now have an extra layers in our model with dropout. Let's see how this performs."
   ]
  },
  {
   "cell_type": "markdown",
   "metadata": {},
   "source": [
    "We can also use EarlyStopping from keras.callbacks to stop the model from running through all epochs when it starts to overfit."
   ]
  },
  {
   "cell_type": "code",
   "execution_count": 94,
   "metadata": {},
   "outputs": [],
   "source": [
    "# Define the callbacks\n",
    "early_stopping = [EarlyStopping(monitor='val_loss', patience=10), \n",
    "                  ModelCheckpoint(filepath='best_model.h5', monitor='val_loss', save_best_only=True)]"
   ]
  },
  {
   "cell_type": "code",
   "execution_count": 95,
   "metadata": {},
   "outputs": [
    {
     "name": "stdout",
     "output_type": "stream",
     "text": [
      "Epoch 1/50\n",
      "168/168 [==============================] - 5s 15ms/step - loss: 0.9775 - accuracy: 0.5435 - val_loss: 0.8749 - val_accuracy: 0.5699\n",
      "Epoch 2/50\n",
      "168/168 [==============================] - 2s 11ms/step - loss: 0.8601 - accuracy: 0.5676 - val_loss: 0.8202 - val_accuracy: 0.6057\n",
      "Epoch 3/50\n",
      "168/168 [==============================] - 2s 11ms/step - loss: 0.8085 - accuracy: 0.6053 - val_loss: 0.8260 - val_accuracy: 0.6083\n",
      "Epoch 4/50\n",
      "168/168 [==============================] - 2s 11ms/step - loss: 0.7812 - accuracy: 0.6407 - val_loss: 0.8136 - val_accuracy: 0.6048\n",
      "Epoch 5/50\n",
      "168/168 [==============================] - 2s 11ms/step - loss: 0.7400 - accuracy: 0.6761 - val_loss: 0.8124 - val_accuracy: 0.6100\n",
      "Epoch 6/50\n",
      "168/168 [==============================] - 2s 11ms/step - loss: 0.7117 - accuracy: 0.6953 - val_loss: 0.9933 - val_accuracy: 0.6279\n",
      "Epoch 7/50\n",
      "168/168 [==============================] - 2s 11ms/step - loss: 0.6739 - accuracy: 0.7240 - val_loss: 0.8062 - val_accuracy: 0.6418\n",
      "Epoch 8/50\n",
      "168/168 [==============================] - 2s 11ms/step - loss: 0.6163 - accuracy: 0.7493 - val_loss: 0.7945 - val_accuracy: 0.6492\n",
      "Epoch 9/50\n",
      "168/168 [==============================] - 2s 11ms/step - loss: 0.6012 - accuracy: 0.7570 - val_loss: 0.8346 - val_accuracy: 0.6632\n",
      "Epoch 10/50\n",
      "168/168 [==============================] - 2s 11ms/step - loss: 0.5835 - accuracy: 0.7680 - val_loss: 0.9015 - val_accuracy: 0.6632\n",
      "Epoch 11/50\n",
      "168/168 [==============================] - 2s 11ms/step - loss: 0.5599 - accuracy: 0.7758 - val_loss: 0.8503 - val_accuracy: 0.6410\n",
      "Epoch 12/50\n",
      "168/168 [==============================] - 2s 11ms/step - loss: 0.5332 - accuracy: 0.7988 - val_loss: 0.8949 - val_accuracy: 0.6680\n",
      "Epoch 13/50\n",
      "168/168 [==============================] - 2s 11ms/step - loss: 0.5083 - accuracy: 0.7996 - val_loss: 0.8863 - val_accuracy: 0.6619\n",
      "Epoch 14/50\n",
      "168/168 [==============================] - 2s 11ms/step - loss: 0.4827 - accuracy: 0.8117 - val_loss: 0.8545 - val_accuracy: 0.6296\n",
      "Epoch 15/50\n",
      "168/168 [==============================] - 2s 11ms/step - loss: 0.4827 - accuracy: 0.8149 - val_loss: 0.8507 - val_accuracy: 0.6453\n",
      "Epoch 16/50\n",
      "168/168 [==============================] - 2s 11ms/step - loss: 0.4687 - accuracy: 0.8257 - val_loss: 0.8726 - val_accuracy: 0.6401\n",
      "Epoch 17/50\n",
      "168/168 [==============================] - 2s 11ms/step - loss: 0.4567 - accuracy: 0.8212 - val_loss: 0.9190 - val_accuracy: 0.6532\n",
      "Epoch 18/50\n",
      "168/168 [==============================] - 2s 11ms/step - loss: 0.4406 - accuracy: 0.8380 - val_loss: 1.0394 - val_accuracy: 0.6645\n"
     ]
    }
   ],
   "source": [
    "# Fit the model\n",
    "result_2 = model2.fit(X2_train, y2_train, epochs=50, callbacks=early_stopping, validation_data=(X2_test, y2_test))"
   ]
  },
  {
   "cell_type": "code",
   "execution_count": 96,
   "metadata": {},
   "outputs": [],
   "source": [
    "# Load the best (saved) model\n",
    "saved_model = load_model('best_model.h5')"
   ]
  },
  {
   "cell_type": "code",
   "execution_count": 97,
   "metadata": {},
   "outputs": [
    {
     "name": "stdout",
     "output_type": "stream",
     "text": [
      "72/72 [==============================] - 1s 2ms/step - loss: 0.7945 - accuracy: 0.6492\n",
      "Test Accuracy: 64.923745\n"
     ]
    }
   ],
   "source": [
    "# Evaluate the model\n",
    "loss, accuracy = saved_model.evaluate(X2_test, y2_test)\n",
    "print('Test Accuracy: %f' % (accuracy*100))"
   ]
  },
  {
   "cell_type": "markdown",
   "metadata": {},
   "source": [
    "The dropout model does not seem to have improved."
   ]
  },
  {
   "cell_type": "code",
   "execution_count": 98,
   "metadata": {},
   "outputs": [
    {
     "data": {
      "image/png": "[encoded data removed]",
      "text/plain": [
       "<Figure size 432x288 with 1 Axes>"
      ]
     },
     "metadata": {
      "needs_background": "light"
     },
     "output_type": "display_data"
    },
    {
     "data": {
      "image/png": "[encoded data removed]",
      "text/plain": [
       "<Figure size 432x288 with 1 Axes>"
      ]
     },
     "metadata": {
      "needs_background": "light"
     },
     "output_type": "display_data"
    }
   ],
   "source": [
    "visualize_training_results(result_2)"
   ]
  },
  {
   "cell_type": "markdown",
   "metadata": {},
   "source": [
    "The model did not improve. Let's try other activation functions."
   ]
  },
  {
   "cell_type": "markdown",
   "metadata": {},
   "source": [
    "#### Model 3 - Activation: sigmoid"
   ]
  },
  {
   "cell_type": "code",
   "execution_count": 99,
   "metadata": {},
   "outputs": [
    {
     "name": "stdout",
     "output_type": "stream",
     "text": [
      "Model: \"sequential_2\"\n",
      "_________________________________________________________________\n",
      "Layer (type)                 Output Shape              Param #   \n",
      "=================================================================\n",
      "embedding_2 (Embedding)      (None, None, 40)          200000    \n",
      "_________________________________________________________________\n",
      "lstm_2 (LSTM)                (None, 30)                8520      \n",
      "_________________________________________________________________\n",
      "dense_4 (Dense)              (None, 20)                620       \n",
      "_________________________________________________________________\n",
      "dropout_2 (Dropout)          (None, 20)                0         \n",
      "_________________________________________________________________\n",
      "dense_5 (Dense)              (None, 10)                210       \n",
      "_________________________________________________________________\n",
      "dropout_3 (Dropout)          (None, 10)                0         \n",
      "_________________________________________________________________\n",
      "dense_6 (Dense)              (None, 3)                 33        \n",
      "=================================================================\n",
      "Total params: 209,383\n",
      "Trainable params: 209,383\n",
      "Non-trainable params: 0\n",
      "_________________________________________________________________\n"
     ]
    }
   ],
   "source": [
    "model3 = Sequential()\n",
    "# Add the embedding layer\n",
    "model3.add(layers.Embedding(max_words, 40))\n",
    "\n",
    "# Add the LSTM layer with dropout\n",
    "model3.add(layers.LSTM(30, dropout=0.3)) \n",
    "\n",
    "# Add second layer using relu activation\n",
    "model3.add(layers.Dense(20, activation='relu'))\n",
    "# Implement dropout to the second hidden layer \n",
    "model3.add(layers.Dropout(0.3))\n",
    "\n",
    "# Add third dense layer using relu activation\n",
    "model3.add(layers.Dense(10, activation='relu'))\n",
    "# Implement dropout to the third hidden layer \n",
    "model3.add(layers.Dropout(0.3))\n",
    "\n",
    "# Final layer using softmax\n",
    "model3.add(layers.Dense(3, activation='sigmoid'))\n",
    "\n",
    "# Compile the model\n",
    "model3.compile(optimizer='rmsprop',loss='categorical_crossentropy', metrics=['accuracy'])\n",
    "\n",
    "# Inspect the model\n",
    "model3.summary()"
   ]
  },
  {
   "cell_type": "code",
   "execution_count": 100,
   "metadata": {},
   "outputs": [],
   "source": [
    "# Define the callbacks\n",
    "early_stopping_3 = [EarlyStopping(monitor='val_loss', patience=10), \n",
    "                  ModelCheckpoint(filepath='best_model3.h5', monitor='val_loss', save_best_only=True)]"
   ]
  },
  {
   "cell_type": "code",
   "execution_count": 101,
   "metadata": {},
   "outputs": [
    {
     "name": "stdout",
     "output_type": "stream",
     "text": [
      "Epoch 1/50\n",
      "168/168 [==============================] - 5s 16ms/step - loss: 0.9616 - accuracy: 0.5133 - val_loss: 0.8793 - val_accuracy: 0.5699\n",
      "Epoch 2/50\n",
      "168/168 [==============================] - 2s 12ms/step - loss: 0.8738 - accuracy: 0.5604 - val_loss: 0.8364 - val_accuracy: 0.5699\n",
      "Epoch 3/50\n",
      "168/168 [==============================] - 2s 12ms/step - loss: 0.8192 - accuracy: 0.5677 - val_loss: 0.8341 - val_accuracy: 0.5704\n",
      "Epoch 4/50\n",
      "168/168 [==============================] - 2s 13ms/step - loss: 0.7944 - accuracy: 0.5975 - val_loss: 0.8207 - val_accuracy: 0.6000\n",
      "Epoch 5/50\n",
      "168/168 [==============================] - 2s 12ms/step - loss: 0.7533 - accuracy: 0.6521 - val_loss: 0.8260 - val_accuracy: 0.5930\n",
      "Epoch 6/50\n",
      "168/168 [==============================] - 2s 12ms/step - loss: 0.7199 - accuracy: 0.6802 - val_loss: 0.8648 - val_accuracy: 0.5407\n",
      "Epoch 7/50\n",
      "168/168 [==============================] - 2s 12ms/step - loss: 0.6780 - accuracy: 0.7059 - val_loss: 0.8088 - val_accuracy: 0.6144\n",
      "Epoch 8/50\n",
      "168/168 [==============================] - 2s 13ms/step - loss: 0.6589 - accuracy: 0.7228 - val_loss: 0.7975 - val_accuracy: 0.6601\n",
      "Epoch 9/50\n",
      "168/168 [==============================] - 2s 12ms/step - loss: 0.5920 - accuracy: 0.7555 - val_loss: 0.7775 - val_accuracy: 0.6571\n",
      "Epoch 10/50\n",
      "168/168 [==============================] - 2s 12ms/step - loss: 0.5840 - accuracy: 0.7617 - val_loss: 0.8676 - val_accuracy: 0.6309\n",
      "Epoch 11/50\n",
      "168/168 [==============================] - 2s 12ms/step - loss: 0.5569 - accuracy: 0.7784 - val_loss: 0.8150 - val_accuracy: 0.6279\n",
      "Epoch 12/50\n",
      "168/168 [==============================] - 2s 12ms/step - loss: 0.5447 - accuracy: 0.7837 - val_loss: 0.8932 - val_accuracy: 0.6227\n",
      "Epoch 13/50\n",
      "168/168 [==============================] - 2s 12ms/step - loss: 0.4982 - accuracy: 0.7995 - val_loss: 0.8269 - val_accuracy: 0.6466\n",
      "Epoch 14/50\n",
      "168/168 [==============================] - 2s 12ms/step - loss: 0.5172 - accuracy: 0.7892 - val_loss: 0.8525 - val_accuracy: 0.6619\n",
      "Epoch 15/50\n",
      "168/168 [==============================] - 2s 12ms/step - loss: 0.5104 - accuracy: 0.8008 - val_loss: 0.8895 - val_accuracy: 0.6449\n",
      "Epoch 16/50\n",
      "168/168 [==============================] - 2s 12ms/step - loss: 0.4626 - accuracy: 0.8187 - val_loss: 0.8624 - val_accuracy: 0.6501\n",
      "Epoch 17/50\n",
      "168/168 [==============================] - 2s 12ms/step - loss: 0.4613 - accuracy: 0.8292 - val_loss: 0.9343 - val_accuracy: 0.6519\n",
      "Epoch 18/50\n",
      "168/168 [==============================] - 2s 13ms/step - loss: 0.4606 - accuracy: 0.8256 - val_loss: 0.8625 - val_accuracy: 0.6566\n",
      "Epoch 19/50\n",
      "168/168 [==============================] - 2s 13ms/step - loss: 0.4319 - accuracy: 0.8368 - val_loss: 0.8831 - val_accuracy: 0.6266\n"
     ]
    }
   ],
   "source": [
    "# Fit the model\n",
    "result_3 = model3.fit(X2_train, y2_train, epochs=50, callbacks=early_stopping_3, validation_data=(X2_test, y2_test))"
   ]
  },
  {
   "cell_type": "code",
   "execution_count": 102,
   "metadata": {},
   "outputs": [
    {
     "name": "stdout",
     "output_type": "stream",
     "text": [
      "72/72 [==============================] - 1s 3ms/step - loss: 0.7775 - accuracy: 0.6571\n",
      "Test Accuracy: 65.708059\n"
     ]
    }
   ],
   "source": [
    "# Load the best (saved) model\n",
    "saved_model_3 = load_model('best_model3.h5')\n",
    "\n",
    "# Evaluate the model\n",
    "loss, accuracy = saved_model_3.evaluate(X2_test, y2_test)\n",
    "print('Test Accuracy: %f' % (accuracy*100))"
   ]
  },
  {
   "cell_type": "markdown",
   "metadata": {},
   "source": [
    "The sigmoid fuction seems to have performed even more poorely."
   ]
  },
  {
   "cell_type": "code",
   "execution_count": 103,
   "metadata": {},
   "outputs": [
    {
     "data": {
      "image/png": "[encoded data removed]",
      "text/plain": [
       "<Figure size 432x288 with 1 Axes>"
      ]
     },
     "metadata": {
      "needs_background": "light"
     },
     "output_type": "display_data"
    },
    {
     "data": {
      "image/png": "[encoded data removed]",
      "text/plain": [
       "<Figure size 432x288 with 1 Axes>"
      ]
     },
     "metadata": {
      "needs_background": "light"
     },
     "output_type": "display_data"
    }
   ],
   "source": [
    "visualize_training_results(result_3)"
   ]
  },
  {
   "cell_type": "markdown",
   "metadata": {},
   "source": [
    "#### Model 4: Adam optimizaiton"
   ]
  },
  {
   "cell_type": "code",
   "execution_count": 104,
   "metadata": {},
   "outputs": [
    {
     "name": "stdout",
     "output_type": "stream",
     "text": [
      "Model: \"sequential_3\"\n",
      "_________________________________________________________________\n",
      "Layer (type)                 Output Shape              Param #   \n",
      "=================================================================\n",
      "embedding_3 (Embedding)      (None, None, 40)          200000    \n",
      "_________________________________________________________________\n",
      "lstm_3 (LSTM)                (None, 20)                4880      \n",
      "_________________________________________________________________\n",
      "dense_7 (Dense)              (None, 15)                315       \n",
      "_________________________________________________________________\n",
      "dropout_4 (Dropout)          (None, 15)                0         \n",
      "_________________________________________________________________\n",
      "dense_8 (Dense)              (None, 10)                160       \n",
      "_________________________________________________________________\n",
      "dropout_5 (Dropout)          (None, 10)                0         \n",
      "_________________________________________________________________\n",
      "dense_9 (Dense)              (None, 5)                 55        \n",
      "_________________________________________________________________\n",
      "dropout_6 (Dropout)          (None, 5)                 0         \n",
      "_________________________________________________________________\n",
      "dense_10 (Dense)             (None, 3)                 18        \n",
      "=================================================================\n",
      "Total params: 205,428\n",
      "Trainable params: 205,428\n",
      "Non-trainable params: 0\n",
      "_________________________________________________________________\n"
     ]
    }
   ],
   "source": [
    "model4 = Sequential()\n",
    "# Add the embedding layer\n",
    "model4.add(layers.Embedding(max_words, 40))\n",
    "\n",
    "# Add the LSTM layer with dropout\n",
    "model4.add(layers.LSTM(20, dropout=0.3)) \n",
    "\n",
    "# Add second layer using relu activation\n",
    "model4.add(layers.Dense(15, activation='relu'))\n",
    "# Implement dropout to the second hidden layer \n",
    "model4.add(layers.Dropout(0.3))\n",
    "\n",
    "# Add third dense layer using relu activation\n",
    "model4.add(layers.Dense(10, activation='relu'))\n",
    "# Implement dropout to the third hidden layer \n",
    "model4.add(layers.Dropout(0.3))\n",
    "\n",
    "# Add third dense layer using relu activation\n",
    "model4.add(layers.Dense(5, activation='relu'))\n",
    "# Implement dropout to the third hidden layer \n",
    "model4.add(layers.Dropout(0.3))\n",
    "\n",
    "# Final layer using softmax\n",
    "model4.add(layers.Dense(3, activation='softmax'))\n",
    "\n",
    "# Compile the model\n",
    "model4.compile(optimizer='adam',loss='categorical_crossentropy', metrics=['accuracy'])\n",
    "\n",
    "# Inspect the model\n",
    "model4.summary()"
   ]
  },
  {
   "cell_type": "code",
   "execution_count": 105,
   "metadata": {},
   "outputs": [],
   "source": [
    "# Define the callbacks\n",
    "early_stopping_4 = [EarlyStopping(monitor='val_loss', patience=10), \n",
    "                  ModelCheckpoint(filepath='best_model4.h5', monitor='val_loss', save_best_only=True)]"
   ]
  },
  {
   "cell_type": "code",
   "execution_count": 106,
   "metadata": {},
   "outputs": [
    {
     "name": "stdout",
     "output_type": "stream",
     "text": [
      "Epoch 1/50\n",
      "168/168 [==============================] - 5s 15ms/step - loss: 1.0191 - accuracy: 0.5323 - val_loss: 0.8735 - val_accuracy: 0.5699\n",
      "Epoch 2/50\n",
      "168/168 [==============================] - 2s 12ms/step - loss: 0.8949 - accuracy: 0.5436 - val_loss: 0.8461 - val_accuracy: 0.5865\n",
      "Epoch 3/50\n",
      "168/168 [==============================] - 2s 12ms/step - loss: 0.8432 - accuracy: 0.5678 - val_loss: 0.8387 - val_accuracy: 0.6092\n",
      "Epoch 4/50\n",
      "168/168 [==============================] - 2s 13ms/step - loss: 0.7571 - accuracy: 0.6587 - val_loss: 0.8344 - val_accuracy: 0.6209\n",
      "Epoch 5/50\n",
      "168/168 [==============================] - 2s 13ms/step - loss: 0.6972 - accuracy: 0.6948 - val_loss: 0.8512 - val_accuracy: 0.6331\n",
      "Epoch 6/50\n",
      "168/168 [==============================] - 2s 12ms/step - loss: 0.6537 - accuracy: 0.7425 - val_loss: 0.9500 - val_accuracy: 0.6397\n",
      "Epoch 7/50\n",
      "168/168 [==============================] - 2s 12ms/step - loss: 0.6075 - accuracy: 0.7620 - val_loss: 0.9075 - val_accuracy: 0.6383\n",
      "Epoch 8/50\n",
      "168/168 [==============================] - 2s 12ms/step - loss: 0.5897 - accuracy: 0.7622 - val_loss: 1.0545 - val_accuracy: 0.6427\n",
      "Epoch 9/50\n",
      "168/168 [==============================] - 2s 12ms/step - loss: 0.5531 - accuracy: 0.7776 - val_loss: 1.1079 - val_accuracy: 0.6418\n",
      "Epoch 10/50\n",
      "168/168 [==============================] - 2s 12ms/step - loss: 0.5103 - accuracy: 0.8049 - val_loss: 1.1817 - val_accuracy: 0.6436\n",
      "Epoch 11/50\n",
      "168/168 [==============================] - 2s 13ms/step - loss: 0.4827 - accuracy: 0.8139 - val_loss: 1.2086 - val_accuracy: 0.6357\n",
      "Epoch 12/50\n",
      "168/168 [==============================] - 2s 12ms/step - loss: 0.4728 - accuracy: 0.8037 - val_loss: 1.2026 - val_accuracy: 0.6344\n",
      "Epoch 13/50\n",
      "168/168 [==============================] - 2s 12ms/step - loss: 0.4710 - accuracy: 0.8071 - val_loss: 1.4503 - val_accuracy: 0.6471\n",
      "Epoch 14/50\n",
      "168/168 [==============================] - 2s 13ms/step - loss: 0.4258 - accuracy: 0.8240 - val_loss: 1.5359 - val_accuracy: 0.6357\n"
     ]
    }
   ],
   "source": [
    "# Fit the model\n",
    "result_4 = model4.fit(X2_train, y2_train, epochs=50, callbacks=early_stopping_4, validation_data=(X2_test, y2_test))"
   ]
  },
  {
   "cell_type": "code",
   "execution_count": 107,
   "metadata": {},
   "outputs": [
    {
     "name": "stdout",
     "output_type": "stream",
     "text": [
      "72/72 [==============================] - 1s 2ms/step - loss: 0.8344 - accuracy: 0.6209\n",
      "Test Accuracy: 62.091506\n"
     ]
    }
   ],
   "source": [
    "# Load the best (saved) model\n",
    "saved_model_4 = load_model('best_model4.h5')\n",
    "\n",
    "# Evaluate the model\n",
    "loss, accuracy = saved_model_4.evaluate(X2_test, y2_test)\n",
    "print('Test Accuracy: %f' % (accuracy*100))"
   ]
  },
  {
   "cell_type": "markdown",
   "metadata": {},
   "source": [
    "The adam optimizer seems to have performed even more worse."
   ]
  },
  {
   "cell_type": "code",
   "execution_count": 108,
   "metadata": {},
   "outputs": [
    {
     "data": {
      "image/png": "[encoded data removed]",
      "text/plain": [
       "<Figure size 432x288 with 1 Axes>"
      ]
     },
     "metadata": {
      "needs_background": "light"
     },
     "output_type": "display_data"
    },
    {
     "data": {
      "image/png": "[encoded data removed]",
      "text/plain": [
       "<Figure size 432x288 with 1 Axes>"
      ]
     },
     "metadata": {
      "needs_background": "light"
     },
     "output_type": "display_data"
    }
   ],
   "source": [
    "visualize_training_results(result_4)"
   ]
  },
  {
   "cell_type": "markdown",
   "metadata": {},
   "source": [
    "#### Model 5: L2 Regularization"
   ]
  },
  {
   "cell_type": "code",
   "execution_count": 109,
   "metadata": {},
   "outputs": [
    {
     "name": "stdout",
     "output_type": "stream",
     "text": [
      "Model: \"sequential_4\"\n",
      "_________________________________________________________________\n",
      "Layer (type)                 Output Shape              Param #   \n",
      "=================================================================\n",
      "embedding_4 (Embedding)      (None, None, 40)          200000    \n",
      "_________________________________________________________________\n",
      "lstm_4 (LSTM)                (None, 20)                4880      \n",
      "_________________________________________________________________\n",
      "dense_11 (Dense)             (None, 10)                210       \n",
      "_________________________________________________________________\n",
      "dense_12 (Dense)             (None, 3)                 33        \n",
      "=================================================================\n",
      "Total params: 205,123\n",
      "Trainable params: 205,123\n",
      "Non-trainable params: 0\n",
      "_________________________________________________________________\n"
     ]
    }
   ],
   "source": [
    "model5 = Sequential()\n",
    "# Add the embedding layer\n",
    "model5.add(layers.Embedding(max_words, 40))\n",
    "\n",
    "# Add the LSTM layer with dropout\n",
    "model5.add(layers.LSTM(20, dropout=0.3)) \n",
    "\n",
    "# Add second layer using relu activation with l2 regularization\n",
    "model5.add(layers.Dense(10, kernel_regularizer=regularizers.l2(0.005), activation='relu'))\n",
    "\n",
    "# Final layer using softmax\n",
    "model5.add(layers.Dense(3, activation='softmax'))\n",
    "\n",
    "# Compile the model\n",
    "model5.compile(optimizer='rmsprop',loss='categorical_crossentropy', metrics=['accuracy'])\n",
    "\n",
    "# Inspect the model\n",
    "model5.summary()"
   ]
  },
  {
   "cell_type": "code",
   "execution_count": 110,
   "metadata": {},
   "outputs": [
    {
     "name": "stdout",
     "output_type": "stream",
     "text": [
      "Epoch 1/50\n",
      "168/168 [==============================] - 5s 17ms/step - loss: 0.9702 - accuracy: 0.5551 - val_loss: 0.8959 - val_accuracy: 0.5699\n",
      "Epoch 2/50\n",
      "168/168 [==============================] - 2s 11ms/step - loss: 0.8471 - accuracy: 0.5955 - val_loss: 0.8343 - val_accuracy: 0.6065\n",
      "Epoch 3/50\n",
      "168/168 [==============================] - 2s 14ms/step - loss: 0.7595 - accuracy: 0.6738 - val_loss: 0.8271 - val_accuracy: 0.6222\n",
      "Epoch 4/50\n",
      "168/168 [==============================] - 2s 12ms/step - loss: 0.6879 - accuracy: 0.7139 - val_loss: 0.8016 - val_accuracy: 0.6466\n",
      "Epoch 5/50\n",
      "168/168 [==============================] - 2s 13ms/step - loss: 0.6374 - accuracy: 0.7409 - val_loss: 0.8641 - val_accuracy: 0.6523\n",
      "Epoch 6/50\n",
      "168/168 [==============================] - 2s 12ms/step - loss: 0.5796 - accuracy: 0.7641 - val_loss: 0.8231 - val_accuracy: 0.6562\n",
      "Epoch 7/50\n",
      "168/168 [==============================] - 2s 11ms/step - loss: 0.5664 - accuracy: 0.7695 - val_loss: 0.8151 - val_accuracy: 0.6536\n",
      "Epoch 8/50\n",
      "168/168 [==============================] - 2s 11ms/step - loss: 0.5212 - accuracy: 0.8118 - val_loss: 0.8288 - val_accuracy: 0.6505\n",
      "Epoch 9/50\n",
      "168/168 [==============================] - 2s 12ms/step - loss: 0.5155 - accuracy: 0.8064 - val_loss: 0.8401 - val_accuracy: 0.6706\n",
      "Epoch 10/50\n",
      "168/168 [==============================] - 2s 12ms/step - loss: 0.4807 - accuracy: 0.8215 - val_loss: 0.8281 - val_accuracy: 0.6545\n",
      "Epoch 11/50\n",
      "168/168 [==============================] - 2s 11ms/step - loss: 0.4493 - accuracy: 0.8304 - val_loss: 0.9032 - val_accuracy: 0.6632\n",
      "Epoch 12/50\n",
      "168/168 [==============================] - 2s 12ms/step - loss: 0.4520 - accuracy: 0.8291 - val_loss: 0.8871 - val_accuracy: 0.6466\n",
      "Epoch 13/50\n",
      "168/168 [==============================] - 2s 11ms/step - loss: 0.4432 - accuracy: 0.8432 - val_loss: 0.8731 - val_accuracy: 0.6641\n",
      "Epoch 14/50\n",
      "168/168 [==============================] - 2s 12ms/step - loss: 0.4051 - accuracy: 0.8505 - val_loss: 0.8996 - val_accuracy: 0.6466\n"
     ]
    }
   ],
   "source": [
    "# Define the callbacks\n",
    "early_stopping_5 = [EarlyStopping(monitor='val_loss', patience=10), \n",
    "                  ModelCheckpoint(filepath='best_model5.h5', monitor='val_loss', save_best_only=True)]\n",
    "\n",
    "# Fit the model\n",
    "result_5 = model5.fit(X2_train, y2_train, epochs=50, callbacks=early_stopping_5, validation_data=(X2_test, y2_test))"
   ]
  },
  {
   "cell_type": "code",
   "execution_count": 111,
   "metadata": {},
   "outputs": [
    {
     "name": "stdout",
     "output_type": "stream",
     "text": [
      "72/72 [==============================] - 1s 2ms/step - loss: 0.8016 - accuracy: 0.6466\n",
      "Test Accuracy: 64.662308\n"
     ]
    }
   ],
   "source": [
    "# Load the best (saved) model\n",
    "saved_model_5 = load_model('best_model5.h5')\n",
    "\n",
    "# Evaluate the model\n",
    "loss, accuracy = saved_model_5.evaluate(X2_test, y2_test)\n",
    "print('Test Accuracy: %f' % (accuracy*100))"
   ]
  },
  {
   "cell_type": "markdown",
   "metadata": {},
   "source": [
    "We still do not see any improvement in the model."
   ]
  },
  {
   "cell_type": "code",
   "execution_count": 112,
   "metadata": {},
   "outputs": [
    {
     "data": {
      "image/png": "[encoded data removed]",
      "text/plain": [
       "<Figure size 432x288 with 1 Axes>"
      ]
     },
     "metadata": {
      "needs_background": "light"
     },
     "output_type": "display_data"
    },
    {
     "data": {
      "image/png": "[encoded data removed]",
      "text/plain": [
       "<Figure size 432x288 with 1 Axes>"
      ]
     },
     "metadata": {
      "needs_background": "light"
     },
     "output_type": "display_data"
    }
   ],
   "source": [
    "visualize_training_results(result_5)"
   ]
  },
  {
   "cell_type": "markdown",
   "metadata": {},
   "source": [
    "#### Model 6: L1 Regularization"
   ]
  },
  {
   "cell_type": "code",
   "execution_count": 113,
   "metadata": {},
   "outputs": [
    {
     "name": "stdout",
     "output_type": "stream",
     "text": [
      "Model: \"sequential_5\"\n",
      "_________________________________________________________________\n",
      "Layer (type)                 Output Shape              Param #   \n",
      "=================================================================\n",
      "embedding_5 (Embedding)      (None, None, 40)          200000    \n",
      "_________________________________________________________________\n",
      "lstm_5 (LSTM)                (None, 20)                4880      \n",
      "_________________________________________________________________\n",
      "dense_13 (Dense)             (None, 10)                210       \n",
      "_________________________________________________________________\n",
      "dense_14 (Dense)             (None, 3)                 33        \n",
      "=================================================================\n",
      "Total params: 205,123\n",
      "Trainable params: 205,123\n",
      "Non-trainable params: 0\n",
      "_________________________________________________________________\n"
     ]
    }
   ],
   "source": [
    "model6 = Sequential()\n",
    "# Add the embedding layer\n",
    "model6.add(layers.Embedding(max_words, 40))\n",
    "\n",
    "# Add the LSTM layer with dropout\n",
    "model6.add(layers.LSTM(20, dropout=0.3)) \n",
    "\n",
    "# Add second layer using relu activation with l2 regularization\n",
    "model6.add(layers.Dense(10, kernel_regularizer=regularizers.l1(0.005), activation='relu'))\n",
    "\n",
    "# Final layer using sigmoid\n",
    "model6.add(layers.Dense(3, activation='sigmoid'))\n",
    "\n",
    "# Compile the model\n",
    "model6.compile(optimizer='rmsprop',loss='categorical_crossentropy', metrics=['accuracy'])\n",
    "\n",
    "# Inspect the model\n",
    "model6.summary()"
   ]
  },
  {
   "cell_type": "code",
   "execution_count": 114,
   "metadata": {},
   "outputs": [
    {
     "name": "stdout",
     "output_type": "stream",
     "text": [
      "Epoch 1/50\n",
      "168/168 [==============================] - 5s 14ms/step - loss: 1.1080 - accuracy: 0.5518 - val_loss: 0.9947 - val_accuracy: 0.5699\n",
      "Epoch 2/50\n",
      "168/168 [==============================] - 2s 13ms/step - loss: 0.9321 - accuracy: 0.5936 - val_loss: 0.9086 - val_accuracy: 0.5882\n",
      "Epoch 3/50\n",
      "168/168 [==============================] - 2s 12ms/step - loss: 0.8299 - accuracy: 0.6599 - val_loss: 0.8672 - val_accuracy: 0.6161\n",
      "Epoch 4/50\n",
      "168/168 [==============================] - 2s 13ms/step - loss: 0.7588 - accuracy: 0.7044 - val_loss: 0.8708 - val_accuracy: 0.6444\n",
      "Epoch 5/50\n",
      "168/168 [==============================] - 2s 11ms/step - loss: 0.7042 - accuracy: 0.7262 - val_loss: 0.9078 - val_accuracy: 0.6436\n",
      "Epoch 6/50\n",
      "168/168 [==============================] - 2s 11ms/step - loss: 0.6555 - accuracy: 0.7505 - val_loss: 0.8428 - val_accuracy: 0.6462\n",
      "Epoch 7/50\n",
      "168/168 [==============================] - 2s 11ms/step - loss: 0.6370 - accuracy: 0.7559 - val_loss: 0.8640 - val_accuracy: 0.6497\n",
      "Epoch 8/50\n",
      "168/168 [==============================] - 2s 11ms/step - loss: 0.5925 - accuracy: 0.7720 - val_loss: 0.8331 - val_accuracy: 0.6545\n",
      "Epoch 9/50\n",
      "168/168 [==============================] - 2s 11ms/step - loss: 0.5695 - accuracy: 0.7945 - val_loss: 0.8852 - val_accuracy: 0.6462\n",
      "Epoch 10/50\n",
      "168/168 [==============================] - 2s 11ms/step - loss: 0.5491 - accuracy: 0.7989 - val_loss: 0.8653 - val_accuracy: 0.6636\n",
      "Epoch 11/50\n",
      "168/168 [==============================] - 2s 11ms/step - loss: 0.5140 - accuracy: 0.8208 - val_loss: 0.8826 - val_accuracy: 0.6693\n",
      "Epoch 12/50\n",
      "168/168 [==============================] - 2s 11ms/step - loss: 0.4951 - accuracy: 0.8267 - val_loss: 0.8655 - val_accuracy: 0.6667\n",
      "Epoch 13/50\n",
      "168/168 [==============================] - 2s 11ms/step - loss: 0.5106 - accuracy: 0.8250 - val_loss: 0.9041 - val_accuracy: 0.6610\n",
      "Epoch 14/50\n",
      "168/168 [==============================] - 2s 11ms/step - loss: 0.4804 - accuracy: 0.8378 - val_loss: 0.9107 - val_accuracy: 0.6671\n",
      "Epoch 15/50\n",
      "168/168 [==============================] - 2s 11ms/step - loss: 0.4511 - accuracy: 0.8444 - val_loss: 0.8704 - val_accuracy: 0.6619\n",
      "Epoch 16/50\n",
      "168/168 [==============================] - 2s 11ms/step - loss: 0.4412 - accuracy: 0.8603 - val_loss: 0.9210 - val_accuracy: 0.6545\n",
      "Epoch 17/50\n",
      "168/168 [==============================] - 2s 11ms/step - loss: 0.4346 - accuracy: 0.8491 - val_loss: 0.9229 - val_accuracy: 0.6523\n",
      "Epoch 18/50\n",
      "168/168 [==============================] - 2s 12ms/step - loss: 0.4184 - accuracy: 0.8694 - val_loss: 0.9169 - val_accuracy: 0.6510\n"
     ]
    }
   ],
   "source": [
    "# Define the callbacks\n",
    "early_stopping_6 = [EarlyStopping(monitor='val_loss', patience=10), \n",
    "                  ModelCheckpoint(filepath='best_model6.h5', monitor='val_loss', save_best_only=True)]\n",
    "\n",
    "# Fit the model\n",
    "result_6 = model6.fit(X2_train, y2_train, epochs=50, callbacks=early_stopping_6, validation_data=(X2_test, y2_test))"
   ]
  },
  {
   "cell_type": "code",
   "execution_count": 115,
   "metadata": {},
   "outputs": [
    {
     "name": "stdout",
     "output_type": "stream",
     "text": [
      "72/72 [==============================] - 1s 2ms/step - loss: 0.8331 - accuracy: 0.6545\n",
      "Test Accuracy: 65.446621\n"
     ]
    }
   ],
   "source": [
    "# Load the best (saved) model\n",
    "saved_model_6 = load_model('best_model6.h5')\n",
    "\n",
    "# Evaluate the model\n",
    "loss, accuracy = saved_model_6.evaluate(X2_test, y2_test)\n",
    "print('Test Accuracy: %f' % (accuracy*100))"
   ]
  },
  {
   "cell_type": "code",
   "execution_count": 116,
   "metadata": {},
   "outputs": [
    {
     "data": {
      "image/png": "[encoded data removed]",
      "text/plain": [
       "<Figure size 432x288 with 1 Axes>"
      ]
     },
     "metadata": {
      "needs_background": "light"
     },
     "output_type": "display_data"
    },
    {
     "data": {
      "image/png": "[encoded data removed]",
      "text/plain": [
       "<Figure size 432x288 with 1 Axes>"
      ]
     },
     "metadata": {
      "needs_background": "light"
     },
     "output_type": "display_data"
    },
    {
     "data": {
      "text/plain": [
       "<Figure size 432x288 with 0 Axes>"
      ]
     },
     "metadata": {},
     "output_type": "display_data"
    }
   ],
   "source": [
    "visualize_training_results(result_6)\n",
    "plt.savefig(r'final_model.jpg', bbox_inches='tight');"
   ]
  },
  {
   "cell_type": "markdown",
   "metadata": {},
   "source": [
    "Model 6 seems to have performed the best at 65.44% test accuracy. The difference between training and test accuracy confirms that our model has overfit. Trying different loss fuctions and adding multiple layers does not seem to improve our model. This means that our data is just not enough to train our model effectively and predict better results. "
   ]
  },
  {
   "cell_type": "markdown",
   "metadata": {},
   "source": [
    "We will finalize our model with LSTM architecture using L1 regularization parameter and sigmoid as it's activation function."
   ]
  },
  {
   "cell_type": "markdown",
   "metadata": {},
   "source": [
    "### Model Testing"
   ]
  },
  {
   "cell_type": "code",
   "execution_count": 122,
   "metadata": {},
   "outputs": [
    {
     "name": "stdout",
     "output_type": "stream",
     "text": [
      ".@mention Problem with Google Living Stories was the process of creating content didn't change - was just an interface. #hacknews #SXSW\n",
      "\n",
      " Predicted Class = Negative\n",
      "Actual Class = 2\n"
     ]
    }
   ],
   "source": [
    "# Pick a random tweet\n",
    "random_index = random.randint(5000)\n",
    "\n",
    "sample_tweet = df_clean['tweet_text'].iloc[random_index]\n",
    "sample_label = df_clean['emotion'].iloc[random_index]\n",
    "\n",
    "# Use the model to predict a review \n",
    "print(sample_tweet) \n",
    "\n",
    "# Label final categories\n",
    "sentiment = ['Neutral','Positive', 'Negative']\n",
    "\n",
    "# Create the sequences\n",
    "sample_sequences = tokenizer.texts_to_sequences(sample_tweet)\n",
    "sample_padded = pad_sequences(sample_sequences, padding='post', maxlen=max_len)           \n",
    "\n",
    "Prediction = sentiment[np.around(model6.predict(sample_padded), decimals=0).argmax(axis=1)[0]]\n",
    "print('\\n', 'Predicted Class =', Prediction)\n",
    "print('Actual Class =', sample_label)"
   ]
  },
  {
   "cell_type": "code",
   "execution_count": null,
   "metadata": {},
   "outputs": [],
   "source": []
  }
 ],
 "metadata": {
  "kernelspec": {
   "display_name": "Python 3",
   "language": "python",
   "name": "python3"
  },
  "language_info": {
   "codemirror_mode": {
    "name": "ipython",
    "version": 3
   },
   "file_extension": ".py",
   "mimetype": "text/x-python",
   "name": "python",
   "nbconvert_exporter": "python",
   "pygments_lexer": "ipython3",
   "version": "3.8.5"
  }
 },
 "nbformat": 4,
 "nbformat_minor": 4
}
